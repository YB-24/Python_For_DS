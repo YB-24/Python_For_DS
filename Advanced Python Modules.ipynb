{
 "cells": [
  {
   "cell_type": "markdown",
   "id": "5e838c34",
   "metadata": {},
   "source": [
    "### Collection Modules"
   ]
  },
  {
   "cell_type": "markdown",
   "id": "b1afb84c",
   "metadata": {},
   "source": [
    "###### Counter"
   ]
  },
  {
   "cell_type": "code",
   "execution_count": 1,
   "id": "012fa392",
   "metadata": {},
   "outputs": [],
   "source": [
    "from collections import Counter"
   ]
  },
  {
   "cell_type": "code",
   "execution_count": 2,
   "id": "b2420dcc",
   "metadata": {},
   "outputs": [],
   "source": [
    "l = [1,1,1,1,2,2,3,3,3,3,3,5,5,5,5]"
   ]
  },
  {
   "cell_type": "code",
   "execution_count": 3,
   "id": "1783baed",
   "metadata": {},
   "outputs": [
    {
     "data": {
      "text/plain": [
       "Counter({3: 5, 1: 4, 5: 4, 2: 2})"
      ]
     },
     "execution_count": 3,
     "metadata": {},
     "output_type": "execute_result"
    }
   ],
   "source": [
    "Counter(l)"
   ]
  },
  {
   "cell_type": "code",
   "execution_count": 4,
   "id": "22aa00fa",
   "metadata": {},
   "outputs": [],
   "source": [
    "mylist = ['a','a',2,2,3,5,5]"
   ]
  },
  {
   "cell_type": "code",
   "execution_count": 5,
   "id": "8780732a",
   "metadata": {},
   "outputs": [
    {
     "data": {
      "text/plain": [
       "Counter({'a': 2, 2: 2, 5: 2, 3: 1})"
      ]
     },
     "execution_count": 5,
     "metadata": {},
     "output_type": "execute_result"
    }
   ],
   "source": [
    "Counter(mylist)"
   ]
  },
  {
   "cell_type": "code",
   "execution_count": 6,
   "id": "fc85b18b",
   "metadata": {},
   "outputs": [
    {
     "data": {
      "text/plain": [
       "Counter({'h': 7, 'a': 5, 'b': 3, 'u': 3, 'f': 2, 's': 2, 'd': 2, 'i': 1})"
      ]
     },
     "execution_count": 6,
     "metadata": {},
     "output_type": "execute_result"
    }
   ],
   "source": [
    "Counter('aaaaabbbhfisfudshhhhdhhuu')"
   ]
  },
  {
   "cell_type": "code",
   "execution_count": 9,
   "id": "1713baaf",
   "metadata": {},
   "outputs": [],
   "source": [
    "sentence = 'this is the babY sound of ajay Atul. Bring it on babY'"
   ]
  },
  {
   "cell_type": "code",
   "execution_count": 10,
   "id": "61510d48",
   "metadata": {},
   "outputs": [
    {
     "data": {
      "text/plain": [
       "Counter({'babY': 2,\n",
       "         'this': 1,\n",
       "         'is': 1,\n",
       "         'the': 1,\n",
       "         'sound': 1,\n",
       "         'of': 1,\n",
       "         'ajay': 1,\n",
       "         'Atul.': 1,\n",
       "         'Bring': 1,\n",
       "         'it': 1,\n",
       "         'on': 1})"
      ]
     },
     "execution_count": 10,
     "metadata": {},
     "output_type": "execute_result"
    }
   ],
   "source": [
    "Counter(sentence.split())"
   ]
  },
  {
   "cell_type": "code",
   "execution_count": 11,
   "id": "772dda4c",
   "metadata": {},
   "outputs": [],
   "source": [
    "letters = 'aaaabbbbbbbbbcccdddefjgiiii'"
   ]
  },
  {
   "cell_type": "code",
   "execution_count": 12,
   "id": "418ff6fe",
   "metadata": {},
   "outputs": [],
   "source": [
    "c = Counter(letters)"
   ]
  },
  {
   "cell_type": "code",
   "execution_count": 13,
   "id": "69f8469f",
   "metadata": {},
   "outputs": [
    {
     "data": {
      "text/plain": [
       "Counter({'b': 9,\n",
       "         'a': 4,\n",
       "         'i': 4,\n",
       "         'c': 3,\n",
       "         'd': 3,\n",
       "         'e': 1,\n",
       "         'f': 1,\n",
       "         'j': 1,\n",
       "         'g': 1})"
      ]
     },
     "execution_count": 13,
     "metadata": {},
     "output_type": "execute_result"
    }
   ],
   "source": [
    "c"
   ]
  },
  {
   "cell_type": "code",
   "execution_count": 14,
   "id": "8b79c038",
   "metadata": {},
   "outputs": [
    {
     "data": {
      "text/plain": [
       "[('b', 9),\n",
       " ('a', 4),\n",
       " ('i', 4),\n",
       " ('c', 3),\n",
       " ('d', 3),\n",
       " ('e', 1),\n",
       " ('f', 1),\n",
       " ('j', 1),\n",
       " ('g', 1)]"
      ]
     },
     "execution_count": 14,
     "metadata": {},
     "output_type": "execute_result"
    }
   ],
   "source": [
    "c.most_common()"
   ]
  },
  {
   "cell_type": "code",
   "execution_count": 15,
   "id": "c14bf599",
   "metadata": {},
   "outputs": [
    {
     "data": {
      "text/plain": [
       "[('b', 9), ('a', 4)]"
      ]
     },
     "execution_count": 15,
     "metadata": {},
     "output_type": "execute_result"
    }
   ],
   "source": [
    "c.most_common(2)"
   ]
  },
  {
   "cell_type": "code",
   "execution_count": 16,
   "id": "2d76bec4",
   "metadata": {},
   "outputs": [
    {
     "data": {
      "text/plain": [
       "['a', 'b', 'c', 'd', 'e', 'f', 'j', 'g', 'i']"
      ]
     },
     "execution_count": 16,
     "metadata": {},
     "output_type": "execute_result"
    }
   ],
   "source": [
    "list(c)"
   ]
  },
  {
   "cell_type": "markdown",
   "id": "cc01d4f7",
   "metadata": {},
   "source": [
    "###### Default Dictionary"
   ]
  },
  {
   "cell_type": "code",
   "execution_count": 17,
   "id": "ac56ca34",
   "metadata": {},
   "outputs": [],
   "source": [
    "from collections import defaultdict"
   ]
  },
  {
   "cell_type": "code",
   "execution_count": 18,
   "id": "3dabfbc9",
   "metadata": {},
   "outputs": [],
   "source": [
    "d = {'a':25, 'b':35}"
   ]
  },
  {
   "cell_type": "code",
   "execution_count": 19,
   "id": "c6b18bf7",
   "metadata": {},
   "outputs": [
    {
     "data": {
      "text/plain": [
       "35"
      ]
     },
     "execution_count": 19,
     "metadata": {},
     "output_type": "execute_result"
    }
   ],
   "source": [
    "d['b']"
   ]
  },
  {
   "cell_type": "code",
   "execution_count": 20,
   "id": "585f5f58",
   "metadata": {},
   "outputs": [
    {
     "ename": "KeyError",
     "evalue": "'wrong'",
     "output_type": "error",
     "traceback": [
      "\u001b[1;31m---------------------------------------------------------------------------\u001b[0m",
      "\u001b[1;31mKeyError\u001b[0m                                  Traceback (most recent call last)",
      "Cell \u001b[1;32mIn[20], line 1\u001b[0m\n\u001b[1;32m----> 1\u001b[0m d[\u001b[38;5;124m'\u001b[39m\u001b[38;5;124mwrong\u001b[39m\u001b[38;5;124m'\u001b[39m]\n",
      "\u001b[1;31mKeyError\u001b[0m: 'wrong'"
     ]
    }
   ],
   "source": [
    "d['wrong']"
   ]
  },
  {
   "cell_type": "code",
   "execution_count": 21,
   "id": "b7912ed3",
   "metadata": {},
   "outputs": [],
   "source": [
    "#in order to solve the problem we use default dictionary\n",
    "d = defaultdict(lambda :0)  #this will give us value 0 when key is not present "
   ]
  },
  {
   "cell_type": "code",
   "execution_count": 22,
   "id": "0ad11f62",
   "metadata": {},
   "outputs": [],
   "source": [
    "d['correct']=100"
   ]
  },
  {
   "cell_type": "code",
   "execution_count": 23,
   "id": "de13f752",
   "metadata": {},
   "outputs": [
    {
     "data": {
      "text/plain": [
       "100"
      ]
     },
     "execution_count": 23,
     "metadata": {},
     "output_type": "execute_result"
    }
   ],
   "source": [
    "d['correct']"
   ]
  },
  {
   "cell_type": "code",
   "execution_count": 24,
   "id": "a5c98f59",
   "metadata": {},
   "outputs": [
    {
     "data": {
      "text/plain": [
       "0"
      ]
     },
     "execution_count": 24,
     "metadata": {},
     "output_type": "execute_result"
    }
   ],
   "source": [
    "d['wrong']"
   ]
  },
  {
   "cell_type": "code",
   "execution_count": 25,
   "id": "dbd69199",
   "metadata": {},
   "outputs": [
    {
     "data": {
      "text/plain": [
       "defaultdict(<function __main__.<lambda>()>, {'correct': 100, 'wrong': 0})"
      ]
     },
     "execution_count": 25,
     "metadata": {},
     "output_type": "execute_result"
    }
   ],
   "source": [
    "d"
   ]
  },
  {
   "cell_type": "markdown",
   "id": "216d14c1",
   "metadata": {},
   "source": [
    "###### Named Tuple"
   ]
  },
  {
   "cell_type": "code",
   "execution_count": 26,
   "id": "35e4c255",
   "metadata": {},
   "outputs": [],
   "source": [
    "mytuple = (10,20,30)"
   ]
  },
  {
   "cell_type": "code",
   "execution_count": 27,
   "id": "9815cf23",
   "metadata": {},
   "outputs": [
    {
     "data": {
      "text/plain": [
       "10"
      ]
     },
     "execution_count": 27,
     "metadata": {},
     "output_type": "execute_result"
    }
   ],
   "source": [
    "mytuple[0]   #its hectic to remember the indexing "
   ]
  },
  {
   "cell_type": "code",
   "execution_count": 28,
   "id": "d881ce8c",
   "metadata": {},
   "outputs": [],
   "source": [
    "from collections import namedtuple"
   ]
  },
  {
   "cell_type": "code",
   "execution_count": 29,
   "id": "6fc35a41",
   "metadata": {},
   "outputs": [],
   "source": [
    "Dog = namedtuple('Dog',['breed','name','age'])"
   ]
  },
  {
   "cell_type": "code",
   "execution_count": 30,
   "id": "e3461fc0",
   "metadata": {},
   "outputs": [],
   "source": [
    "d = Dog('lab','nik',32)"
   ]
  },
  {
   "cell_type": "code",
   "execution_count": 42,
   "id": "34d41891",
   "metadata": {},
   "outputs": [
    {
     "data": {
      "text/plain": [
       "Dog(breed='lab', name='nik', age=32)"
      ]
     },
     "execution_count": 42,
     "metadata": {},
     "output_type": "execute_result"
    }
   ],
   "source": [
    "d"
   ]
  },
  {
   "cell_type": "code",
   "execution_count": 33,
   "id": "3864199f",
   "metadata": {},
   "outputs": [
    {
     "data": {
      "text/plain": [
       "32"
      ]
     },
     "execution_count": 33,
     "metadata": {},
     "output_type": "execute_result"
    }
   ],
   "source": [
    "d.age"
   ]
  },
  {
   "cell_type": "code",
   "execution_count": 34,
   "id": "185d2fa0",
   "metadata": {},
   "outputs": [
    {
     "data": {
      "text/plain": [
       "'lab'"
      ]
     },
     "execution_count": 34,
     "metadata": {},
     "output_type": "execute_result"
    }
   ],
   "source": [
    "d.breed"
   ]
  },
  {
   "cell_type": "code",
   "execution_count": 35,
   "id": "3aa3c037",
   "metadata": {},
   "outputs": [
    {
     "data": {
      "text/plain": [
       "'nik'"
      ]
     },
     "execution_count": 35,
     "metadata": {},
     "output_type": "execute_result"
    }
   ],
   "source": [
    "d.name"
   ]
  },
  {
   "cell_type": "code",
   "execution_count": 37,
   "id": "33bc6f07",
   "metadata": {},
   "outputs": [
    {
     "data": {
      "text/plain": [
       "1"
      ]
     },
     "execution_count": 37,
     "metadata": {},
     "output_type": "execute_result"
    }
   ],
   "source": [
    "d.count(32)"
   ]
  },
  {
   "cell_type": "code",
   "execution_count": 41,
   "id": "cf01e7cf",
   "metadata": {},
   "outputs": [
    {
     "data": {
      "text/plain": [
       "'lab'"
      ]
     },
     "execution_count": 41,
     "metadata": {},
     "output_type": "execute_result"
    }
   ],
   "source": [
    "d[0]"
   ]
  },
  {
   "cell_type": "markdown",
   "id": "a2010992",
   "metadata": {},
   "source": [
    "### DateTime Module"
   ]
  },
  {
   "cell_type": "code",
   "execution_count": 1,
   "id": "aadeaae0",
   "metadata": {},
   "outputs": [],
   "source": [
    "import datetime"
   ]
  },
  {
   "cell_type": "code",
   "execution_count": 4,
   "id": "bc5855ab",
   "metadata": {},
   "outputs": [],
   "source": [
    "mytime = datetime.time(20,30,20)"
   ]
  },
  {
   "cell_type": "code",
   "execution_count": 6,
   "id": "5b32200c",
   "metadata": {},
   "outputs": [
    {
     "name": "stdout",
     "output_type": "stream",
     "text": [
      "20:30:20\n"
     ]
    }
   ],
   "source": [
    "print(mytime)"
   ]
  },
  {
   "cell_type": "code",
   "execution_count": 7,
   "id": "1466f2c0",
   "metadata": {},
   "outputs": [
    {
     "data": {
      "text/plain": [
       "20"
      ]
     },
     "execution_count": 7,
     "metadata": {},
     "output_type": "execute_result"
    }
   ],
   "source": [
    "mytime.hour"
   ]
  },
  {
   "cell_type": "code",
   "execution_count": 8,
   "id": "48a95cf0",
   "metadata": {},
   "outputs": [
    {
     "data": {
      "text/plain": [
       "0"
      ]
     },
     "execution_count": 8,
     "metadata": {},
     "output_type": "execute_result"
    }
   ],
   "source": [
    "mytime.microsecond"
   ]
  },
  {
   "cell_type": "code",
   "execution_count": 9,
   "id": "02400d16",
   "metadata": {},
   "outputs": [
    {
     "data": {
      "text/plain": [
       "datetime.time"
      ]
     },
     "execution_count": 9,
     "metadata": {},
     "output_type": "execute_result"
    }
   ],
   "source": [
    "type(mytime)"
   ]
  },
  {
   "cell_type": "code",
   "execution_count": 12,
   "id": "dd8d5e02",
   "metadata": {},
   "outputs": [],
   "source": [
    "mydate = datetime.date.today()"
   ]
  },
  {
   "cell_type": "code",
   "execution_count": 13,
   "id": "0f74ec9a",
   "metadata": {},
   "outputs": [
    {
     "name": "stdout",
     "output_type": "stream",
     "text": [
      "2024-01-19\n"
     ]
    }
   ],
   "source": [
    "print(mydate)"
   ]
  },
  {
   "cell_type": "code",
   "execution_count": 14,
   "id": "9fece3d7",
   "metadata": {},
   "outputs": [
    {
     "data": {
      "text/plain": [
       "2024"
      ]
     },
     "execution_count": 14,
     "metadata": {},
     "output_type": "execute_result"
    }
   ],
   "source": [
    "mydate.year"
   ]
  },
  {
   "cell_type": "code",
   "execution_count": 15,
   "id": "86cc9b1c",
   "metadata": {},
   "outputs": [
    {
     "data": {
      "text/plain": [
       "19"
      ]
     },
     "execution_count": 15,
     "metadata": {},
     "output_type": "execute_result"
    }
   ],
   "source": [
    "mydate.day"
   ]
  },
  {
   "cell_type": "code",
   "execution_count": 16,
   "id": "10abd5f6",
   "metadata": {},
   "outputs": [
    {
     "data": {
      "text/plain": [
       "'Fri Jan 19 00:00:00 2024'"
      ]
     },
     "execution_count": 16,
     "metadata": {},
     "output_type": "execute_result"
    }
   ],
   "source": [
    "mydate.ctime()"
   ]
  },
  {
   "cell_type": "code",
   "execution_count": 17,
   "id": "78497981",
   "metadata": {},
   "outputs": [],
   "source": [
    "from datetime import datetime"
   ]
  },
  {
   "cell_type": "code",
   "execution_count": 18,
   "id": "75fa6d44",
   "metadata": {},
   "outputs": [],
   "source": [
    "mydatetime = datetime(2024,1,19,20,25,35)"
   ]
  },
  {
   "cell_type": "code",
   "execution_count": 19,
   "id": "7cd71df7",
   "metadata": {},
   "outputs": [
    {
     "name": "stdout",
     "output_type": "stream",
     "text": [
      "2024-01-19 20:25:35\n"
     ]
    }
   ],
   "source": [
    "print(mydatetime)"
   ]
  },
  {
   "cell_type": "code",
   "execution_count": 20,
   "id": "1285be87",
   "metadata": {},
   "outputs": [],
   "source": [
    "mydatetime=mydatetime.replace(year=2023)"
   ]
  },
  {
   "cell_type": "code",
   "execution_count": 21,
   "id": "05b1a97f",
   "metadata": {},
   "outputs": [
    {
     "data": {
      "text/plain": [
       "datetime.datetime(2023, 1, 19, 20, 25, 35)"
      ]
     },
     "execution_count": 21,
     "metadata": {},
     "output_type": "execute_result"
    }
   ],
   "source": [
    "mydatetime"
   ]
  },
  {
   "cell_type": "code",
   "execution_count": 22,
   "id": "60539cd6",
   "metadata": {},
   "outputs": [],
   "source": [
    "from datetime import date"
   ]
  },
  {
   "cell_type": "code",
   "execution_count": 24,
   "id": "5b792984",
   "metadata": {},
   "outputs": [],
   "source": [
    "date1 = date(2023,2,24)\n",
    "date2 = date(2026,2,25)"
   ]
  },
  {
   "cell_type": "code",
   "execution_count": 26,
   "id": "7196297c",
   "metadata": {},
   "outputs": [],
   "source": [
    "result = date2 - date1"
   ]
  },
  {
   "cell_type": "code",
   "execution_count": 27,
   "id": "3ead3992",
   "metadata": {},
   "outputs": [
    {
     "data": {
      "text/plain": [
       "datetime.timedelta"
      ]
     },
     "execution_count": 27,
     "metadata": {},
     "output_type": "execute_result"
    }
   ],
   "source": [
    "type(result)"
   ]
  },
  {
   "cell_type": "code",
   "execution_count": 29,
   "id": "8ef256d7",
   "metadata": {},
   "outputs": [
    {
     "data": {
      "text/plain": [
       "1097"
      ]
     },
     "execution_count": 29,
     "metadata": {},
     "output_type": "execute_result"
    }
   ],
   "source": [
    "result.days"
   ]
  },
  {
   "cell_type": "code",
   "execution_count": 32,
   "id": "6dbc39e0",
   "metadata": {},
   "outputs": [
    {
     "data": {
      "text/plain": [
       "0"
      ]
     },
     "execution_count": 32,
     "metadata": {},
     "output_type": "execute_result"
    }
   ],
   "source": [
    "result.seconds"
   ]
  },
  {
   "cell_type": "code",
   "execution_count": 34,
   "id": "13369944",
   "metadata": {},
   "outputs": [
    {
     "data": {
      "text/plain": [
       "94780800.0"
      ]
     },
     "execution_count": 34,
     "metadata": {},
     "output_type": "execute_result"
    }
   ],
   "source": [
    "result.total_seconds()"
   ]
  },
  {
   "cell_type": "code",
   "execution_count": 35,
   "id": "ef7af9b8",
   "metadata": {},
   "outputs": [],
   "source": [
    "datetime1 = datetime(2023,2,24,20,15,30,65)\n",
    "datetime2 = datetime(2026,2,25,1,35,6,100)"
   ]
  },
  {
   "cell_type": "code",
   "execution_count": 36,
   "id": "fc0671cc",
   "metadata": {},
   "outputs": [],
   "source": [
    "res = datetime2-datetime1"
   ]
  },
  {
   "cell_type": "code",
   "execution_count": 37,
   "id": "f89764f2",
   "metadata": {},
   "outputs": [
    {
     "data": {
      "text/plain": [
       "datetime.timedelta"
      ]
     },
     "execution_count": 37,
     "metadata": {},
     "output_type": "execute_result"
    }
   ],
   "source": [
    "type(res)"
   ]
  },
  {
   "cell_type": "code",
   "execution_count": 38,
   "id": "7b33a87b",
   "metadata": {},
   "outputs": [
    {
     "data": {
      "text/plain": [
       "datetime.timedelta(days=1096, seconds=19176, microseconds=35)"
      ]
     },
     "execution_count": 38,
     "metadata": {},
     "output_type": "execute_result"
    }
   ],
   "source": [
    "res"
   ]
  },
  {
   "cell_type": "code",
   "execution_count": 39,
   "id": "9232cbe5",
   "metadata": {},
   "outputs": [
    {
     "data": {
      "text/plain": [
       "19176"
      ]
     },
     "execution_count": 39,
     "metadata": {},
     "output_type": "execute_result"
    }
   ],
   "source": [
    "res.seconds"
   ]
  },
  {
   "cell_type": "code",
   "execution_count": 41,
   "id": "57973a32",
   "metadata": {},
   "outputs": [
    {
     "data": {
      "text/plain": [
       "94713576.000035"
      ]
     },
     "execution_count": 41,
     "metadata": {},
     "output_type": "execute_result"
    }
   ],
   "source": [
    "res.total_seconds()"
   ]
  },
  {
   "cell_type": "code",
   "execution_count": 42,
   "id": "2adee7f0",
   "metadata": {},
   "outputs": [
    {
     "data": {
      "text/plain": [
       "1096"
      ]
     },
     "execution_count": 42,
     "metadata": {},
     "output_type": "execute_result"
    }
   ],
   "source": [
    "res.days"
   ]
  },
  {
   "cell_type": "markdown",
   "id": "6a3d0a79",
   "metadata": {},
   "source": [
    "### Math and Random Module"
   ]
  },
  {
   "cell_type": "code",
   "execution_count": 43,
   "id": "1896f2cb",
   "metadata": {},
   "outputs": [],
   "source": [
    "import math"
   ]
  },
  {
   "cell_type": "code",
   "execution_count": 46,
   "id": "ac4423c0",
   "metadata": {},
   "outputs": [],
   "source": [
    "#help(math)    #for module information"
   ]
  },
  {
   "cell_type": "code",
   "execution_count": 47,
   "id": "dc92935f",
   "metadata": {},
   "outputs": [],
   "source": [
    "val = 4.35"
   ]
  },
  {
   "cell_type": "code",
   "execution_count": 48,
   "id": "afcddbe9",
   "metadata": {},
   "outputs": [
    {
     "data": {
      "text/plain": [
       "4"
      ]
     },
     "execution_count": 48,
     "metadata": {},
     "output_type": "execute_result"
    }
   ],
   "source": [
    "math.floor(val)"
   ]
  },
  {
   "cell_type": "code",
   "execution_count": 49,
   "id": "8e500830",
   "metadata": {},
   "outputs": [
    {
     "data": {
      "text/plain": [
       "5"
      ]
     },
     "execution_count": 49,
     "metadata": {},
     "output_type": "execute_result"
    }
   ],
   "source": [
    "math.ceil(val)"
   ]
  },
  {
   "cell_type": "code",
   "execution_count": 50,
   "id": "71e35932",
   "metadata": {},
   "outputs": [
    {
     "data": {
      "text/plain": [
       "4"
      ]
     },
     "execution_count": 50,
     "metadata": {},
     "output_type": "execute_result"
    }
   ],
   "source": [
    "round(val)"
   ]
  },
  {
   "cell_type": "code",
   "execution_count": 51,
   "id": "8ffb2191",
   "metadata": {},
   "outputs": [
    {
     "data": {
      "text/plain": [
       "4.35"
      ]
     },
     "execution_count": 51,
     "metadata": {},
     "output_type": "execute_result"
    }
   ],
   "source": [
    "val"
   ]
  },
  {
   "cell_type": "code",
   "execution_count": 52,
   "id": "ddb13176",
   "metadata": {},
   "outputs": [
    {
     "data": {
      "text/plain": [
       "3.141592653589793"
      ]
     },
     "execution_count": 52,
     "metadata": {},
     "output_type": "execute_result"
    }
   ],
   "source": [
    "math.pi"
   ]
  },
  {
   "cell_type": "code",
   "execution_count": 54,
   "id": "fa673a41",
   "metadata": {},
   "outputs": [],
   "source": [
    "from math import pi"
   ]
  },
  {
   "cell_type": "code",
   "execution_count": 55,
   "id": "041a78c4",
   "metadata": {},
   "outputs": [
    {
     "data": {
      "text/plain": [
       "3.141592653589793"
      ]
     },
     "execution_count": 55,
     "metadata": {},
     "output_type": "execute_result"
    }
   ],
   "source": [
    "pi"
   ]
  },
  {
   "cell_type": "code",
   "execution_count": 53,
   "id": "f967b32d",
   "metadata": {},
   "outputs": [
    {
     "data": {
      "text/plain": [
       "2.718281828459045"
      ]
     },
     "execution_count": 53,
     "metadata": {},
     "output_type": "execute_result"
    }
   ],
   "source": [
    "math.e"
   ]
  },
  {
   "cell_type": "code",
   "execution_count": 56,
   "id": "b18335da",
   "metadata": {},
   "outputs": [
    {
     "data": {
      "text/plain": [
       "inf"
      ]
     },
     "execution_count": 56,
     "metadata": {},
     "output_type": "execute_result"
    }
   ],
   "source": [
    "math.inf      #infinity"
   ]
  },
  {
   "cell_type": "code",
   "execution_count": 57,
   "id": "12aa12d8",
   "metadata": {},
   "outputs": [
    {
     "data": {
      "text/plain": [
       "nan"
      ]
     },
     "execution_count": 57,
     "metadata": {},
     "output_type": "execute_result"
    }
   ],
   "source": [
    "math.nan   #not a number"
   ]
  },
  {
   "cell_type": "code",
   "execution_count": 58,
   "id": "d1c13eca",
   "metadata": {},
   "outputs": [
    {
     "data": {
      "text/plain": [
       "1.0"
      ]
     },
     "execution_count": 58,
     "metadata": {},
     "output_type": "execute_result"
    }
   ],
   "source": [
    "math.log(math.e)"
   ]
  },
  {
   "cell_type": "code",
   "execution_count": 59,
   "id": "d2599055",
   "metadata": {},
   "outputs": [
    {
     "data": {
      "text/plain": [
       "2.0"
      ]
     },
     "execution_count": 59,
     "metadata": {},
     "output_type": "execute_result"
    }
   ],
   "source": [
    "math.log(100,10)"
   ]
  },
  {
   "cell_type": "code",
   "execution_count": 60,
   "id": "fe734403",
   "metadata": {},
   "outputs": [
    {
     "data": {
      "text/plain": [
       "1.0"
      ]
     },
     "execution_count": 60,
     "metadata": {},
     "output_type": "execute_result"
    }
   ],
   "source": [
    "math.sin(pi/2)"
   ]
  },
  {
   "cell_type": "code",
   "execution_count": 61,
   "id": "3eda675b",
   "metadata": {},
   "outputs": [
    {
     "data": {
      "text/plain": [
       "180.0"
      ]
     },
     "execution_count": 61,
     "metadata": {},
     "output_type": "execute_result"
    }
   ],
   "source": [
    "math.degrees(pi)"
   ]
  },
  {
   "cell_type": "code",
   "execution_count": 62,
   "id": "723f76c6",
   "metadata": {},
   "outputs": [
    {
     "data": {
      "text/plain": [
       "3.141592653589793"
      ]
     },
     "execution_count": 62,
     "metadata": {},
     "output_type": "execute_result"
    }
   ],
   "source": [
    "math.radians(180)"
   ]
  },
  {
   "cell_type": "code",
   "execution_count": 63,
   "id": "df0dd557",
   "metadata": {},
   "outputs": [],
   "source": [
    "import random"
   ]
  },
  {
   "cell_type": "code",
   "execution_count": 65,
   "id": "c6ff73e5",
   "metadata": {},
   "outputs": [],
   "source": [
    "l = [random.randint(0,100) for x in range(10)]"
   ]
  },
  {
   "cell_type": "code",
   "execution_count": 66,
   "id": "05f1610a",
   "metadata": {},
   "outputs": [
    {
     "data": {
      "text/plain": [
       "[19, 3, 32, 86, 0, 53, 10, 75, 24, 39]"
      ]
     },
     "execution_count": 66,
     "metadata": {},
     "output_type": "execute_result"
    }
   ],
   "source": [
    "l"
   ]
  },
  {
   "cell_type": "code",
   "execution_count": 72,
   "id": "fb06855a",
   "metadata": {},
   "outputs": [],
   "source": [
    "#when we want to generate same sequence of random numbers we use seed method and set a value to it\n",
    "random.seed(101)\n",
    "l = [random.randint(0,100) for x in range(10)]"
   ]
  },
  {
   "cell_type": "code",
   "execution_count": 74,
   "id": "2c64301b",
   "metadata": {},
   "outputs": [
    {
     "data": {
      "text/plain": [
       "[74, 24, 69, 45, 59, 6, 84, 64, 27, 77]"
      ]
     },
     "execution_count": 74,
     "metadata": {},
     "output_type": "execute_result"
    }
   ],
   "source": [
    "l"
   ]
  },
  {
   "cell_type": "code",
   "execution_count": 75,
   "id": "bbb4449d",
   "metadata": {},
   "outputs": [],
   "source": [
    "random.seed(101)\n",
    "l2 = [random.randint(0,100) for x in range(10)]"
   ]
  },
  {
   "cell_type": "code",
   "execution_count": 76,
   "id": "cc1a11ca",
   "metadata": {},
   "outputs": [
    {
     "data": {
      "text/plain": [
       "[74, 24, 69, 45, 59, 6, 84, 64, 27, 77]"
      ]
     },
     "execution_count": 76,
     "metadata": {},
     "output_type": "execute_result"
    }
   ],
   "source": [
    "l2"
   ]
  },
  {
   "cell_type": "code",
   "execution_count": 77,
   "id": "8d23880e",
   "metadata": {},
   "outputs": [],
   "source": [
    "mylist=list(range(20))"
   ]
  },
  {
   "cell_type": "code",
   "execution_count": 78,
   "id": "f13ab158",
   "metadata": {},
   "outputs": [
    {
     "data": {
      "text/plain": [
       "[0, 1, 2, 3, 4, 5, 6, 7, 8, 9, 10, 11, 12, 13, 14, 15, 16, 17, 18, 19]"
      ]
     },
     "execution_count": 78,
     "metadata": {},
     "output_type": "execute_result"
    }
   ],
   "source": [
    "mylist"
   ]
  },
  {
   "cell_type": "code",
   "execution_count": 79,
   "id": "a6274b2b",
   "metadata": {},
   "outputs": [
    {
     "data": {
      "text/plain": [
       "7"
      ]
     },
     "execution_count": 79,
     "metadata": {},
     "output_type": "execute_result"
    }
   ],
   "source": [
    "random.choice(mylist)"
   ]
  },
  {
   "cell_type": "code",
   "execution_count": 82,
   "id": "a53a9989",
   "metadata": {},
   "outputs": [
    {
     "data": {
      "text/plain": [
       "[18, 9, 15, 6, 8, 5, 3, 8, 10, 3]"
      ]
     },
     "execution_count": 82,
     "metadata": {},
     "output_type": "execute_result"
    }
   ],
   "source": [
    "#choices with repetition\n",
    "random.choices(mylist,k=10)"
   ]
  },
  {
   "cell_type": "code",
   "execution_count": 83,
   "id": "9ee3517c",
   "metadata": {},
   "outputs": [
    {
     "data": {
      "text/plain": [
       "[10, 7, 12, 13, 6, 1, 15, 18, 4, 3]"
      ]
     },
     "execution_count": 83,
     "metadata": {},
     "output_type": "execute_result"
    }
   ],
   "source": [
    "#choices without repetition\n",
    "random.sample(mylist,k=10)"
   ]
  },
  {
   "cell_type": "code",
   "execution_count": 84,
   "id": "cc936c65",
   "metadata": {},
   "outputs": [
    {
     "data": {
      "text/plain": [
       "[0, 1, 2, 3, 4, 5, 6, 7, 8, 9, 10, 11, 12, 13, 14, 15, 16, 17, 18, 19]"
      ]
     },
     "execution_count": 84,
     "metadata": {},
     "output_type": "execute_result"
    }
   ],
   "source": [
    "mylist"
   ]
  },
  {
   "cell_type": "code",
   "execution_count": 85,
   "id": "513564f0",
   "metadata": {},
   "outputs": [],
   "source": [
    "random.shuffle(mylist)  #in place shuffle"
   ]
  },
  {
   "cell_type": "code",
   "execution_count": 86,
   "id": "a4ac5f99",
   "metadata": {},
   "outputs": [
    {
     "data": {
      "text/plain": [
       "[14, 9, 5, 2, 17, 4, 15, 7, 0, 11, 18, 13, 1, 6, 19, 16, 12, 8, 10, 3]"
      ]
     },
     "execution_count": 86,
     "metadata": {},
     "output_type": "execute_result"
    }
   ],
   "source": [
    "mylist"
   ]
  },
  {
   "cell_type": "code",
   "execution_count": 87,
   "id": "05a8179e",
   "metadata": {},
   "outputs": [
    {
     "data": {
      "text/plain": [
       "73.41358775172473"
      ]
     },
     "execution_count": 87,
     "metadata": {},
     "output_type": "execute_result"
    }
   ],
   "source": [
    "random.uniform(a=10,b=100)"
   ]
  },
  {
   "cell_type": "code",
   "execution_count": 88,
   "id": "7bcdae62",
   "metadata": {},
   "outputs": [
    {
     "data": {
      "text/plain": [
       "26.434796975939406"
      ]
     },
     "execution_count": 88,
     "metadata": {},
     "output_type": "execute_result"
    }
   ],
   "source": [
    "random.gauss(20,5)"
   ]
  },
  {
   "cell_type": "markdown",
   "id": "1ef7c799",
   "metadata": {},
   "source": [
    "### Python In-Built Debugger"
   ]
  },
  {
   "cell_type": "markdown",
   "id": "bd4cf795",
   "metadata": {},
   "source": [
    "Not Useful"
   ]
  },
  {
   "cell_type": "markdown",
   "id": "f717ad6b",
   "metadata": {},
   "source": [
    "### Regular Expression"
   ]
  },
  {
   "cell_type": "code",
   "execution_count": 90,
   "id": "64fd7cde",
   "metadata": {},
   "outputs": [],
   "source": [
    "text = 'The agents phone number is 408-125-3232. Call Soon!'"
   ]
  },
  {
   "cell_type": "code",
   "execution_count": 91,
   "id": "8aab09d4",
   "metadata": {},
   "outputs": [
    {
     "data": {
      "text/plain": [
       "True"
      ]
     },
     "execution_count": 91,
     "metadata": {},
     "output_type": "execute_result"
    }
   ],
   "source": [
    "'phone' in text"
   ]
  },
  {
   "cell_type": "code",
   "execution_count": 92,
   "id": "52ebded2",
   "metadata": {},
   "outputs": [],
   "source": [
    "import re #regular expression"
   ]
  },
  {
   "cell_type": "code",
   "execution_count": 93,
   "id": "32b6ef53",
   "metadata": {},
   "outputs": [],
   "source": [
    "pattern = 'phone'"
   ]
  },
  {
   "cell_type": "code",
   "execution_count": 94,
   "id": "40615342",
   "metadata": {},
   "outputs": [
    {
     "data": {
      "text/plain": [
       "<re.Match object; span=(11, 16), match='phone'>"
      ]
     },
     "execution_count": 94,
     "metadata": {},
     "output_type": "execute_result"
    }
   ],
   "source": [
    "re.search(pattern,text)"
   ]
  },
  {
   "cell_type": "code",
   "execution_count": 95,
   "id": "6f9b5444",
   "metadata": {},
   "outputs": [],
   "source": [
    "pattern = 'Not in Text'"
   ]
  },
  {
   "cell_type": "code",
   "execution_count": 96,
   "id": "32a480df",
   "metadata": {},
   "outputs": [],
   "source": [
    "re.search(pattern,text)"
   ]
  },
  {
   "cell_type": "code",
   "execution_count": 97,
   "id": "3dab0109",
   "metadata": {},
   "outputs": [],
   "source": [
    "pattern = 'phone'"
   ]
  },
  {
   "cell_type": "code",
   "execution_count": 98,
   "id": "a7876b3e",
   "metadata": {},
   "outputs": [],
   "source": [
    "result = re.search(pattern,text)"
   ]
  },
  {
   "cell_type": "code",
   "execution_count": 100,
   "id": "4114ff78",
   "metadata": {},
   "outputs": [
    {
     "data": {
      "text/plain": [
       "(11, 16)"
      ]
     },
     "execution_count": 100,
     "metadata": {},
     "output_type": "execute_result"
    }
   ],
   "source": [
    "result.span()"
   ]
  },
  {
   "cell_type": "code",
   "execution_count": 102,
   "id": "c9cacb01",
   "metadata": {},
   "outputs": [
    {
     "data": {
      "text/plain": [
       "11"
      ]
     },
     "execution_count": 102,
     "metadata": {},
     "output_type": "execute_result"
    }
   ],
   "source": [
    "result.start()"
   ]
  },
  {
   "cell_type": "code",
   "execution_count": 103,
   "id": "e2c74b58",
   "metadata": {},
   "outputs": [
    {
     "data": {
      "text/plain": [
       "16"
      ]
     },
     "execution_count": 103,
     "metadata": {},
     "output_type": "execute_result"
    }
   ],
   "source": [
    "result.end()"
   ]
  },
  {
   "cell_type": "code",
   "execution_count": 104,
   "id": "43a34fdf",
   "metadata": {},
   "outputs": [],
   "source": [
    "text = 'my phone once, my phone twice'"
   ]
  },
  {
   "cell_type": "code",
   "execution_count": 105,
   "id": "fe6d557e",
   "metadata": {},
   "outputs": [],
   "source": [
    "match = re.search('phone',text)"
   ]
  },
  {
   "cell_type": "code",
   "execution_count": 106,
   "id": "4983a8df",
   "metadata": {},
   "outputs": [
    {
     "data": {
      "text/plain": [
       "<re.Match object; span=(3, 8), match='phone'>"
      ]
     },
     "execution_count": 106,
     "metadata": {},
     "output_type": "execute_result"
    }
   ],
   "source": [
    "match"
   ]
  },
  {
   "cell_type": "code",
   "execution_count": 107,
   "id": "233ac694",
   "metadata": {},
   "outputs": [],
   "source": [
    "matches = re.findall('phone',text)"
   ]
  },
  {
   "cell_type": "code",
   "execution_count": 108,
   "id": "d3bee866",
   "metadata": {},
   "outputs": [
    {
     "data": {
      "text/plain": [
       "['phone', 'phone']"
      ]
     },
     "execution_count": 108,
     "metadata": {},
     "output_type": "execute_result"
    }
   ],
   "source": [
    "matches"
   ]
  },
  {
   "cell_type": "code",
   "execution_count": 110,
   "id": "7b0f5527",
   "metadata": {},
   "outputs": [
    {
     "name": "stdout",
     "output_type": "stream",
     "text": [
      "<re.Match object; span=(3, 8), match='phone'>\n",
      "(3, 8)\n",
      "phone\n",
      "<re.Match object; span=(18, 23), match='phone'>\n",
      "(18, 23)\n",
      "phone\n"
     ]
    }
   ],
   "source": [
    "for match in re.finditer('phone',text):\n",
    "    print(match)\n",
    "    print(match.span())\n",
    "    print(match.group())"
   ]
  },
  {
   "cell_type": "code",
   "execution_count": 111,
   "id": "9d6b995d",
   "metadata": {},
   "outputs": [],
   "source": [
    "text = 'The agents phone number is 408-125-3232. Call Soon!'"
   ]
  },
  {
   "cell_type": "code",
   "execution_count": 114,
   "id": "fd4734b1",
   "metadata": {},
   "outputs": [],
   "source": [
    "phone_specific = re.search('408-125-3232',text)"
   ]
  },
  {
   "cell_type": "code",
   "execution_count": 115,
   "id": "c9cf5c0f",
   "metadata": {},
   "outputs": [
    {
     "data": {
      "text/plain": [
       "<re.Match object; span=(27, 39), match='408-125-3232'>"
      ]
     },
     "execution_count": 115,
     "metadata": {},
     "output_type": "execute_result"
    }
   ],
   "source": [
    "phone_specific"
   ]
  },
  {
   "cell_type": "code",
   "execution_count": 116,
   "id": "5d68606b",
   "metadata": {},
   "outputs": [],
   "source": [
    "phone_general = re.search(r'\\d\\d\\d-\\d\\d\\d-\\d\\d\\d\\d',text)   #identifiers"
   ]
  },
  {
   "cell_type": "code",
   "execution_count": 117,
   "id": "4ba27dfe",
   "metadata": {},
   "outputs": [
    {
     "data": {
      "text/plain": [
       "<re.Match object; span=(27, 39), match='408-125-3232'>"
      ]
     },
     "execution_count": 117,
     "metadata": {},
     "output_type": "execute_result"
    }
   ],
   "source": [
    "phone_general"
   ]
  },
  {
   "cell_type": "code",
   "execution_count": 118,
   "id": "57c04879",
   "metadata": {},
   "outputs": [
    {
     "data": {
      "text/plain": [
       "'408-125-3232'"
      ]
     },
     "execution_count": 118,
     "metadata": {},
     "output_type": "execute_result"
    }
   ],
   "source": [
    "phone_general.group()"
   ]
  },
  {
   "cell_type": "code",
   "execution_count": 119,
   "id": "fa4ded3b",
   "metadata": {},
   "outputs": [
    {
     "data": {
      "text/plain": [
       "<re.Match object; span=(27, 39), match='408-125-3232'>"
      ]
     },
     "execution_count": 119,
     "metadata": {},
     "output_type": "execute_result"
    }
   ],
   "source": [
    "re.search('\\d{3}-\\d{3}-\\d{4}',text)   #quantifiers"
   ]
  },
  {
   "cell_type": "code",
   "execution_count": 120,
   "id": "df1f3ba8",
   "metadata": {},
   "outputs": [],
   "source": [
    "#we can Compile a regular expression pattern for search and can use its part seperately\n",
    "pattern = re.compile(r'(\\d{3})-(\\d{3})-(\\d{3})')"
   ]
  },
  {
   "cell_type": "code",
   "execution_count": 121,
   "id": "f75227d3",
   "metadata": {},
   "outputs": [],
   "source": [
    "result = re.search(pattern,text)"
   ]
  },
  {
   "cell_type": "code",
   "execution_count": 123,
   "id": "938979ab",
   "metadata": {},
   "outputs": [
    {
     "data": {
      "text/plain": [
       "'408-125-323'"
      ]
     },
     "execution_count": 123,
     "metadata": {},
     "output_type": "execute_result"
    }
   ],
   "source": [
    "result.group()"
   ]
  },
  {
   "cell_type": "code",
   "execution_count": 124,
   "id": "50e88402",
   "metadata": {},
   "outputs": [
    {
     "data": {
      "text/plain": [
       "'408'"
      ]
     },
     "execution_count": 124,
     "metadata": {},
     "output_type": "execute_result"
    }
   ],
   "source": [
    "result.group(1)   #in such manner we can use it seperately"
   ]
  },
  {
   "cell_type": "code",
   "execution_count": 125,
   "id": "90c23ecf",
   "metadata": {},
   "outputs": [
    {
     "data": {
      "text/plain": [
       "<re.Match object; span=(4, 7), match='dog'>"
      ]
     },
     "execution_count": 125,
     "metadata": {},
     "output_type": "execute_result"
    }
   ],
   "source": [
    "re.search(r'cat|dog','The dog is burried under the tree') #the pipe operator represents the or operation"
   ]
  },
  {
   "cell_type": "code",
   "execution_count": 126,
   "id": "bbeb72ac",
   "metadata": {},
   "outputs": [
    {
     "data": {
      "text/plain": [
       "['at', 'at', 'at']"
      ]
     },
     "execution_count": 126,
     "metadata": {},
     "output_type": "execute_result"
    }
   ],
   "source": [
    "re.findall(r'at','the cat in the hat sat there')"
   ]
  },
  {
   "cell_type": "code",
   "execution_count": 127,
   "id": "2b62db4d",
   "metadata": {},
   "outputs": [
    {
     "data": {
      "text/plain": [
       "['cat', 'hat', 'sat']"
      ]
     },
     "execution_count": 127,
     "metadata": {},
     "output_type": "execute_result"
    }
   ],
   "source": [
    "re.findall(r'.at','the cat in the hat sat there')  # .represents wildcard"
   ]
  },
  {
   "cell_type": "code",
   "execution_count": 129,
   "id": "762d8973",
   "metadata": {},
   "outputs": [
    {
     "data": {
      "text/plain": [
       "['e cat', 'e hat', 'spsat']"
      ]
     },
     "execution_count": 129,
     "metadata": {},
     "output_type": "execute_result"
    }
   ],
   "source": [
    "re.findall(r'...at','the cat in the hat spsat there')"
   ]
  },
  {
   "cell_type": "code",
   "execution_count": 131,
   "id": "babdc207",
   "metadata": {},
   "outputs": [
    {
     "data": {
      "text/plain": [
       "['1']"
      ]
     },
     "execution_count": 131,
     "metadata": {},
     "output_type": "execute_result"
    }
   ],
   "source": [
    "re.findall(r'^\\d','1 is a number')   #this indicates string starting from a digit"
   ]
  },
  {
   "cell_type": "code",
   "execution_count": 132,
   "id": "3b35872a",
   "metadata": {},
   "outputs": [
    {
     "data": {
      "text/plain": [
       "[]"
      ]
     },
     "execution_count": 132,
     "metadata": {},
     "output_type": "execute_result"
    }
   ],
   "source": [
    "re.findall(r'^\\d','the 1 is a number')"
   ]
  },
  {
   "cell_type": "code",
   "execution_count": 135,
   "id": "8be49e8f",
   "metadata": {},
   "outputs": [
    {
     "data": {
      "text/plain": [
       "['2']"
      ]
     },
     "execution_count": 135,
     "metadata": {},
     "output_type": "execute_result"
    }
   ],
   "source": [
    "re.findall(r'\\d$','this is a number 2') #this indicates string ending to a digit"
   ]
  },
  {
   "cell_type": "code",
   "execution_count": 136,
   "id": "a1ed89db",
   "metadata": {},
   "outputs": [],
   "source": [
    "phrase = 'This string contains 3 numbers 34 inside 5 this string'"
   ]
  },
  {
   "cell_type": "code",
   "execution_count": 137,
   "id": "fd47c0fc",
   "metadata": {},
   "outputs": [],
   "source": [
    "pattern = r'[^\\d]' #break the string at points where none or one or more time a digit appears and \n",
    "                   #return the parts which do not contain numbers"
   ]
  },
  {
   "cell_type": "code",
   "execution_count": 138,
   "id": "6eda4af6",
   "metadata": {},
   "outputs": [
    {
     "data": {
      "text/plain": [
       "['T',\n",
       " 'h',\n",
       " 'i',\n",
       " 's',\n",
       " ' ',\n",
       " 's',\n",
       " 't',\n",
       " 'r',\n",
       " 'i',\n",
       " 'n',\n",
       " 'g',\n",
       " ' ',\n",
       " 'c',\n",
       " 'o',\n",
       " 'n',\n",
       " 't',\n",
       " 'a',\n",
       " 'i',\n",
       " 'n',\n",
       " 's',\n",
       " ' ',\n",
       " ' ',\n",
       " 'n',\n",
       " 'u',\n",
       " 'm',\n",
       " 'b',\n",
       " 'e',\n",
       " 'r',\n",
       " 's',\n",
       " ' ',\n",
       " ' ',\n",
       " 'i',\n",
       " 'n',\n",
       " 's',\n",
       " 'i',\n",
       " 'd',\n",
       " 'e',\n",
       " ' ',\n",
       " ' ',\n",
       " 't',\n",
       " 'h',\n",
       " 'i',\n",
       " 's',\n",
       " ' ',\n",
       " 's',\n",
       " 't',\n",
       " 'r',\n",
       " 'i',\n",
       " 'n',\n",
       " 'g']"
      ]
     },
     "execution_count": 138,
     "metadata": {},
     "output_type": "execute_result"
    }
   ],
   "source": [
    "re.findall(pattern,phrase)"
   ]
  },
  {
   "cell_type": "code",
   "execution_count": 139,
   "id": "9c8868f4",
   "metadata": {},
   "outputs": [],
   "source": [
    "pattern = r'[^\\d]+'   #break the string at points where atleast one time digit appears\n",
    "                      #and return the parts which do not contain numbers"
   ]
  },
  {
   "cell_type": "code",
   "execution_count": 141,
   "id": "d83476f9",
   "metadata": {},
   "outputs": [
    {
     "data": {
      "text/plain": [
       "['This string contains ', ' numbers ', ' inside ', ' this string']"
      ]
     },
     "execution_count": 141,
     "metadata": {},
     "output_type": "execute_result"
    }
   ],
   "source": [
    "re.findall(pattern,phrase)"
   ]
  },
  {
   "cell_type": "code",
   "execution_count": 142,
   "id": "a6771997",
   "metadata": {},
   "outputs": [],
   "source": [
    "phrase = 'This is a string. but , it has punctuations? how to remove it!'"
   ]
  },
  {
   "cell_type": "code",
   "execution_count": 145,
   "id": "01b9d3b0",
   "metadata": {},
   "outputs": [],
   "source": [
    "pattern = r'[^.,?! ]+'"
   ]
  },
  {
   "cell_type": "code",
   "execution_count": 146,
   "id": "517f3e22",
   "metadata": {},
   "outputs": [],
   "source": [
    "lst = re.findall(pattern,phrase)"
   ]
  },
  {
   "cell_type": "code",
   "execution_count": 147,
   "id": "7b07873a",
   "metadata": {},
   "outputs": [
    {
     "data": {
      "text/plain": [
       "['This',\n",
       " 'is',\n",
       " 'a',\n",
       " 'string',\n",
       " 'but',\n",
       " 'it',\n",
       " 'has',\n",
       " 'punctuations',\n",
       " 'how',\n",
       " 'to',\n",
       " 'remove',\n",
       " 'it']"
      ]
     },
     "execution_count": 147,
     "metadata": {},
     "output_type": "execute_result"
    }
   ],
   "source": [
    "lst"
   ]
  },
  {
   "cell_type": "code",
   "execution_count": 148,
   "id": "06788ae0",
   "metadata": {},
   "outputs": [
    {
     "data": {
      "text/plain": [
       "'This is a string but it has punctuations how to remove it'"
      ]
     },
     "execution_count": 148,
     "metadata": {},
     "output_type": "execute_result"
    }
   ],
   "source": [
    "\" \".join(lst)"
   ]
  },
  {
   "cell_type": "code",
   "execution_count": 149,
   "id": "e5f01a29",
   "metadata": {},
   "outputs": [],
   "source": [
    "text = 'only find the hyphen-word in this sentence. they will be sooo long-ish in the text'"
   ]
  },
  {
   "cell_type": "code",
   "execution_count": 153,
   "id": "83982bf8",
   "metadata": {},
   "outputs": [],
   "source": [
    "pattern = r'[\\w]+-[\\w]+'"
   ]
  },
  {
   "cell_type": "code",
   "execution_count": 154,
   "id": "79118702",
   "metadata": {},
   "outputs": [
    {
     "data": {
      "text/plain": [
       "['hyphen-word', 'long-ish']"
      ]
     },
     "execution_count": 154,
     "metadata": {},
     "output_type": "execute_result"
    }
   ],
   "source": [
    "re.findall(pattern,text)"
   ]
  },
  {
   "cell_type": "code",
   "execution_count": 155,
   "id": "d0fd6b4d",
   "metadata": {},
   "outputs": [],
   "source": [
    "pattern = r'\\w+-\\w+'"
   ]
  },
  {
   "cell_type": "code",
   "execution_count": 156,
   "id": "301d5424",
   "metadata": {},
   "outputs": [
    {
     "data": {
      "text/plain": [
       "['hyphen-word', 'long-ish']"
      ]
     },
     "execution_count": 156,
     "metadata": {},
     "output_type": "execute_result"
    }
   ],
   "source": [
    "re.findall(pattern,text)"
   ]
  },
  {
   "cell_type": "code",
   "execution_count": 159,
   "id": "bc1eb9a1",
   "metadata": {},
   "outputs": [],
   "source": [
    "text1 = 'This is a catfish'\n",
    "text2 = 'This is a catterpiller'\n",
    "text3 = 'This is a catnap'"
   ]
  },
  {
   "cell_type": "code",
   "execution_count": 160,
   "id": "9651c1fa",
   "metadata": {},
   "outputs": [],
   "source": [
    "pattern = r'cat(fish|terpiller|nap)'  #one pattern can be useful for many other searches"
   ]
  },
  {
   "cell_type": "code",
   "execution_count": 161,
   "id": "e12fa390",
   "metadata": {},
   "outputs": [
    {
     "data": {
      "text/plain": [
       "<re.Match object; span=(10, 17), match='catfish'>"
      ]
     },
     "execution_count": 161,
     "metadata": {},
     "output_type": "execute_result"
    }
   ],
   "source": [
    "re.search(pattern,text1)"
   ]
  },
  {
   "cell_type": "code",
   "execution_count": 162,
   "id": "0f33fd80",
   "metadata": {},
   "outputs": [
    {
     "data": {
      "text/plain": [
       "<re.Match object; span=(10, 22), match='catterpiller'>"
      ]
     },
     "execution_count": 162,
     "metadata": {},
     "output_type": "execute_result"
    }
   ],
   "source": [
    "re.search(pattern,text2)"
   ]
  },
  {
   "cell_type": "markdown",
   "id": "d2f74112",
   "metadata": {},
   "source": [
    "### Timing Python Code"
   ]
  },
  {
   "cell_type": "code",
   "execution_count": 163,
   "id": "323eebaf",
   "metadata": {},
   "outputs": [],
   "source": [
    "def func_one(n):\n",
    "    return [str(num) for num in range(n)]"
   ]
  },
  {
   "cell_type": "code",
   "execution_count": 164,
   "id": "2be7ba6d",
   "metadata": {},
   "outputs": [
    {
     "data": {
      "text/plain": [
       "['0', '1', '2', '3', '4', '5', '6', '7', '8', '9']"
      ]
     },
     "execution_count": 164,
     "metadata": {},
     "output_type": "execute_result"
    }
   ],
   "source": [
    "func_one(10)"
   ]
  },
  {
   "cell_type": "code",
   "execution_count": 165,
   "id": "5002d510",
   "metadata": {},
   "outputs": [],
   "source": [
    "def func_two(n):\n",
    "    return list(map(str,range(n)))"
   ]
  },
  {
   "cell_type": "code",
   "execution_count": 166,
   "id": "aa3821dc",
   "metadata": {},
   "outputs": [
    {
     "data": {
      "text/plain": [
       "['0', '1', '2', '3', '4', '5', '6', '7', '8', '9']"
      ]
     },
     "execution_count": 166,
     "metadata": {},
     "output_type": "execute_result"
    }
   ],
   "source": [
    "func_two(10)"
   ]
  },
  {
   "cell_type": "code",
   "execution_count": 167,
   "id": "f5335575",
   "metadata": {},
   "outputs": [],
   "source": [
    "#To determine which code is faster\n",
    "#Method 1-Note the time\n",
    "import time"
   ]
  },
  {
   "cell_type": "code",
   "execution_count": 175,
   "id": "0a3bf523",
   "metadata": {},
   "outputs": [
    {
     "name": "stdout",
     "output_type": "stream",
     "text": [
      "0.23341798782348633\n"
     ]
    }
   ],
   "source": [
    "start_time = time.time()\n",
    "res = func_one(1000000)\n",
    "end_time = time.time()\n",
    "elapsed_time = end_time-start_time\n",
    "print(elapsed_time)"
   ]
  },
  {
   "cell_type": "code",
   "execution_count": 176,
   "id": "a42807f7",
   "metadata": {},
   "outputs": [
    {
     "name": "stdout",
     "output_type": "stream",
     "text": [
      "0.3374214172363281\n"
     ]
    }
   ],
   "source": [
    "start_time = time.time()\n",
    "res = func_two(1000000)\n",
    "end_time = time.time()\n",
    "elapsed_time = end_time-start_time\n",
    "print(elapsed_time)"
   ]
  },
  {
   "cell_type": "code",
   "execution_count": 179,
   "id": "1aabab67",
   "metadata": {},
   "outputs": [],
   "source": [
    "#Method 2- the timeit module\n",
    "import timeit   #it requires two parameters as follows"
   ]
  },
  {
   "cell_type": "code",
   "execution_count": 180,
   "id": "b852c10a",
   "metadata": {},
   "outputs": [],
   "source": [
    "stmt = '''\n",
    "func_one(100)\n",
    "'''"
   ]
  },
  {
   "cell_type": "code",
   "execution_count": 181,
   "id": "0e717d94",
   "metadata": {},
   "outputs": [],
   "source": [
    "setup = '''\n",
    "def func_one(n):\n",
    "    return [str(num) for num in range(n)]\n",
    "'''"
   ]
  },
  {
   "cell_type": "code",
   "execution_count": 182,
   "id": "d11518bb",
   "metadata": {},
   "outputs": [
    {
     "data": {
      "text/plain": [
       "2.225154200103134"
      ]
     },
     "execution_count": 182,
     "metadata": {},
     "output_type": "execute_result"
    }
   ],
   "source": [
    "timeit.timeit(stmt,setup,number=100000)"
   ]
  },
  {
   "cell_type": "code",
   "execution_count": 185,
   "id": "25d703fa",
   "metadata": {},
   "outputs": [],
   "source": [
    "stmt = '''\n",
    "func_two(100)\n",
    "'''\n",
    "setup = '''\n",
    "def func_two(n):\n",
    "    return list(map(str,range(n)))\n",
    "'''"
   ]
  },
  {
   "cell_type": "code",
   "execution_count": 186,
   "id": "fffe42a2",
   "metadata": {},
   "outputs": [
    {
     "data": {
      "text/plain": [
       "2.59678060002625"
      ]
     },
     "execution_count": 186,
     "metadata": {},
     "output_type": "execute_result"
    }
   ],
   "source": [
    "timeit.timeit(stmt,setup,number=100000)"
   ]
  },
  {
   "cell_type": "code",
   "execution_count": 187,
   "id": "a0af6f85",
   "metadata": {},
   "outputs": [],
   "source": [
    "#Method 3- the %%timeit method it works only on notebook"
   ]
  },
  {
   "cell_type": "code",
   "execution_count": 188,
   "id": "ac765c22",
   "metadata": {},
   "outputs": [
    {
     "name": "stdout",
     "output_type": "stream",
     "text": [
      "18.4 µs ± 3.75 µs per loop (mean ± std. dev. of 7 runs, 100,000 loops each)\n"
     ]
    }
   ],
   "source": [
    "%%timeit\n",
    "func_one(100)"
   ]
  },
  {
   "cell_type": "code",
   "execution_count": 189,
   "id": "75cb5e06",
   "metadata": {},
   "outputs": [
    {
     "name": "stdout",
     "output_type": "stream",
     "text": [
      "25.4 µs ± 4.16 µs per loop (mean ± std. dev. of 7 runs, 100,000 loops each)\n"
     ]
    }
   ],
   "source": [
    "%%timeit\n",
    "func_two(100)"
   ]
  },
  {
   "cell_type": "markdown",
   "id": "d3d60be0",
   "metadata": {},
   "source": [
    "### Zipping and Unzipping Files in Python"
   ]
  },
  {
   "cell_type": "code",
   "execution_count": 190,
   "id": "2459dc50",
   "metadata": {},
   "outputs": [],
   "source": [
    "f = open('fileone.txt','w+')\n",
    "f.write(\"How can you be number one\")\n",
    "f.close()"
   ]
  },
  {
   "cell_type": "code",
   "execution_count": 191,
   "id": "d21bc973",
   "metadata": {},
   "outputs": [],
   "source": [
    "f = open('filetwo.txt','w+')\n",
    "f.write(\"How can you be number two hushhh!!\")\n",
    "f.close()"
   ]
  },
  {
   "cell_type": "code",
   "execution_count": 192,
   "id": "766f45b7",
   "metadata": {},
   "outputs": [],
   "source": [
    "import zipfile"
   ]
  },
  {
   "cell_type": "code",
   "execution_count": 193,
   "id": "b931e83a",
   "metadata": {},
   "outputs": [],
   "source": [
    "comp_file = zipfile.ZipFile('comp_file.zip','w')"
   ]
  },
  {
   "cell_type": "code",
   "execution_count": 194,
   "id": "52fb5f95",
   "metadata": {},
   "outputs": [],
   "source": [
    "comp_file.write('fileone.txt',compress_type=zipfile.ZIP_DEFLATED)"
   ]
  },
  {
   "cell_type": "code",
   "execution_count": 195,
   "id": "2543b2d9",
   "metadata": {},
   "outputs": [],
   "source": [
    "comp_file.write('filetwo.txt',compress_type=zipfile.ZIP_DEFLATED)"
   ]
  },
  {
   "cell_type": "code",
   "execution_count": 196,
   "id": "90a4894f",
   "metadata": {},
   "outputs": [],
   "source": [
    "comp_file.close()"
   ]
  },
  {
   "cell_type": "code",
   "execution_count": 197,
   "id": "cb8d6b81",
   "metadata": {},
   "outputs": [],
   "source": [
    "zip_file  = zipfile.ZipFile('comp_file.zip','r')"
   ]
  },
  {
   "cell_type": "code",
   "execution_count": 198,
   "id": "29209516",
   "metadata": {},
   "outputs": [],
   "source": [
    "zip_file.extractall('extracted content') "
   ]
  },
  {
   "cell_type": "code",
   "execution_count": 199,
   "id": "4bc79fa8",
   "metadata": {},
   "outputs": [],
   "source": [
    "import shutil"
   ]
  },
  {
   "cell_type": "code",
   "execution_count": 200,
   "id": "4aba432d",
   "metadata": {},
   "outputs": [
    {
     "data": {
      "text/plain": [
       "'C:\\\\Users\\\\Nikhil\\\\Desktop\\\\Python\\\\Personal Notes'"
      ]
     },
     "execution_count": 200,
     "metadata": {},
     "output_type": "execute_result"
    }
   ],
   "source": [
    "pwd"
   ]
  },
  {
   "cell_type": "code",
   "execution_count": 201,
   "id": "bcb675e8",
   "metadata": {},
   "outputs": [],
   "source": [
    "dir_to_zip = 'C:\\\\Users\\\\Nikhil\\\\Desktop\\\\Python\\\\Personal Notes\\\\extracted content'"
   ]
  },
  {
   "cell_type": "code",
   "execution_count": 202,
   "id": "15cbc0f2",
   "metadata": {},
   "outputs": [
    {
     "data": {
      "text/plain": [
       "'C:\\\\Users\\\\Nikhil\\\\Desktop\\\\Python\\\\Personal Notes\\\\comp_file2.zip'"
      ]
     },
     "execution_count": 202,
     "metadata": {},
     "output_type": "execute_result"
    }
   ],
   "source": [
    "shutil.make_archive('comp_file2','zip',dir_to_zip)"
   ]
  },
  {
   "cell_type": "code",
   "execution_count": 203,
   "id": "601cfaa4",
   "metadata": {},
   "outputs": [],
   "source": [
    "shutil.unpack_archive('comp_file2.zip','extracted content2','zip')"
   ]
  }
 ],
 "metadata": {
  "kernelspec": {
   "display_name": "Python 3 (ipykernel)",
   "language": "python",
   "name": "python3"
  },
  "language_info": {
   "codemirror_mode": {
    "name": "ipython",
    "version": 3
   },
   "file_extension": ".py",
   "mimetype": "text/x-python",
   "name": "python",
   "nbconvert_exporter": "python",
   "pygments_lexer": "ipython3",
   "version": "3.11.5"
  }
 },
 "nbformat": 4,
 "nbformat_minor": 5
}
