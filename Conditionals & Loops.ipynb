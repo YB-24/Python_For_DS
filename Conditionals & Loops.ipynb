{
 "cells": [
  {
   "cell_type": "markdown",
   "id": "009401cc",
   "metadata": {},
   "source": [
    "# Conditionals"
   ]
  },
  {
   "cell_type": "code",
   "execution_count": 1,
   "id": "4cb323cf",
   "metadata": {},
   "outputs": [
    {
     "name": "stdout",
     "output_type": "stream",
     "text": [
      "Its True\n"
     ]
    }
   ],
   "source": [
    "if True:\n",
    "    print('Its True')"
   ]
  },
  {
   "cell_type": "code",
   "execution_count": 2,
   "id": "d574196d",
   "metadata": {},
   "outputs": [
    {
     "name": "stdout",
     "output_type": "stream",
     "text": [
      "Greater\n"
     ]
    }
   ],
   "source": [
    "if 3>2:\n",
    "    print('Greater')"
   ]
  },
  {
   "cell_type": "code",
   "execution_count": 4,
   "id": "37fb2d38",
   "metadata": {},
   "outputs": [
    {
     "name": "stdout",
     "output_type": "stream",
     "text": [
      "Feed Me\n"
     ]
    }
   ],
   "source": [
    "hungry = True\n",
    "\n",
    "if hungry:\n",
    "    print('Feed Me')\n",
    "else:\n",
    "    print('go on a walk')"
   ]
  },
  {
   "cell_type": "code",
   "execution_count": 8,
   "id": "762f00b9",
   "metadata": {},
   "outputs": [
    {
     "name": "stdout",
     "output_type": "stream",
     "text": [
      "get some money out\n"
     ]
    }
   ],
   "source": [
    "loc = 'Bank'          #else is optional\n",
    "\n",
    "if loc == 'Shop':\n",
    "    print('lets buy grocery')\n",
    "elif loc == 'Parlor':\n",
    "    print('buy me a chocolate icecream')\n",
    "elif loc == 'Bank':\n",
    "    print('get some money out')\n",
    "else:\n",
    "    print('go home')"
   ]
  },
  {
   "cell_type": "markdown",
   "id": "92be3047",
   "metadata": {},
   "source": [
    "# Loops"
   ]
  },
  {
   "cell_type": "code",
   "execution_count": 9,
   "id": "2396b2e2",
   "metadata": {},
   "outputs": [],
   "source": [
    "my_List = [1,2,3,4,5,6,7,8,9]"
   ]
  },
  {
   "cell_type": "code",
   "execution_count": 10,
   "id": "9c28640d",
   "metadata": {},
   "outputs": [
    {
     "name": "stdout",
     "output_type": "stream",
     "text": [
      "1\n",
      "2\n",
      "3\n",
      "4\n",
      "5\n",
      "6\n",
      "7\n",
      "8\n",
      "9\n"
     ]
    }
   ],
   "source": [
    "for num in my_List:\n",
    "    print(num)"
   ]
  },
  {
   "cell_type": "code",
   "execution_count": 11,
   "id": "724c16bd",
   "metadata": {},
   "outputs": [
    {
     "name": "stdout",
     "output_type": "stream",
     "text": [
      "1\n",
      "2\n",
      "3\n",
      "4\n",
      "5\n",
      "6\n",
      "7\n",
      "8\n",
      "9\n"
     ]
    }
   ],
   "source": [
    "for jelly in my_List:\n",
    "    print(jelly)"
   ]
  },
  {
   "cell_type": "code",
   "execution_count": 12,
   "id": "e87e8a15",
   "metadata": {},
   "outputs": [
    {
     "name": "stdout",
     "output_type": "stream",
     "text": [
      "Hello\n",
      "Hello\n",
      "Hello\n",
      "Hello\n",
      "Hello\n",
      "Hello\n",
      "Hello\n",
      "Hello\n",
      "Hello\n"
     ]
    }
   ],
   "source": [
    "for num in my_List:\n",
    "    print('Hello')"
   ]
  },
  {
   "cell_type": "code",
   "execution_count": 14,
   "id": "e56f4b46",
   "metadata": {},
   "outputs": [
    {
     "name": "stdout",
     "output_type": "stream",
     "text": [
      "2\n",
      "4\n",
      "6\n",
      "8\n"
     ]
    }
   ],
   "source": [
    "#check for even numbers in the list\n",
    "for num in my_List:\n",
    "    if(num%2==0):\n",
    "        print(num)"
   ]
  },
  {
   "cell_type": "code",
   "execution_count": 15,
   "id": "e37400bd",
   "metadata": {},
   "outputs": [
    {
     "name": "stdout",
     "output_type": "stream",
     "text": [
      "odd number: 1\n",
      "2\n",
      "odd number: 3\n",
      "4\n",
      "odd number: 5\n",
      "6\n",
      "odd number: 7\n",
      "8\n",
      "odd number: 9\n"
     ]
    }
   ],
   "source": [
    "for num in my_List:\n",
    "    if(num%2==0):\n",
    "        print(num)\n",
    "    else:\n",
    "        print(f'odd number: {num}')"
   ]
  },
  {
   "cell_type": "code",
   "execution_count": 16,
   "id": "ff5209be",
   "metadata": {},
   "outputs": [],
   "source": [
    "#sum of numbers in the list\n",
    "sum = 0\n",
    "for num in my_List:\n",
    "    sum += num"
   ]
  },
  {
   "cell_type": "code",
   "execution_count": 17,
   "id": "105680a1",
   "metadata": {},
   "outputs": [
    {
     "data": {
      "text/plain": [
       "45"
      ]
     },
     "execution_count": 17,
     "metadata": {},
     "output_type": "execute_result"
    }
   ],
   "source": [
    "sum"
   ]
  },
  {
   "cell_type": "code",
   "execution_count": 18,
   "id": "c5a506bb",
   "metadata": {},
   "outputs": [
    {
     "name": "stdout",
     "output_type": "stream",
     "text": [
      "H\n",
      "e\n",
      "l\n",
      "l\n",
      "o\n",
      " \n",
      "W\n",
      "o\n",
      "r\n",
      "l\n",
      "d\n"
     ]
    }
   ],
   "source": [
    "#we can iterate over strings also\n",
    "name = 'Hello World'\n",
    "\n",
    "for char in name:\n",
    "    print(char)"
   ]
  },
  {
   "cell_type": "code",
   "execution_count": 19,
   "id": "e3ba8986",
   "metadata": {},
   "outputs": [
    {
     "name": "stdout",
     "output_type": "stream",
     "text": [
      "H\n",
      "e\n",
      "l\n",
      "l\n",
      "o\n",
      " \n",
      "W\n",
      "o\n",
      "r\n",
      "l\n",
      "d\n"
     ]
    }
   ],
   "source": [
    "for char in 'Hello World':\n",
    "    print(char)"
   ]
  },
  {
   "cell_type": "code",
   "execution_count": 20,
   "id": "17657480",
   "metadata": {},
   "outputs": [
    {
     "name": "stdout",
     "output_type": "stream",
     "text": [
      "H\n",
      "e\n",
      "l\n",
      "l\n",
      "o\n",
      " \n",
      "W\n",
      "o\n",
      "r\n",
      "l\n",
      "d\n"
     ]
    }
   ],
   "source": [
    "for _ in 'Hello World':   #for simplicity and avoid variable we can use _ in for loop\n",
    "    print(_)"
   ]
  },
  {
   "cell_type": "code",
   "execution_count": 21,
   "id": "3a428c14",
   "metadata": {},
   "outputs": [
    {
     "name": "stdout",
     "output_type": "stream",
     "text": [
      "1\n",
      "2\n",
      "3\n"
     ]
    }
   ],
   "source": [
    "#iteration over tuples\n",
    "t = (1,2,3)\n",
    "for n in t:\n",
    "    print(n)"
   ]
  },
  {
   "cell_type": "code",
   "execution_count": 22,
   "id": "44b918a8",
   "metadata": {},
   "outputs": [],
   "source": [
    "#consider list of patterned tuples \n",
    "l = [(1,2),(3,4),(5,6),(7,8)]"
   ]
  },
  {
   "cell_type": "code",
   "execution_count": 23,
   "id": "eb01f174",
   "metadata": {},
   "outputs": [
    {
     "name": "stdout",
     "output_type": "stream",
     "text": [
      "(1, 2)\n",
      "(3, 4)\n",
      "(5, 6)\n",
      "(7, 8)\n"
     ]
    }
   ],
   "source": [
    "#if we want to iterate over list \n",
    "for a in l:\n",
    "    print(a)"
   ]
  },
  {
   "cell_type": "code",
   "execution_count": 24,
   "id": "6ad8130e",
   "metadata": {},
   "outputs": [
    {
     "name": "stdout",
     "output_type": "stream",
     "text": [
      "1\n",
      "2\n",
      "3\n",
      "4\n",
      "5\n",
      "6\n",
      "7\n",
      "8\n"
     ]
    }
   ],
   "source": [
    "#if we want to iterate over every single element then we have a special method called tuple unpacking\n",
    "for a,b in l:\n",
    "    print(a)\n",
    "    print(b)         "
   ]
  },
  {
   "cell_type": "code",
   "execution_count": 25,
   "id": "c25a353d",
   "metadata": {},
   "outputs": [],
   "source": [
    "d = {'k1':21, 'k2':25, 'k3':28}"
   ]
  },
  {
   "cell_type": "code",
   "execution_count": 26,
   "id": "38f95a33",
   "metadata": {},
   "outputs": [
    {
     "name": "stdout",
     "output_type": "stream",
     "text": [
      "k1\n",
      "k2\n",
      "k3\n"
     ]
    }
   ],
   "source": [
    "for hi in d:\n",
    "    print(hi)"
   ]
  },
  {
   "cell_type": "code",
   "execution_count": 27,
   "id": "7d9c9087",
   "metadata": {},
   "outputs": [
    {
     "data": {
      "text/plain": [
       "dict_items([('k1', 21), ('k2', 25), ('k3', 28)])"
      ]
     },
     "execution_count": 27,
     "metadata": {},
     "output_type": "execute_result"
    }
   ],
   "source": [
    "#in order to print the value also we can use .items() method and apply tuple unpacking\n",
    "d.items()"
   ]
  },
  {
   "cell_type": "code",
   "execution_count": 28,
   "id": "caaa73bf",
   "metadata": {},
   "outputs": [
    {
     "name": "stdout",
     "output_type": "stream",
     "text": [
      "k1 21\n",
      "k2 25\n",
      "k3 28\n"
     ]
    }
   ],
   "source": [
    "for a,b in d.items():\n",
    "    print(a , b)    "
   ]
  },
  {
   "cell_type": "code",
   "execution_count": 29,
   "id": "a3f3998c",
   "metadata": {},
   "outputs": [
    {
     "name": "stdout",
     "output_type": "stream",
     "text": [
      "21\n",
      "25\n",
      "28\n"
     ]
    }
   ],
   "source": [
    "for a in d.values():\n",
    "    print(a)    "
   ]
  },
  {
   "cell_type": "code",
   "execution_count": 35,
   "id": "daa6d9cc",
   "metadata": {},
   "outputs": [
    {
     "name": "stdout",
     "output_type": "stream",
     "text": [
      "The current value of x is 0\n",
      "The current value of x is 1\n",
      "The current value of x is 2\n",
      "The current value of x is 3\n",
      "The current value of x is 4\n"
     ]
    }
   ],
   "source": [
    "#While Loop\n",
    "x= 0\n",
    "while x<5:\n",
    "    print(f'The current value of x is {x}')\n",
    "    x+=1"
   ]
  },
  {
   "cell_type": "code",
   "execution_count": 34,
   "id": "3d5547e3",
   "metadata": {},
   "outputs": [
    {
     "name": "stdout",
     "output_type": "stream",
     "text": [
      "The current value of x is 0\n",
      "The current value of x is 1\n",
      "The current value of x is 2\n",
      "The current value of x is 3\n",
      "The current value of x is 4\n",
      "Loop over\n"
     ]
    }
   ],
   "source": [
    "x=0                      #we can also combine else condition in while loop\n",
    "while x<5:\n",
    "    print(f'The current value of x is {x}')\n",
    "    x+=1\n",
    "else:\n",
    "    print('Loop over')"
   ]
  },
  {
   "cell_type": "markdown",
   "id": "ae1f1f01",
   "metadata": {},
   "source": [
    "#### Break, Continue, Pass"
   ]
  },
  {
   "cell_type": "code",
   "execution_count": 38,
   "id": "da3f217b",
   "metadata": {},
   "outputs": [
    {
     "ename": "IndentationError",
     "evalue": "expected an indented block after 'for' statement on line 3 (4291608118.py, line 5)",
     "output_type": "error",
     "traceback": [
      "\u001b[1;36m  Cell \u001b[1;32mIn[38], line 5\u001b[1;36m\u001b[0m\n\u001b[1;33m    print(l)\u001b[0m\n\u001b[1;37m    ^\u001b[0m\n\u001b[1;31mIndentationError\u001b[0m\u001b[1;31m:\u001b[0m expected an indented block after 'for' statement on line 3\n"
     ]
    }
   ],
   "source": [
    "l = [1,2,3]\n",
    "\n",
    "for item in l:\n",
    "    #if we want to assign task later then we cant leave this space blank, it will give the error  \n",
    "print(l)"
   ]
  },
  {
   "cell_type": "code",
   "execution_count": 37,
   "id": "237ac10f",
   "metadata": {},
   "outputs": [
    {
     "name": "stdout",
     "output_type": "stream",
     "text": [
      "[1, 2, 3]\n"
     ]
    }
   ],
   "source": [
    "l = [1,2,3]\n",
    "\n",
    "for item in l:\n",
    "    #we can use space holder instead\n",
    "    pass\n",
    "    \n",
    "print(l)"
   ]
  },
  {
   "cell_type": "code",
   "execution_count": 39,
   "id": "7a18094b",
   "metadata": {},
   "outputs": [],
   "source": [
    "myString = 'Nikhil'"
   ]
  },
  {
   "cell_type": "code",
   "execution_count": 43,
   "id": "04d0898a",
   "metadata": {},
   "outputs": [
    {
     "name": "stdout",
     "output_type": "stream",
     "text": [
      "N\n",
      "i\n"
     ]
    }
   ],
   "source": [
    "for char in myString:\n",
    "    if(char == 'k'):\n",
    "        continue    #when character k comes it will go to top of closest enclosing loop thus skipping printing of k(current iteration)\n",
    "    if(char == 'h'):\n",
    "        break       #when character h comes it will break out of closest enclosing loop thus skipping later iteration of that loop\n",
    "    print (char)"
   ]
  },
  {
   "cell_type": "code",
   "execution_count": null,
   "id": "c95652e1",
   "metadata": {},
   "outputs": [],
   "source": []
  }
 ],
 "metadata": {
  "kernelspec": {
   "display_name": "Python 3 (ipykernel)",
   "language": "python",
   "name": "python3"
  },
  "language_info": {
   "codemirror_mode": {
    "name": "ipython",
    "version": 3
   },
   "file_extension": ".py",
   "mimetype": "text/x-python",
   "name": "python",
   "nbconvert_exporter": "python",
   "pygments_lexer": "ipython3",
   "version": "3.11.5"
  }
 },
 "nbformat": 4,
 "nbformat_minor": 5
}
