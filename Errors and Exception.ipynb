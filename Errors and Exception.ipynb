{
 "cells": [
  {
   "cell_type": "markdown",
   "id": "dd11cf4c",
   "metadata": {},
   "source": [
    "#### Error"
   ]
  },
  {
   "cell_type": "code",
   "execution_count": 1,
   "id": "fcc6c0e4",
   "metadata": {},
   "outputs": [],
   "source": [
    "def add (n1,n2):\n",
    "    return n1+n2"
   ]
  },
  {
   "cell_type": "code",
   "execution_count": 2,
   "id": "716783ee",
   "metadata": {},
   "outputs": [
    {
     "data": {
      "text/plain": [
       "5"
      ]
     },
     "execution_count": 2,
     "metadata": {},
     "output_type": "execute_result"
    }
   ],
   "source": [
    "add(3,2)"
   ]
  },
  {
   "cell_type": "code",
   "execution_count": 3,
   "id": "68902b25",
   "metadata": {},
   "outputs": [],
   "source": [
    "num1=30"
   ]
  },
  {
   "cell_type": "code",
   "execution_count": 4,
   "id": "9304fda8",
   "metadata": {},
   "outputs": [
    {
     "name": "stdout",
     "output_type": "stream",
     "text": [
      "Enter another number to add20\n"
     ]
    }
   ],
   "source": [
    "num2 = input('Enter another number to add')"
   ]
  },
  {
   "cell_type": "code",
   "execution_count": 6,
   "id": "004864e1",
   "metadata": {},
   "outputs": [
    {
     "ename": "TypeError",
     "evalue": "unsupported operand type(s) for +: 'int' and 'str'",
     "output_type": "error",
     "traceback": [
      "\u001b[1;31m---------------------------------------------------------------------------\u001b[0m",
      "\u001b[1;31mTypeError\u001b[0m                                 Traceback (most recent call last)",
      "Cell \u001b[1;32mIn[6], line 1\u001b[0m\n\u001b[1;32m----> 1\u001b[0m add(num1,num2)   \u001b[38;5;66;03m#we got an error as input() always accepts input as strings\u001b[39;00m\n\u001b[0;32m      2\u001b[0m \u001b[38;5;28mprint\u001b[39m(\u001b[38;5;124m'\u001b[39m\u001b[38;5;124mHello\u001b[39m\u001b[38;5;124m'\u001b[39m)\n",
      "Cell \u001b[1;32mIn[1], line 2\u001b[0m, in \u001b[0;36madd\u001b[1;34m(n1, n2)\u001b[0m\n\u001b[0;32m      1\u001b[0m \u001b[38;5;28;01mdef\u001b[39;00m \u001b[38;5;21madd\u001b[39m (n1,n2):\n\u001b[1;32m----> 2\u001b[0m     \u001b[38;5;28;01mreturn\u001b[39;00m n1\u001b[38;5;241m+\u001b[39mn2\n",
      "\u001b[1;31mTypeError\u001b[0m: unsupported operand type(s) for +: 'int' and 'str'"
     ]
    }
   ],
   "source": [
    "add(num1,num2)   #we got an error as input() always accepts input as strings\n",
    "print('Hello')   #later part of code will not get executed as script stops at error"
   ]
  },
  {
   "cell_type": "code",
   "execution_count": 10,
   "id": "7eb83493",
   "metadata": {},
   "outputs": [
    {
     "name": "stdout",
     "output_type": "stream",
     "text": [
      "You have added incorrectly\n"
     ]
    }
   ],
   "source": [
    "try:\n",
    "    #block of code we want to attempt that may have an error\n",
    "    result = 10 + '10'\n",
    "except:\n",
    "    print('You have added incorrectly')   #executes if error occours\n",
    "else:\n",
    "    print('Add went Successful')      #executes if no error occours (optional)\n",
    "    print(result)"
   ]
  },
  {
   "cell_type": "code",
   "execution_count": 2,
   "id": "1a22a267",
   "metadata": {},
   "outputs": [
    {
     "name": "stdout",
     "output_type": "stream",
     "text": [
      "I will always be executed\n"
     ]
    }
   ],
   "source": [
    "try:\n",
    "    f = open('test_file','w')\n",
    "    f.write(\"Hello Small nikhil\")\n",
    "except TypeError:                  #we can individually mention the type of error to catch\n",
    "    print('there was a type error')\n",
    "except OSError:\n",
    "    print('Hey you have an OS error')\n",
    "except:                            #this block will catch any other error\n",
    "    print('other error')\n",
    "finally:\n",
    "    print('I will always be executed')"
   ]
  },
  {
   "cell_type": "code",
   "execution_count": 3,
   "id": "649d3559",
   "metadata": {},
   "outputs": [
    {
     "name": "stdout",
     "output_type": "stream",
     "text": [
      "Hey you have an OS error\n",
      "I will always be executed\n"
     ]
    }
   ],
   "source": [
    "try:\n",
    "    f = open('test_file','r')\n",
    "    f.write(\"Hello Small nikhil\")\n",
    "except TypeError:                  #we can individually mention the type of error to catch\n",
    "    print('there was a type error')\n",
    "except OSError:\n",
    "    print('Hey you have an OS error')\n",
    "except :                            #this block will catch any other error\n",
    "    print('other error')\n",
    "finally:                            #finally should be used with try/except level only\n",
    "    print('I will always be executed')"
   ]
  },
  {
   "cell_type": "code",
   "execution_count": 5,
   "id": "412fe52e",
   "metadata": {},
   "outputs": [],
   "source": [
    "def ask_for_int():\n",
    "    while True:\n",
    "        try:\n",
    "            result = int(input('Please provide an integer'))\n",
    "        except:\n",
    "            print('Woops! Wrong Entry')\n",
    "            continue\n",
    "        else:\n",
    "            print('Correct')\n",
    "            break\n",
    "        finally:\n",
    "            print('End of try/except/finally')\n"
   ]
  },
  {
   "cell_type": "code",
   "execution_count": 7,
   "id": "954076ad",
   "metadata": {},
   "outputs": [
    {
     "name": "stdout",
     "output_type": "stream",
     "text": [
      "Please provide an integerd\n",
      "Woops! Wrong Entry\n",
      "End of try/except/finally\n",
      "Please provide an integerte\n",
      "Woops! Wrong Entry\n",
      "End of try/except/finally\n",
      "Please provide an integer36\n",
      "Correct\n",
      "End of try/except/finally\n"
     ]
    }
   ],
   "source": [
    "ask_for_int()"
   ]
  },
  {
   "cell_type": "code",
   "execution_count": 8,
   "id": "2c891db7",
   "metadata": {},
   "outputs": [],
   "source": [
    "def ask_for_int():\n",
    "    while True:\n",
    "        try:\n",
    "            result = int(input('Please provide an integer'))\n",
    "        except:\n",
    "            print('Woops! Wrong Entry Try again')\n",
    "            continue\n",
    "        else:\n",
    "            print('Correct')\n",
    "            break"
   ]
  },
  {
   "cell_type": "code",
   "execution_count": 9,
   "id": "5ae4bfdc",
   "metadata": {},
   "outputs": [
    {
     "name": "stdout",
     "output_type": "stream",
     "text": [
      "Please provide an integertwo\n",
      "Woops! Wrong Entry Try again\n",
      "Please provide an integer32\n",
      "Correct\n"
     ]
    }
   ],
   "source": [
    "ask_for_int()"
   ]
  },
  {
   "cell_type": "code",
   "execution_count": null,
   "id": "164cd433",
   "metadata": {},
   "outputs": [],
   "source": [
    "#we can explore about various types of errors in original documentation"
   ]
  }
 ],
 "metadata": {
  "kernelspec": {
   "display_name": "Python 3 (ipykernel)",
   "language": "python",
   "name": "python3"
  },
  "language_info": {
   "codemirror_mode": {
    "name": "ipython",
    "version": 3
   },
   "file_extension": ".py",
   "mimetype": "text/x-python",
   "name": "python",
   "nbconvert_exporter": "python",
   "pygments_lexer": "ipython3",
   "version": "3.11.5"
  }
 },
 "nbformat": 4,
 "nbformat_minor": 5
}
