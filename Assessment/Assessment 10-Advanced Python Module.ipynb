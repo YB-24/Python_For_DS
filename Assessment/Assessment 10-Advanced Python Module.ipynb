{
 "cells": [
  {
   "cell_type": "code",
   "execution_count": 1,
   "id": "82cca899",
   "metadata": {},
   "outputs": [],
   "source": [
    "import os"
   ]
  },
  {
   "cell_type": "code",
   "execution_count": 3,
   "id": "bba2be56",
   "metadata": {},
   "outputs": [
    {
     "data": {
      "text/plain": [
       "['.ipynb_checkpoints',\n",
       " 'Advanced Python Module 1.ipynb',\n",
       " 'Assessment 1-Objects and Data Structures.ipynb',\n",
       " 'Assessment 2-Statements.ipynb',\n",
       " 'Assessment 3-Function Practice Exercises.ipynb',\n",
       " 'Assessment 4-Functions and Methods.ipynb',\n",
       " 'Assessment 5-Object Oriented Programming.ipynb',\n",
       " 'Assessment 6-Object Oriented Programming Challenge.ipynb',\n",
       " 'Assessment 7-Errors and Exceptions.ipynb',\n",
       " 'Assessment 8-Iterators and Generators.ipynb',\n",
       " 'Assessment 9-Advanced Python Objects.ipynb',\n",
       " 'unzip_me_for_instructions.zip']"
      ]
     },
     "execution_count": 3,
     "metadata": {},
     "output_type": "execute_result"
    }
   ],
   "source": [
    "os.listdir()"
   ]
  },
  {
   "cell_type": "code",
   "execution_count": 4,
   "id": "11e4fd33",
   "metadata": {},
   "outputs": [],
   "source": [
    "import shutil"
   ]
  },
  {
   "cell_type": "code",
   "execution_count": 5,
   "id": "a106be49",
   "metadata": {},
   "outputs": [],
   "source": [
    "shutil.unpack_archive('unzip_me_for_instructions.zip','Homework_Extracted','zip')"
   ]
  },
  {
   "cell_type": "code",
   "execution_count": 6,
   "id": "75029941",
   "metadata": {},
   "outputs": [
    {
     "data": {
      "text/plain": [
       "['.ipynb_checkpoints',\n",
       " 'Advanced Python Module 1.ipynb',\n",
       " 'Assessment 1-Objects and Data Structures.ipynb',\n",
       " 'Assessment 2-Statements.ipynb',\n",
       " 'Assessment 3-Function Practice Exercises.ipynb',\n",
       " 'Assessment 4-Functions and Methods.ipynb',\n",
       " 'Assessment 5-Object Oriented Programming.ipynb',\n",
       " 'Assessment 6-Object Oriented Programming Challenge.ipynb',\n",
       " 'Assessment 7-Errors and Exceptions.ipynb',\n",
       " 'Assessment 8-Iterators and Generators.ipynb',\n",
       " 'Assessment 9-Advanced Python Objects.ipynb',\n",
       " 'Homework_Extracted',\n",
       " 'unzip_me_for_instructions.zip']"
      ]
     },
     "execution_count": 6,
     "metadata": {},
     "output_type": "execute_result"
    }
   ],
   "source": [
    "os.listdir()"
   ]
  },
  {
   "cell_type": "code",
   "execution_count": 8,
   "id": "669ec36b",
   "metadata": {},
   "outputs": [
    {
     "data": {
      "text/plain": [
       "['Five', 'Four', 'Instructions.txt', 'One', 'Three', 'Two']"
      ]
     },
     "execution_count": 8,
     "metadata": {},
     "output_type": "execute_result"
    }
   ],
   "source": [
    "os.listdir('Homework_Extracted\\\\extracted_content')"
   ]
  },
  {
   "cell_type": "code",
   "execution_count": 9,
   "id": "8cf99521",
   "metadata": {},
   "outputs": [
    {
     "name": "stdout",
     "output_type": "stream",
     "text": [
      "Good work on unzipping the file!\n",
      "You should now see 5 folders, each with a lot of random .txt files.\n",
      "Within one of these text files is a telephone number formated ###-###-#### \n",
      "Use the Python os module and regular expressions to iterate through each file, open it, and search for a telephone number.\n",
      "Good luck!\n"
     ]
    }
   ],
   "source": [
    "f = open('Homework_Extracted\\\\extracted_content\\\\Instructions.txt','r')\n",
    "res = f.read()\n",
    "print(res)\n",
    "f.close()"
   ]
  },
  {
   "cell_type": "code",
   "execution_count": 10,
   "id": "a0a655cb",
   "metadata": {},
   "outputs": [],
   "source": [
    "pattern = r'\\d{3}-\\d{3}-\\d{4}'"
   ]
  },
  {
   "cell_type": "code",
   "execution_count": 37,
   "id": "22d0e452",
   "metadata": {},
   "outputs": [],
   "source": [
    "lst = list()\n",
    "import re"
   ]
  },
  {
   "cell_type": "code",
   "execution_count": 38,
   "id": "0fed5365",
   "metadata": {},
   "outputs": [
    {
     "data": {
      "text/plain": [
       "'C:\\\\Users\\\\Nikhil\\\\Desktop\\\\Python\\\\Personal Notes\\\\Assessment'"
      ]
     },
     "execution_count": 38,
     "metadata": {},
     "output_type": "execute_result"
    }
   ],
   "source": [
    "pwd"
   ]
  },
  {
   "cell_type": "code",
   "execution_count": 39,
   "id": "9dd8c556",
   "metadata": {},
   "outputs": [],
   "source": [
    "for dir_path,folder,files in os.walk('C:\\\\Users\\\\Nikhil\\\\Desktop\\\\Python\\\\Personal Notes\\\\Assessment\\\\Homework_Extracted\\\\extracted_content'):\n",
    "    for fil in files:\n",
    "        fil_path =dir_path+'\\\\'+fil\n",
    "        f = open(fil_path,'r')\n",
    "        res = f.read()\n",
    "        for man in re.finditer(pattern,res):\n",
    "            lst.append(man.group())\n",
    "        f.close()"
   ]
  },
  {
   "cell_type": "code",
   "execution_count": 40,
   "id": "975339c6",
   "metadata": {},
   "outputs": [
    {
     "data": {
      "text/plain": [
       "['719-266-2837']"
      ]
     },
     "execution_count": 40,
     "metadata": {},
     "output_type": "execute_result"
    }
   ],
   "source": [
    "lst"
   ]
  },
  {
   "cell_type": "code",
   "execution_count": null,
   "id": "28c1b1e8",
   "metadata": {},
   "outputs": [],
   "source": []
  }
 ],
 "metadata": {
  "kernelspec": {
   "display_name": "Python 3 (ipykernel)",
   "language": "python",
   "name": "python3"
  },
  "language_info": {
   "codemirror_mode": {
    "name": "ipython",
    "version": 3
   },
   "file_extension": ".py",
   "mimetype": "text/x-python",
   "name": "python",
   "nbconvert_exporter": "python",
   "pygments_lexer": "ipython3",
   "version": "3.11.5"
  }
 },
 "nbformat": 4,
 "nbformat_minor": 5
}
