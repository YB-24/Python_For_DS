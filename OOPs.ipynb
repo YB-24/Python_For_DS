{
 "cells": [
  {
   "cell_type": "code",
   "execution_count": 1,
   "id": "67129ef9",
   "metadata": {},
   "outputs": [],
   "source": [
    "class Sample():  #we define classes using class keyword and they are written by PascalCase notation\n",
    "    pass"
   ]
  },
  {
   "cell_type": "code",
   "execution_count": 2,
   "id": "d20011a4",
   "metadata": {},
   "outputs": [],
   "source": [
    "my_sample = Sample()  #we create instance object of object class \n",
    "                      #as everything in python is an object"
   ]
  },
  {
   "cell_type": "code",
   "execution_count": 4,
   "id": "eb87468f",
   "metadata": {},
   "outputs": [
    {
     "data": {
      "text/plain": [
       "__main__.Sample"
      ]
     },
     "execution_count": 4,
     "metadata": {},
     "output_type": "execute_result"
    }
   ],
   "source": [
    "type(my_sample)   #the output states that the object belongs to Sample class"
   ]
  },
  {
   "cell_type": "code",
   "execution_count": 5,
   "id": "150ad845",
   "metadata": {},
   "outputs": [],
   "source": [
    "class Dog():\n",
    "    \n",
    "    def __init__(self,breed):  #__init__ is the constructor method breed is the attribute \n",
    "        self.breed = breed     #self makes sure that the method/attribute is linked to that particular\n",
    "                            #instance of object only i.e they will not be common to all the instances "
   ]
  },
  {
   "cell_type": "code",
   "execution_count": 6,
   "id": "3b481548",
   "metadata": {},
   "outputs": [
    {
     "ename": "TypeError",
     "evalue": "Dog.__init__() missing 1 required positional argument: 'breed'",
     "output_type": "error",
     "traceback": [
      "\u001b[1;31m---------------------------------------------------------------------------\u001b[0m",
      "\u001b[1;31mTypeError\u001b[0m                                 Traceback (most recent call last)",
      "Cell \u001b[1;32mIn[6], line 1\u001b[0m\n\u001b[1;32m----> 1\u001b[0m my_dog \u001b[38;5;241m=\u001b[39m Dog()\n",
      "\u001b[1;31mTypeError\u001b[0m: Dog.__init__() missing 1 required positional argument: 'breed'"
     ]
    }
   ],
   "source": [
    "my_dog = Dog()"
   ]
  },
  {
   "cell_type": "code",
   "execution_count": 7,
   "id": "91d5d782",
   "metadata": {},
   "outputs": [],
   "source": [
    "my_dog = Dog('Huskie')"
   ]
  },
  {
   "cell_type": "code",
   "execution_count": 8,
   "id": "1c73b965",
   "metadata": {},
   "outputs": [
    {
     "data": {
      "text/plain": [
       "__main__.Dog"
      ]
     },
     "execution_count": 8,
     "metadata": {},
     "output_type": "execute_result"
    }
   ],
   "source": [
    "type(my_dog)"
   ]
  },
  {
   "cell_type": "code",
   "execution_count": 10,
   "id": "b30c52f3",
   "metadata": {},
   "outputs": [
    {
     "data": {
      "text/plain": [
       "'Huskie'"
      ]
     },
     "execution_count": 10,
     "metadata": {},
     "output_type": "execute_result"
    }
   ],
   "source": [
    "my_dog.breed       #in order to access the attribute we do not need () unlike method call"
   ]
  },
  {
   "cell_type": "code",
   "execution_count": 11,
   "id": "f7e4685d",
   "metadata": {},
   "outputs": [],
   "source": [
    "class Dog():\n",
    "    \n",
    "    def __init__(self,breed,name,spots):\n",
    "        name = name                     #if we do not use self in python then we cannot create attribute  \n",
    "        self.breed = breed              \n",
    "        self.spots = spots"
   ]
  },
  {
   "cell_type": "code",
   "execution_count": 12,
   "id": "a31a4aaf",
   "metadata": {},
   "outputs": [],
   "source": [
    "dog = Dog(breed='huskie',name = 'Nik', spots = False)"
   ]
  },
  {
   "cell_type": "code",
   "execution_count": 13,
   "id": "e50a9250",
   "metadata": {},
   "outputs": [
    {
     "ename": "AttributeError",
     "evalue": "'Dog' object has no attribute 'name'",
     "output_type": "error",
     "traceback": [
      "\u001b[1;31m---------------------------------------------------------------------------\u001b[0m",
      "\u001b[1;31mAttributeError\u001b[0m                            Traceback (most recent call last)",
      "Cell \u001b[1;32mIn[13], line 1\u001b[0m\n\u001b[1;32m----> 1\u001b[0m dog\u001b[38;5;241m.\u001b[39mname\n",
      "\u001b[1;31mAttributeError\u001b[0m: 'Dog' object has no attribute 'name'"
     ]
    }
   ],
   "source": [
    "dog.name"
   ]
  },
  {
   "cell_type": "code",
   "execution_count": 17,
   "id": "49c27d57",
   "metadata": {},
   "outputs": [],
   "source": [
    "class Dog():\n",
    "    \n",
    "    def __init__(self,breed,dog_name,spots):\n",
    "        name = dog_name                    \n",
    "        self.breed = breed             \n",
    "        self.spots = spots"
   ]
  },
  {
   "cell_type": "code",
   "execution_count": 18,
   "id": "aaf3f03a",
   "metadata": {},
   "outputs": [],
   "source": [
    "dog1 = Dog(breed='huskie',dog_name = 'Nik', spots = False)"
   ]
  },
  {
   "cell_type": "code",
   "execution_count": 19,
   "id": "56f840a4",
   "metadata": {},
   "outputs": [
    {
     "ename": "AttributeError",
     "evalue": "'Dog' object has no attribute 'name'",
     "output_type": "error",
     "traceback": [
      "\u001b[1;31m---------------------------------------------------------------------------\u001b[0m",
      "\u001b[1;31mAttributeError\u001b[0m                            Traceback (most recent call last)",
      "Cell \u001b[1;32mIn[19], line 1\u001b[0m\n\u001b[1;32m----> 1\u001b[0m dog1\u001b[38;5;241m.\u001b[39mname\n",
      "\u001b[1;31mAttributeError\u001b[0m: 'Dog' object has no attribute 'name'"
     ]
    }
   ],
   "source": [
    "dog1.name"
   ]
  },
  {
   "cell_type": "code",
   "execution_count": 46,
   "id": "abeeaa71",
   "metadata": {},
   "outputs": [],
   "source": [
    "class Dog():\n",
    "    \n",
    "    species = 'Mamal'   #class object attribute--same for any instance of class\n",
    "    \n",
    "    def __init__(self,breed,name,spots):\n",
    "        self.name = name                    \n",
    "        self.breed = breed             \n",
    "        self.spots = spots\n",
    "        \n",
    "    #methods--functions inside the class\n",
    "    def talk(self,num):   #since num is to be provided by the user everytime we do not need to use the self keyword\n",
    "        print(f'Woof! my name is {self.name} and the number is {num}')\n",
    "        "
   ]
  },
  {
   "cell_type": "code",
   "execution_count": 47,
   "id": "6e1066b5",
   "metadata": {},
   "outputs": [],
   "source": [
    "dog1 = Dog(breed='huskie',name = 'Nik', spots = False)"
   ]
  },
  {
   "cell_type": "code",
   "execution_count": 48,
   "id": "9af05614",
   "metadata": {},
   "outputs": [
    {
     "data": {
      "text/plain": [
       "'Nik'"
      ]
     },
     "execution_count": 48,
     "metadata": {},
     "output_type": "execute_result"
    }
   ],
   "source": [
    "dog1.name"
   ]
  },
  {
   "cell_type": "code",
   "execution_count": 49,
   "id": "5efeb676",
   "metadata": {},
   "outputs": [
    {
     "data": {
      "text/plain": [
       "'huskie'"
      ]
     },
     "execution_count": 49,
     "metadata": {},
     "output_type": "execute_result"
    }
   ],
   "source": [
    "dog1.breed"
   ]
  },
  {
   "cell_type": "code",
   "execution_count": 50,
   "id": "55a694fb",
   "metadata": {},
   "outputs": [
    {
     "data": {
      "text/plain": [
       "False"
      ]
     },
     "execution_count": 50,
     "metadata": {},
     "output_type": "execute_result"
    }
   ],
   "source": [
    "dog1.spots"
   ]
  },
  {
   "cell_type": "code",
   "execution_count": 51,
   "id": "901a869c",
   "metadata": {},
   "outputs": [
    {
     "data": {
      "text/plain": [
       "'Mamal'"
      ]
     },
     "execution_count": 51,
     "metadata": {},
     "output_type": "execute_result"
    }
   ],
   "source": [
    "dog1.species"
   ]
  },
  {
   "cell_type": "code",
   "execution_count": 52,
   "id": "dacb02ca",
   "metadata": {},
   "outputs": [
    {
     "name": "stdout",
     "output_type": "stream",
     "text": [
      "Woof! my name is Nik and the number is 2\n"
     ]
    }
   ],
   "source": [
    "dog1.talk(2)"
   ]
  },
  {
   "cell_type": "code",
   "execution_count": 132,
   "id": "803283b5",
   "metadata": {},
   "outputs": [],
   "source": [
    "class Circle():\n",
    "    \n",
    "    #class object attribute\n",
    "    pi = 3.14                  #their is a difference between self.pi and Circle.pi\n",
    "    \n",
    "    def __init__(self,radius = 1):  #we can pass default parameter\n",
    "        self.radius = radius\n",
    "        self.area = self.pi * self.radius*self.radius\n",
    "        \n",
    "    def get_circumference(self):\n",
    "        return self.radius * Circle.pi * 2 \n",
    "    def assign(self,colour):\n",
    "        self.appear = colour\n",
    "        \n",
    "        "
   ]
  },
  {
   "cell_type": "code",
   "execution_count": 133,
   "id": "d1ed4442",
   "metadata": {},
   "outputs": [],
   "source": [
    "my_circle = Circle()"
   ]
  },
  {
   "cell_type": "code",
   "execution_count": 134,
   "id": "f980e054",
   "metadata": {},
   "outputs": [
    {
     "data": {
      "text/plain": [
       "6.28"
      ]
     },
     "execution_count": 134,
     "metadata": {},
     "output_type": "execute_result"
    }
   ],
   "source": [
    "my_circle.get_circumference()"
   ]
  },
  {
   "cell_type": "code",
   "execution_count": 135,
   "id": "6f6034f3",
   "metadata": {},
   "outputs": [
    {
     "data": {
      "text/plain": [
       "3.14"
      ]
     },
     "execution_count": 135,
     "metadata": {},
     "output_type": "execute_result"
    }
   ],
   "source": [
    "my_circle.area"
   ]
  },
  {
   "cell_type": "code",
   "execution_count": 136,
   "id": "08f92167",
   "metadata": {},
   "outputs": [],
   "source": [
    "my_circle.assign('blue')"
   ]
  },
  {
   "cell_type": "code",
   "execution_count": 137,
   "id": "c75bca83",
   "metadata": {},
   "outputs": [
    {
     "data": {
      "text/plain": [
       "'blue'"
      ]
     },
     "execution_count": 137,
     "metadata": {},
     "output_type": "execute_result"
    }
   ],
   "source": [
    "my_circle.appear"
   ]
  },
  {
   "cell_type": "code",
   "execution_count": 138,
   "id": "425d01c7",
   "metadata": {},
   "outputs": [
    {
     "data": {
      "text/plain": [
       "3.14"
      ]
     },
     "execution_count": 138,
     "metadata": {},
     "output_type": "execute_result"
    }
   ],
   "source": [
    "my_circle.pi"
   ]
  },
  {
   "cell_type": "markdown",
   "id": "a4838bce",
   "metadata": {},
   "source": [
    "### Inheritance"
   ]
  },
  {
   "cell_type": "code",
   "execution_count": 2,
   "id": "9b43d483",
   "metadata": {},
   "outputs": [],
   "source": [
    "class Animal():\n",
    "    \n",
    "    def __init__(self):\n",
    "        print('Animal Created')\n",
    "        \n",
    "    def func1(self):\n",
    "        print('I am func1 of animal class')\n",
    "        \n",
    "    def func2(self):\n",
    "        print('I am func2 of animal class')"
   ]
  },
  {
   "cell_type": "code",
   "execution_count": 140,
   "id": "2b5de6ab",
   "metadata": {},
   "outputs": [
    {
     "name": "stdout",
     "output_type": "stream",
     "text": [
      "Animal Created\n"
     ]
    }
   ],
   "source": [
    "my_animal = Animal()"
   ]
  },
  {
   "cell_type": "code",
   "execution_count": 141,
   "id": "09f8a849",
   "metadata": {},
   "outputs": [
    {
     "name": "stdout",
     "output_type": "stream",
     "text": [
      "I am func1 of animal class\n"
     ]
    }
   ],
   "source": [
    "my_animal.func1()"
   ]
  },
  {
   "cell_type": "code",
   "execution_count": 142,
   "id": "f3ad8241",
   "metadata": {},
   "outputs": [
    {
     "name": "stdout",
     "output_type": "stream",
     "text": [
      "I am func2 of animal class\n"
     ]
    }
   ],
   "source": [
    "my_animal.func2()"
   ]
  },
  {
   "cell_type": "code",
   "execution_count": 3,
   "id": "b35f985f",
   "metadata": {},
   "outputs": [],
   "source": [
    "class Dog(Animal):\n",
    "    def __init__(self):\n",
    "        Animal.__init__(self)\n",
    "        print('Dog Created')"
   ]
  },
  {
   "cell_type": "code",
   "execution_count": 4,
   "id": "5b27518d",
   "metadata": {},
   "outputs": [
    {
     "name": "stdout",
     "output_type": "stream",
     "text": [
      "Animal Created\n",
      "Dog Created\n"
     ]
    }
   ],
   "source": [
    "mydog = Dog()"
   ]
  },
  {
   "cell_type": "code",
   "execution_count": 5,
   "id": "d189453d",
   "metadata": {},
   "outputs": [
    {
     "name": "stdout",
     "output_type": "stream",
     "text": [
      "I am func1 of animal class\n"
     ]
    }
   ],
   "source": [
    "mydog.func1()"
   ]
  },
  {
   "cell_type": "code",
   "execution_count": 6,
   "id": "5e8a6670",
   "metadata": {},
   "outputs": [
    {
     "name": "stdout",
     "output_type": "stream",
     "text": [
      "I am func2 of animal class\n"
     ]
    }
   ],
   "source": [
    "mydog.func2()"
   ]
  },
  {
   "cell_type": "code",
   "execution_count": 7,
   "id": "ce83bdaf",
   "metadata": {},
   "outputs": [],
   "source": [
    "class Dog1(Animal):\n",
    "    def __init__(self):\n",
    "        Animal.__init__(self)\n",
    "        print('Dog Created')\n",
    "    \n",
    "    def func1(self):  #method overriding\n",
    "        print('i am func 1 of dog class')"
   ]
  },
  {
   "cell_type": "code",
   "execution_count": 8,
   "id": "cf70d787",
   "metadata": {},
   "outputs": [
    {
     "name": "stdout",
     "output_type": "stream",
     "text": [
      "Animal Created\n",
      "Dog Created\n"
     ]
    }
   ],
   "source": [
    "mydog1 = Dog1()"
   ]
  },
  {
   "cell_type": "code",
   "execution_count": 10,
   "id": "5f98eef5",
   "metadata": {},
   "outputs": [
    {
     "name": "stdout",
     "output_type": "stream",
     "text": [
      "i am func 1 of dog class\n"
     ]
    }
   ],
   "source": [
    "mydog1.func1()"
   ]
  },
  {
   "cell_type": "code",
   "execution_count": 12,
   "id": "f535871e",
   "metadata": {},
   "outputs": [
    {
     "name": "stdout",
     "output_type": "stream",
     "text": [
      "I am func2 of animal class\n"
     ]
    }
   ],
   "source": [
    "mydog1.func2()"
   ]
  },
  {
   "cell_type": "markdown",
   "id": "1c9bb255",
   "metadata": {},
   "source": [
    "### Polymorphism"
   ]
  },
  {
   "cell_type": "code",
   "execution_count": 2,
   "id": "0f863e4f",
   "metadata": {},
   "outputs": [],
   "source": [
    "class Dog():\n",
    "    def __init__(self):\n",
    "        print('Dog Created')\n",
    "    \n",
    "    def func1(self):  \n",
    "        print('i am func 1 of dog class')"
   ]
  },
  {
   "cell_type": "code",
   "execution_count": 3,
   "id": "0f8d407c",
   "metadata": {},
   "outputs": [],
   "source": [
    "class Animal():\n",
    "    \n",
    "    def __init__(self):\n",
    "        print('Animal Created')\n",
    "        \n",
    "    def func1(self):\n",
    "        print('I am func1 of animal class')\n",
    "        \n",
    "    def func2(self):\n",
    "        print('I am func2 of animal class')"
   ]
  },
  {
   "cell_type": "code",
   "execution_count": 4,
   "id": "bfd78d95",
   "metadata": {},
   "outputs": [
    {
     "name": "stdout",
     "output_type": "stream",
     "text": [
      "Dog Created\n"
     ]
    }
   ],
   "source": [
    "mydog = Dog()"
   ]
  },
  {
   "cell_type": "code",
   "execution_count": 5,
   "id": "3264fd41",
   "metadata": {},
   "outputs": [
    {
     "name": "stdout",
     "output_type": "stream",
     "text": [
      "Animal Created\n"
     ]
    }
   ],
   "source": [
    "myanimal=Animal()"
   ]
  },
  {
   "cell_type": "code",
   "execution_count": 1,
   "id": "33409c98",
   "metadata": {},
   "outputs": [
    {
     "name": "stdout",
     "output_type": "stream",
     "text": [
      "5\n",
      "3\n"
     ]
    }
   ],
   "source": [
    "#polymorphism means the same function name (but different signatures) being used for different types.\n",
    "#The key difference is the data types and number of arguments used in function.\n",
    "\n",
    "# Python program to demonstrate in-built poly-morphic functions\n",
    " \n",
    "# len() being used for a string\n",
    "print(len(\"geeks\"))\n",
    " \n",
    "# len() being used for a list\n",
    "print(len([10, 20, 30]))"
   ]
  },
  {
   "cell_type": "code",
   "execution_count": 6,
   "id": "87a32312",
   "metadata": {},
   "outputs": [
    {
     "name": "stdout",
     "output_type": "stream",
     "text": [
      "i am func 1 of dog class\n",
      "I am func1 of animal class\n"
     ]
    }
   ],
   "source": [
    "#____Polymorphism with class methods____\n",
    "#Python can use two different class types, in the same way. We create a for loop that iterates \n",
    "#through a list/tuple of objects. Then call the methods without being concerned about which classtype \n",
    "#each object is. We assume that these methods actually exist in each class. \n",
    "for obj in [mydog,myanimal]:\n",
    "    obj.func1()\n"
   ]
  },
  {
   "cell_type": "code",
   "execution_count": 7,
   "id": "a0f42790",
   "metadata": {},
   "outputs": [],
   "source": [
    "#we can also create a function to do so\n",
    "def fun (obj):\n",
    "    obj.func1()"
   ]
  },
  {
   "cell_type": "code",
   "execution_count": 8,
   "id": "c1fafc89",
   "metadata": {},
   "outputs": [
    {
     "name": "stdout",
     "output_type": "stream",
     "text": [
      "I am func1 of animal class\n"
     ]
    }
   ],
   "source": [
    "fun(myanimal)"
   ]
  },
  {
   "cell_type": "code",
   "execution_count": 9,
   "id": "8bb6fb5f",
   "metadata": {},
   "outputs": [
    {
     "name": "stdout",
     "output_type": "stream",
     "text": [
      "i am func 1 of dog class\n"
     ]
    }
   ],
   "source": [
    "fun(mydog)"
   ]
  },
  {
   "cell_type": "code",
   "execution_count": 15,
   "id": "2f5cf19f",
   "metadata": {},
   "outputs": [],
   "source": [
    "#we can use concept of abstract classes to achieve ploymorphism\n",
    "class Animal():\n",
    "    def __init__(self,name):\n",
    "        self.name = name\n",
    "        print(f'hello {self.name}')\n",
    "        \n",
    "    def speak(self):\n",
    "        raise NotImplementedError('Subclass must implement this abstract method')"
   ]
  },
  {
   "cell_type": "code",
   "execution_count": 16,
   "id": "d15db819",
   "metadata": {},
   "outputs": [
    {
     "name": "stdout",
     "output_type": "stream",
     "text": [
      "hello Hella\n"
     ]
    }
   ],
   "source": [
    "myanimal = Animal('Hella')"
   ]
  },
  {
   "cell_type": "code",
   "execution_count": 17,
   "id": "e1d1b8ff",
   "metadata": {},
   "outputs": [
    {
     "data": {
      "text/plain": [
       "'Hella'"
      ]
     },
     "execution_count": 17,
     "metadata": {},
     "output_type": "execute_result"
    }
   ],
   "source": [
    "myanimal.name"
   ]
  },
  {
   "cell_type": "code",
   "execution_count": 18,
   "id": "074e1d09",
   "metadata": {},
   "outputs": [
    {
     "ename": "NotImplementedError",
     "evalue": "Subclass must implement this abstract method",
     "output_type": "error",
     "traceback": [
      "\u001b[1;31m---------------------------------------------------------------------------\u001b[0m",
      "\u001b[1;31mNotImplementedError\u001b[0m                       Traceback (most recent call last)",
      "Cell \u001b[1;32mIn[18], line 1\u001b[0m\n\u001b[1;32m----> 1\u001b[0m myanimal\u001b[38;5;241m.\u001b[39mspeak()\n",
      "Cell \u001b[1;32mIn[15], line 8\u001b[0m, in \u001b[0;36mAnimal.speak\u001b[1;34m(self)\u001b[0m\n\u001b[0;32m      7\u001b[0m \u001b[38;5;28;01mdef\u001b[39;00m \u001b[38;5;21mspeak\u001b[39m(\u001b[38;5;28mself\u001b[39m):\n\u001b[1;32m----> 8\u001b[0m     \u001b[38;5;28;01mraise\u001b[39;00m \u001b[38;5;167;01mNotImplementedError\u001b[39;00m(\u001b[38;5;124m'\u001b[39m\u001b[38;5;124mSubclass must implement this abstract method\u001b[39m\u001b[38;5;124m'\u001b[39m)\n",
      "\u001b[1;31mNotImplementedError\u001b[0m: Subclass must implement this abstract method"
     ]
    }
   ],
   "source": [
    "myanimal.speak()"
   ]
  },
  {
   "cell_type": "code",
   "execution_count": 23,
   "id": "c24a1b4a",
   "metadata": {},
   "outputs": [],
   "source": [
    "class Dog(Animal):\n",
    "    def __init__ (self):\n",
    "        print('hello')\n",
    "        \n",
    "    def speak(self):\n",
    "        print('I am woof')\n",
    "        "
   ]
  },
  {
   "cell_type": "code",
   "execution_count": 25,
   "id": "ee7e50fe",
   "metadata": {},
   "outputs": [],
   "source": [
    "class Cat(Animal):\n",
    "    def __init__ (self):\n",
    "        print('hello')\n",
    "        \n",
    "    def speak(self):\n",
    "        print('I am meow')"
   ]
  },
  {
   "cell_type": "code",
   "execution_count": 26,
   "id": "67da0c4c",
   "metadata": {},
   "outputs": [
    {
     "name": "stdout",
     "output_type": "stream",
     "text": [
      "hello\n"
     ]
    }
   ],
   "source": [
    "mydog = Dog()"
   ]
  },
  {
   "cell_type": "code",
   "execution_count": 27,
   "id": "fd3e6e33",
   "metadata": {},
   "outputs": [
    {
     "name": "stdout",
     "output_type": "stream",
     "text": [
      "hello\n"
     ]
    }
   ],
   "source": [
    "mycat = Cat()"
   ]
  },
  {
   "cell_type": "code",
   "execution_count": 28,
   "id": "550ac793",
   "metadata": {},
   "outputs": [
    {
     "name": "stdout",
     "output_type": "stream",
     "text": [
      "I am woof\n"
     ]
    }
   ],
   "source": [
    "mydog.speak()"
   ]
  },
  {
   "cell_type": "code",
   "execution_count": 29,
   "id": "8d47f633",
   "metadata": {},
   "outputs": [
    {
     "name": "stdout",
     "output_type": "stream",
     "text": [
      "I am meow\n"
     ]
    }
   ],
   "source": [
    "mycat.speak()"
   ]
  },
  {
   "cell_type": "markdown",
   "id": "09b100fa",
   "metadata": {},
   "source": [
    "### Dunder Methods"
   ]
  },
  {
   "cell_type": "code",
   "execution_count": 30,
   "id": "b4b7b3cf",
   "metadata": {},
   "outputs": [],
   "source": [
    "mylist = [1,2,3,5]"
   ]
  },
  {
   "cell_type": "code",
   "execution_count": 31,
   "id": "7a73af9e",
   "metadata": {},
   "outputs": [
    {
     "data": {
      "text/plain": [
       "4"
      ]
     },
     "execution_count": 31,
     "metadata": {},
     "output_type": "execute_result"
    }
   ],
   "source": [
    "len(mylist)"
   ]
  },
  {
   "cell_type": "code",
   "execution_count": 37,
   "id": "7534b916",
   "metadata": {},
   "outputs": [],
   "source": [
    "class name():\n",
    "    def __init__(self,name):\n",
    "        print(f'Hello {name}')\n",
    "        \n",
    "    def welcome(self):\n",
    "        return 'how are you?'"
   ]
  },
  {
   "cell_type": "code",
   "execution_count": 38,
   "id": "098c6b5a",
   "metadata": {},
   "outputs": [
    {
     "name": "stdout",
     "output_type": "stream",
     "text": [
      "Hello Yash\n"
     ]
    }
   ],
   "source": [
    "obj = name('Yash')"
   ]
  },
  {
   "cell_type": "code",
   "execution_count": 39,
   "id": "9e9089dd",
   "metadata": {},
   "outputs": [
    {
     "ename": "TypeError",
     "evalue": "object of type 'name' has no len()",
     "output_type": "error",
     "traceback": [
      "\u001b[1;31m---------------------------------------------------------------------------\u001b[0m",
      "\u001b[1;31mTypeError\u001b[0m                                 Traceback (most recent call last)",
      "Cell \u001b[1;32mIn[39], line 1\u001b[0m\n\u001b[1;32m----> 1\u001b[0m \u001b[38;5;28mlen\u001b[39m(obj)\n",
      "\u001b[1;31mTypeError\u001b[0m: object of type 'name' has no len()"
     ]
    }
   ],
   "source": [
    "len(obj)"
   ]
  },
  {
   "cell_type": "code",
   "execution_count": 40,
   "id": "b2703e45",
   "metadata": {},
   "outputs": [
    {
     "name": "stdout",
     "output_type": "stream",
     "text": [
      "[1, 2, 3, 5]\n"
     ]
    }
   ],
   "source": [
    "print(mylist)"
   ]
  },
  {
   "cell_type": "code",
   "execution_count": 41,
   "id": "b6f14957",
   "metadata": {},
   "outputs": [
    {
     "name": "stdout",
     "output_type": "stream",
     "text": [
      "<__main__.name object at 0x000001E2DCCCB350>\n"
     ]
    }
   ],
   "source": [
    "print(obj)"
   ]
  },
  {
   "cell_type": "code",
   "execution_count": 46,
   "id": "77b80850",
   "metadata": {},
   "outputs": [],
   "source": [
    "class Book():\n",
    "    def __init__(self,name,author,pages):\n",
    "        self.name=name\n",
    "        self.author=author\n",
    "        self.pages=pages\n",
    "        \n",
    "    def __str__(self):                  #the print() and str() method looks for this method in class \n",
    "        return f'{self.name} by {self.author}'\n",
    "    \n",
    "    def __len__(self):         #the len() method looks for this method\n",
    "        return self.pages\n",
    "    "
   ]
  },
  {
   "cell_type": "code",
   "execution_count": 53,
   "id": "e3254ab9",
   "metadata": {},
   "outputs": [],
   "source": [
    "b = Book('YashBio','Yash',500)"
   ]
  },
  {
   "cell_type": "code",
   "execution_count": 48,
   "id": "04526257",
   "metadata": {},
   "outputs": [
    {
     "name": "stdout",
     "output_type": "stream",
     "text": [
      "YashBio by Yash\n"
     ]
    }
   ],
   "source": [
    "print(b)"
   ]
  },
  {
   "cell_type": "code",
   "execution_count": 49,
   "id": "94fb9a61",
   "metadata": {},
   "outputs": [
    {
     "data": {
      "text/plain": [
       "'YashBio by Yash'"
      ]
     },
     "execution_count": 49,
     "metadata": {},
     "output_type": "execute_result"
    }
   ],
   "source": [
    "str(b)"
   ]
  },
  {
   "cell_type": "code",
   "execution_count": 50,
   "id": "cd89f6c3",
   "metadata": {},
   "outputs": [
    {
     "data": {
      "text/plain": [
       "500"
      ]
     },
     "execution_count": 50,
     "metadata": {},
     "output_type": "execute_result"
    }
   ],
   "source": [
    "len(b)"
   ]
  },
  {
   "cell_type": "code",
   "execution_count": 54,
   "id": "28092cfa",
   "metadata": {
    "scrolled": true
   },
   "outputs": [],
   "source": [
    "del(b)  #del() deletes the object   "
   ]
  },
  {
   "cell_type": "code",
   "execution_count": 55,
   "id": "cb518c89",
   "metadata": {},
   "outputs": [
    {
     "ename": "NameError",
     "evalue": "name 'b' is not defined",
     "output_type": "error",
     "traceback": [
      "\u001b[1;31m---------------------------------------------------------------------------\u001b[0m",
      "\u001b[1;31mNameError\u001b[0m                                 Traceback (most recent call last)",
      "Cell \u001b[1;32mIn[55], line 1\u001b[0m\n\u001b[1;32m----> 1\u001b[0m b\n",
      "\u001b[1;31mNameError\u001b[0m: name 'b' is not defined"
     ]
    }
   ],
   "source": [
    "b"
   ]
  },
  {
   "cell_type": "code",
   "execution_count": 62,
   "id": "3a8f6e83",
   "metadata": {},
   "outputs": [],
   "source": [
    "class Book():\n",
    "    def __init__(self,name,author,pages):\n",
    "        self.name=name\n",
    "        self.author=author\n",
    "        self.pages=pages\n",
    "        \n",
    "    def __str__(self):                  \n",
    "        return f'{self.name} by {self.author}'\n",
    "    \n",
    "    def __len__(self):       \n",
    "        return self.pages\n",
    "    \n",
    "    def __del__(self):        #del() looks for this method in the class\n",
    "        print('A book object has been deleted')"
   ]
  },
  {
   "cell_type": "code",
   "execution_count": 63,
   "id": "05102311",
   "metadata": {},
   "outputs": [],
   "source": [
    "b = Book('YashBio','Yash',500)"
   ]
  },
  {
   "cell_type": "code",
   "execution_count": 64,
   "id": "d5d727c5",
   "metadata": {},
   "outputs": [
    {
     "name": "stdout",
     "output_type": "stream",
     "text": [
      "A book object has been deleted\n"
     ]
    }
   ],
   "source": [
    "del(b)"
   ]
  },
  {
   "cell_type": "code",
   "execution_count": null,
   "id": "b2026dd7",
   "metadata": {},
   "outputs": [],
   "source": []
  }
 ],
 "metadata": {
  "kernelspec": {
   "display_name": "Python 3 (ipykernel)",
   "language": "python",
   "name": "python3"
  },
  "language_info": {
   "codemirror_mode": {
    "name": "ipython",
    "version": 3
   },
   "file_extension": ".py",
   "mimetype": "text/x-python",
   "name": "python",
   "nbconvert_exporter": "python",
   "pygments_lexer": "ipython3",
   "version": "3.11.5"
  }
 },
 "nbformat": 4,
 "nbformat_minor": 5
}
