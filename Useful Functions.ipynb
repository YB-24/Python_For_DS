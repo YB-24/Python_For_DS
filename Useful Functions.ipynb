{
 "cells": [
  {
   "cell_type": "code",
   "execution_count": 3,
   "id": "0d9cb014",
   "metadata": {},
   "outputs": [
    {
     "name": "stdout",
     "output_type": "stream",
     "text": [
      "0\n",
      "1\n",
      "2\n",
      "3\n",
      "4\n",
      "5\n",
      "6\n",
      "7\n",
      "8\n",
      "9\n"
     ]
    }
   ],
   "source": [
    "for num in range(10):            #can read documentation about this by using 'shift+tab' on the function\n",
    "    print (num)"
   ]
  },
  {
   "cell_type": "code",
   "execution_count": 6,
   "id": "93a6abbf",
   "metadata": {},
   "outputs": [
    {
     "name": "stdout",
     "output_type": "stream",
     "text": [
      "5\n",
      "6\n",
      "7\n",
      "8\n",
      "9\n"
     ]
    }
   ],
   "source": [
    "for num in range(5,10):\n",
    "    print(num)"
   ]
  },
  {
   "cell_type": "code",
   "execution_count": 7,
   "id": "1d0666e3",
   "metadata": {},
   "outputs": [
    {
     "name": "stdout",
     "output_type": "stream",
     "text": [
      "5\n",
      "7\n",
      "9\n"
     ]
    }
   ],
   "source": [
    "for num in range(5,10,2):\n",
    "    print(num)"
   ]
  },
  {
   "cell_type": "code",
   "execution_count": 8,
   "id": "5bb15040",
   "metadata": {},
   "outputs": [
    {
     "data": {
      "text/plain": [
       "range(1, 11, 2)"
      ]
     },
     "execution_count": 8,
     "metadata": {},
     "output_type": "execute_result"
    }
   ],
   "source": [
    "range(1,11,2)           #returns that object"
   ]
  },
  {
   "cell_type": "code",
   "execution_count": 9,
   "id": "f163b2c7",
   "metadata": {},
   "outputs": [
    {
     "data": {
      "text/plain": [
       "[1, 3, 5, 7, 9]"
      ]
     },
     "execution_count": 9,
     "metadata": {},
     "output_type": "execute_result"
    }
   ],
   "source": [
    "#we can cast this in to list\n",
    "list(range(1,11,2))"
   ]
  },
  {
   "cell_type": "code",
   "execution_count": 10,
   "id": "42b58738",
   "metadata": {},
   "outputs": [
    {
     "name": "stdout",
     "output_type": "stream",
     "text": [
      "range(1, 11, 2)\n"
     ]
    }
   ],
   "source": [
    "print(range(1,11,2)) "
   ]
  },
  {
   "cell_type": "code",
   "execution_count": 11,
   "id": "ffd32e47",
   "metadata": {},
   "outputs": [
    {
     "name": "stdout",
     "output_type": "stream",
     "text": [
      "At index 0 the letter is a\n",
      "At index 1 the letter is b\n",
      "At index 2 the letter is c\n",
      "At index 3 the letter is d\n",
      "At index 4 the letter is e\n"
     ]
    }
   ],
   "source": [
    "index_count = 0\n",
    "\n",
    "for letter in 'abcde':\n",
    "    print('At index {} the letter is {}'.format(index_count,letter))\n",
    "    index_count +=1"
   ]
  },
  {
   "cell_type": "code",
   "execution_count": 12,
   "id": "eca50316",
   "metadata": {},
   "outputs": [
    {
     "name": "stdout",
     "output_type": "stream",
     "text": [
      "(0, 'a')\n",
      "(1, 'b')\n",
      "(2, 'c')\n",
      "(3, 'd')\n",
      "(4, 'e')\n"
     ]
    }
   ],
   "source": [
    "#above method is the common method therefore we can use below method instead\n",
    "for item in enumerate('abcde'):\n",
    "    print(item)"
   ]
  },
  {
   "cell_type": "code",
   "execution_count": 13,
   "id": "441c61c7",
   "metadata": {},
   "outputs": [
    {
     "name": "stdout",
     "output_type": "stream",
     "text": [
      "0   a\n",
      "1   b\n",
      "2   c\n",
      "3   d\n",
      "4   e\n"
     ]
    }
   ],
   "source": [
    "#by tuple unpacking method\n",
    "for index,letter in enumerate('abcde'):\n",
    "    print(index,' ',letter)"
   ]
  },
  {
   "cell_type": "code",
   "execution_count": 14,
   "id": "07cd54fd",
   "metadata": {},
   "outputs": [],
   "source": [
    "l1 = [1,2,3]\n",
    "l2 = ['a','b','c']"
   ]
  },
  {
   "cell_type": "code",
   "execution_count": 15,
   "id": "a67e0e9d",
   "metadata": {},
   "outputs": [
    {
     "name": "stdout",
     "output_type": "stream",
     "text": [
      "(1, 'a')\n",
      "(2, 'b')\n",
      "(3, 'c')\n"
     ]
    }
   ],
   "source": [
    "for item in zip(l1,l2):  #return tuples of pair of iterables passed in the argument\n",
    "    print(item)          #we can pass 2 or more arguments"
   ]
  },
  {
   "cell_type": "code",
   "execution_count": 16,
   "id": "4cedb1e4",
   "metadata": {},
   "outputs": [
    {
     "data": {
      "text/plain": [
       "False"
      ]
     },
     "execution_count": 16,
     "metadata": {},
     "output_type": "execute_result"
    }
   ],
   "source": [
    "'x' in [1,2,3]"
   ]
  },
  {
   "cell_type": "code",
   "execution_count": 17,
   "id": "df368868",
   "metadata": {},
   "outputs": [
    {
     "data": {
      "text/plain": [
       "True"
      ]
     },
     "execution_count": 17,
     "metadata": {},
     "output_type": "execute_result"
    }
   ],
   "source": [
    "2 in [1,2,3]"
   ]
  },
  {
   "cell_type": "code",
   "execution_count": 18,
   "id": "f88c109f",
   "metadata": {},
   "outputs": [
    {
     "data": {
      "text/plain": [
       "False"
      ]
     },
     "execution_count": 18,
     "metadata": {},
     "output_type": "execute_result"
    }
   ],
   "source": [
    "'a' in 'world'"
   ]
  },
  {
   "cell_type": "code",
   "execution_count": 19,
   "id": "86e94f27",
   "metadata": {},
   "outputs": [
    {
     "data": {
      "text/plain": [
       "True"
      ]
     },
     "execution_count": 19,
     "metadata": {},
     "output_type": "execute_result"
    }
   ],
   "source": [
    "'my_item' in {'my_item':325}"
   ]
  },
  {
   "cell_type": "code",
   "execution_count": 24,
   "id": "9421ca4e",
   "metadata": {},
   "outputs": [],
   "source": [
    "d = {'my_item':325}"
   ]
  },
  {
   "cell_type": "code",
   "execution_count": 26,
   "id": "d2f1ede3",
   "metadata": {},
   "outputs": [
    {
     "data": {
      "text/plain": [
       "True"
      ]
     },
     "execution_count": 26,
     "metadata": {},
     "output_type": "execute_result"
    }
   ],
   "source": [
    "325 in d.values()"
   ]
  },
  {
   "cell_type": "code",
   "execution_count": 27,
   "id": "6fe356d6",
   "metadata": {},
   "outputs": [],
   "source": [
    "l = [10,25,3,69,256,30,14]"
   ]
  },
  {
   "cell_type": "code",
   "execution_count": 28,
   "id": "60200f86",
   "metadata": {},
   "outputs": [
    {
     "data": {
      "text/plain": [
       "3"
      ]
     },
     "execution_count": 28,
     "metadata": {},
     "output_type": "execute_result"
    }
   ],
   "source": [
    "min(l)"
   ]
  },
  {
   "cell_type": "code",
   "execution_count": 29,
   "id": "d6344a25",
   "metadata": {},
   "outputs": [
    {
     "data": {
      "text/plain": [
       "256"
      ]
     },
     "execution_count": 29,
     "metadata": {},
     "output_type": "execute_result"
    }
   ],
   "source": [
    "max(l)"
   ]
  },
  {
   "cell_type": "code",
   "execution_count": 30,
   "id": "7802a721",
   "metadata": {},
   "outputs": [],
   "source": [
    "from random import shuffle"
   ]
  },
  {
   "cell_type": "code",
   "execution_count": 31,
   "id": "246a973c",
   "metadata": {},
   "outputs": [],
   "source": [
    "list_1 = [2,3,5,8,7,9,12,45,98]"
   ]
  },
  {
   "cell_type": "code",
   "execution_count": 32,
   "id": "4a07f1f7",
   "metadata": {},
   "outputs": [],
   "source": [
    "shuffle(list_1)"
   ]
  },
  {
   "cell_type": "code",
   "execution_count": 33,
   "id": "de55fa6a",
   "metadata": {},
   "outputs": [
    {
     "data": {
      "text/plain": [
       "[2, 5, 45, 9, 7, 12, 8, 3, 98]"
      ]
     },
     "execution_count": 33,
     "metadata": {},
     "output_type": "execute_result"
    }
   ],
   "source": [
    "list_1"
   ]
  },
  {
   "cell_type": "code",
   "execution_count": 34,
   "id": "fc35f480",
   "metadata": {},
   "outputs": [],
   "source": [
    "from random import randint"
   ]
  },
  {
   "cell_type": "code",
   "execution_count": 35,
   "id": "58061f85",
   "metadata": {},
   "outputs": [
    {
     "data": {
      "text/plain": [
       "18"
      ]
     },
     "execution_count": 35,
     "metadata": {},
     "output_type": "execute_result"
    }
   ],
   "source": [
    "randint(0,25)"
   ]
  },
  {
   "cell_type": "code",
   "execution_count": 36,
   "id": "d9b7c2b2",
   "metadata": {},
   "outputs": [
    {
     "name": "stdout",
     "output_type": "stream",
     "text": [
      "whats your name?Yash\n"
     ]
    },
    {
     "data": {
      "text/plain": [
       "'Yash'"
      ]
     },
     "execution_count": 36,
     "metadata": {},
     "output_type": "execute_result"
    }
   ],
   "source": [
    "#taking user input\n",
    "input('whats your name?')"
   ]
  },
  {
   "cell_type": "code",
   "execution_count": 37,
   "id": "65577e21",
   "metadata": {},
   "outputs": [
    {
     "name": "stdout",
     "output_type": "stream",
     "text": [
      "Whats your Name?Yash\n"
     ]
    }
   ],
   "source": [
    "#we can save input in variable\n",
    "name = input('Whats your Name?')"
   ]
  },
  {
   "cell_type": "code",
   "execution_count": 38,
   "id": "719f8903",
   "metadata": {},
   "outputs": [
    {
     "data": {
      "text/plain": [
       "'Yash'"
      ]
     },
     "execution_count": 38,
     "metadata": {},
     "output_type": "execute_result"
    }
   ],
   "source": [
    "name"
   ]
  },
  {
   "cell_type": "code",
   "execution_count": 39,
   "id": "adaed99f",
   "metadata": {},
   "outputs": [
    {
     "name": "stdout",
     "output_type": "stream",
     "text": [
      "whats your roll_num?23\n"
     ]
    }
   ],
   "source": [
    "#input always accepts string input\n",
    "num = input('whats your roll_num?')"
   ]
  },
  {
   "cell_type": "code",
   "execution_count": 40,
   "id": "f96bff13",
   "metadata": {},
   "outputs": [
    {
     "data": {
      "text/plain": [
       "str"
      ]
     },
     "execution_count": 40,
     "metadata": {},
     "output_type": "execute_result"
    }
   ],
   "source": [
    "type(num)"
   ]
  },
  {
   "cell_type": "code",
   "execution_count": 41,
   "id": "b48653d1",
   "metadata": {},
   "outputs": [
    {
     "data": {
      "text/plain": [
       "23"
      ]
     },
     "execution_count": 41,
     "metadata": {},
     "output_type": "execute_result"
    }
   ],
   "source": [
    "#we can cast it into other data type\n",
    "int(num)"
   ]
  },
  {
   "cell_type": "code",
   "execution_count": 42,
   "id": "0dc14204",
   "metadata": {},
   "outputs": [
    {
     "data": {
      "text/plain": [
       "23.0"
      ]
     },
     "execution_count": 42,
     "metadata": {},
     "output_type": "execute_result"
    }
   ],
   "source": [
    "float(num)"
   ]
  },
  {
   "cell_type": "code",
   "execution_count": 43,
   "id": "97045b30",
   "metadata": {},
   "outputs": [
    {
     "name": "stdout",
     "output_type": "stream",
     "text": [
      "Enter number?23\n"
     ]
    }
   ],
   "source": [
    "#we can cast directly \n",
    "result = int(input('Enter number?'))"
   ]
  },
  {
   "cell_type": "code",
   "execution_count": 44,
   "id": "4ed61e62",
   "metadata": {},
   "outputs": [
    {
     "data": {
      "text/plain": [
       "int"
      ]
     },
     "execution_count": 44,
     "metadata": {},
     "output_type": "execute_result"
    }
   ],
   "source": [
    "type(result)"
   ]
  },
  {
   "cell_type": "code",
   "execution_count": 45,
   "id": "8fd4d3e3",
   "metadata": {},
   "outputs": [
    {
     "data": {
      "text/plain": [
       "23"
      ]
     },
     "execution_count": 45,
     "metadata": {},
     "output_type": "execute_result"
    }
   ],
   "source": [
    "result"
   ]
  },
  {
   "cell_type": "markdown",
   "id": "fde8f22e",
   "metadata": {},
   "source": [
    "### List Comprehension"
   ]
  },
  {
   "cell_type": "code",
   "execution_count": 1,
   "id": "e148602c",
   "metadata": {},
   "outputs": [],
   "source": [
    "#common method\n",
    "list1 = []\n",
    "\n",
    "for x in 'Hello':\n",
    "    list1.append(x)"
   ]
  },
  {
   "cell_type": "code",
   "execution_count": 2,
   "id": "c45ddb41",
   "metadata": {},
   "outputs": [
    {
     "data": {
      "text/plain": [
       "['H', 'e', 'l', 'l', 'o']"
      ]
     },
     "execution_count": 2,
     "metadata": {},
     "output_type": "execute_result"
    }
   ],
   "source": [
    "list1"
   ]
  },
  {
   "cell_type": "code",
   "execution_count": 3,
   "id": "9ca544c3",
   "metadata": {},
   "outputs": [],
   "source": [
    "#comprehension method\n",
    "list2 = [x for x in 'Hello']    #the first x represents the element to be appended"
   ]
  },
  {
   "cell_type": "code",
   "execution_count": 4,
   "id": "a2f9b905",
   "metadata": {},
   "outputs": [
    {
     "data": {
      "text/plain": [
       "['H', 'e', 'l', 'l', 'o']"
      ]
     },
     "execution_count": 4,
     "metadata": {},
     "output_type": "execute_result"
    }
   ],
   "source": [
    "list2"
   ]
  },
  {
   "cell_type": "code",
   "execution_count": 6,
   "id": "58e2da7d",
   "metadata": {},
   "outputs": [],
   "source": [
    "list3 = [x+'2' for x in 'Hello']"
   ]
  },
  {
   "cell_type": "code",
   "execution_count": 7,
   "id": "2da93f6c",
   "metadata": {},
   "outputs": [
    {
     "data": {
      "text/plain": [
       "['H2', 'e2', 'l2', 'l2', 'o2']"
      ]
     },
     "execution_count": 7,
     "metadata": {},
     "output_type": "execute_result"
    }
   ],
   "source": [
    "list3"
   ]
  },
  {
   "cell_type": "code",
   "execution_count": 8,
   "id": "fcf0a2d2",
   "metadata": {},
   "outputs": [],
   "source": [
    "l4 = [x for x in range(0,11)]"
   ]
  },
  {
   "cell_type": "code",
   "execution_count": 9,
   "id": "951cdc9f",
   "metadata": {},
   "outputs": [
    {
     "data": {
      "text/plain": [
       "[0, 1, 2, 3, 4, 5, 6, 7, 8, 9, 10]"
      ]
     },
     "execution_count": 9,
     "metadata": {},
     "output_type": "execute_result"
    }
   ],
   "source": [
    "l4"
   ]
  },
  {
   "cell_type": "code",
   "execution_count": 10,
   "id": "8a0e692a",
   "metadata": {},
   "outputs": [],
   "source": [
    "#we can also add if-else statement \n",
    "l5 = [x for x in range(0,11) if x%2==0]"
   ]
  },
  {
   "cell_type": "code",
   "execution_count": 11,
   "id": "85db541f",
   "metadata": {},
   "outputs": [
    {
     "data": {
      "text/plain": [
       "[0, 2, 4, 6, 8, 10]"
      ]
     },
     "execution_count": 11,
     "metadata": {},
     "output_type": "execute_result"
    }
   ],
   "source": [
    "l5"
   ]
  },
  {
   "cell_type": "code",
   "execution_count": 12,
   "id": "89a4bc85",
   "metadata": {},
   "outputs": [],
   "source": [
    "l6 = [x**2 for x in range(0,11) if x%2==0]"
   ]
  },
  {
   "cell_type": "code",
   "execution_count": 13,
   "id": "808caace",
   "metadata": {},
   "outputs": [
    {
     "data": {
      "text/plain": [
       "[0, 4, 16, 36, 64, 100]"
      ]
     },
     "execution_count": 13,
     "metadata": {},
     "output_type": "execute_result"
    }
   ],
   "source": [
    "l6"
   ]
  },
  {
   "cell_type": "code",
   "execution_count": 17,
   "id": "991040b8",
   "metadata": {},
   "outputs": [],
   "source": [
    "l7 = [x if x%2==0 else 'ODD' for x in range(0,11)]"
   ]
  },
  {
   "cell_type": "code",
   "execution_count": 18,
   "id": "7cc947c5",
   "metadata": {},
   "outputs": [
    {
     "data": {
      "text/plain": [
       "[0, 'ODD', 2, 'ODD', 4, 'ODD', 6, 'ODD', 8, 'ODD', 10]"
      ]
     },
     "execution_count": 18,
     "metadata": {},
     "output_type": "execute_result"
    }
   ],
   "source": [
    "l7"
   ]
  },
  {
   "cell_type": "code",
   "execution_count": 19,
   "id": "7eba9e40",
   "metadata": {},
   "outputs": [],
   "source": [
    "#nested loops\n",
    "my_list = []\n",
    "\n",
    "for x in [2,3,5]:\n",
    "    for y in [10,20,30]:\n",
    "        my_list.append(x*y)"
   ]
  },
  {
   "cell_type": "code",
   "execution_count": 20,
   "id": "6f03662f",
   "metadata": {},
   "outputs": [
    {
     "data": {
      "text/plain": [
       "[20, 40, 60, 30, 60, 90, 50, 100, 150]"
      ]
     },
     "execution_count": 20,
     "metadata": {},
     "output_type": "execute_result"
    }
   ],
   "source": [
    "my_list"
   ]
  },
  {
   "cell_type": "code",
   "execution_count": 21,
   "id": "5a3b347f",
   "metadata": {},
   "outputs": [],
   "source": [
    "#another approach\n",
    "my_list = [x*y for x in [2,3,5] for y in [10,20,30]]"
   ]
  },
  {
   "cell_type": "code",
   "execution_count": 22,
   "id": "e5235491",
   "metadata": {},
   "outputs": [
    {
     "data": {
      "text/plain": [
       "[20, 40, 60, 30, 60, 90, 50, 100, 150]"
      ]
     },
     "execution_count": 22,
     "metadata": {},
     "output_type": "execute_result"
    }
   ],
   "source": [
    "my_list"
   ]
  },
  {
   "cell_type": "code",
   "execution_count": null,
   "id": "8b1abecf",
   "metadata": {},
   "outputs": [],
   "source": []
  }
 ],
 "metadata": {
  "kernelspec": {
   "display_name": "Python 3 (ipykernel)",
   "language": "python",
   "name": "python3"
  },
  "language_info": {
   "codemirror_mode": {
    "name": "ipython",
    "version": 3
   },
   "file_extension": ".py",
   "mimetype": "text/x-python",
   "name": "python",
   "nbconvert_exporter": "python",
   "pygments_lexer": "ipython3",
   "version": "3.11.5"
  }
 },
 "nbformat": 4,
 "nbformat_minor": 5
}
