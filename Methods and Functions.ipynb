{
 "cells": [
  {
   "cell_type": "markdown",
   "id": "3ead1608",
   "metadata": {},
   "source": [
    "##### Function Basics"
   ]
  },
  {
   "cell_type": "code",
   "execution_count": 1,
   "id": "fc313911",
   "metadata": {},
   "outputs": [],
   "source": [
    "def say_hello():\n",
    "    print('hello')"
   ]
  },
  {
   "cell_type": "code",
   "execution_count": 2,
   "id": "1ab03e23",
   "metadata": {},
   "outputs": [
    {
     "name": "stdout",
     "output_type": "stream",
     "text": [
      "hello\n"
     ]
    }
   ],
   "source": [
    "say_hello()"
   ]
  },
  {
   "cell_type": "code",
   "execution_count": 3,
   "id": "59a08da7",
   "metadata": {},
   "outputs": [],
   "source": [
    "def say_hello(name):\n",
    "    print(f'hello {name}')"
   ]
  },
  {
   "cell_type": "code",
   "execution_count": 4,
   "id": "ed26be91",
   "metadata": {},
   "outputs": [
    {
     "name": "stdout",
     "output_type": "stream",
     "text": [
      "hello Yash\n"
     ]
    }
   ],
   "source": [
    "say_hello('Yash')"
   ]
  },
  {
   "cell_type": "code",
   "execution_count": 5,
   "id": "1f116978",
   "metadata": {},
   "outputs": [
    {
     "ename": "TypeError",
     "evalue": "say_hello() missing 1 required positional argument: 'name'",
     "output_type": "error",
     "traceback": [
      "\u001b[1;31m---------------------------------------------------------------------------\u001b[0m",
      "\u001b[1;31mTypeError\u001b[0m                                 Traceback (most recent call last)",
      "Cell \u001b[1;32mIn[5], line 1\u001b[0m\n\u001b[1;32m----> 1\u001b[0m say_hello()\n",
      "\u001b[1;31mTypeError\u001b[0m: say_hello() missing 1 required positional argument: 'name'"
     ]
    }
   ],
   "source": [
    "say_hello()"
   ]
  },
  {
   "cell_type": "code",
   "execution_count": 6,
   "id": "3a05e818",
   "metadata": {},
   "outputs": [],
   "source": [
    "#we can set default parameters\n",
    "def say_hello(name='Default'):\n",
    "    print(f'hello {name}')"
   ]
  },
  {
   "cell_type": "code",
   "execution_count": 7,
   "id": "0ed354e7",
   "metadata": {},
   "outputs": [
    {
     "name": "stdout",
     "output_type": "stream",
     "text": [
      "hello Yash\n"
     ]
    }
   ],
   "source": [
    "say_hello('Yash')"
   ]
  },
  {
   "cell_type": "code",
   "execution_count": 8,
   "id": "57a0f568",
   "metadata": {},
   "outputs": [
    {
     "name": "stdout",
     "output_type": "stream",
     "text": [
      "hello Default\n"
     ]
    }
   ],
   "source": [
    "say_hello()"
   ]
  },
  {
   "cell_type": "code",
   "execution_count": 9,
   "id": "22c54bae",
   "metadata": {},
   "outputs": [],
   "source": [
    "def add_num(a,b):\n",
    "    return a+b"
   ]
  },
  {
   "cell_type": "code",
   "execution_count": 10,
   "id": "c35c364c",
   "metadata": {},
   "outputs": [
    {
     "data": {
      "text/plain": [
       "50"
      ]
     },
     "execution_count": 10,
     "metadata": {},
     "output_type": "execute_result"
    }
   ],
   "source": [
    "add_num(20,30)   #output is generated i.e the function returns a value which we can save in the variable"
   ]
  },
  {
   "cell_type": "code",
   "execution_count": 11,
   "id": "63694d5b",
   "metadata": {},
   "outputs": [],
   "source": [
    "result = add_num(20,30)"
   ]
  },
  {
   "cell_type": "code",
   "execution_count": 12,
   "id": "f8af9671",
   "metadata": {},
   "outputs": [
    {
     "data": {
      "text/plain": [
       "50"
      ]
     },
     "execution_count": 12,
     "metadata": {},
     "output_type": "execute_result"
    }
   ],
   "source": [
    "result"
   ]
  },
  {
   "cell_type": "code",
   "execution_count": 13,
   "id": "981e078b",
   "metadata": {},
   "outputs": [],
   "source": [
    "def add_num_print(a,b):\n",
    "    print(a+b)"
   ]
  },
  {
   "cell_type": "code",
   "execution_count": 14,
   "id": "13f1d32d",
   "metadata": {},
   "outputs": [
    {
     "name": "stdout",
     "output_type": "stream",
     "text": [
      "50\n"
     ]
    }
   ],
   "source": [
    "add_num_print(20,30)     #output is not generated only value is printed"
   ]
  },
  {
   "cell_type": "code",
   "execution_count": 15,
   "id": "b09744a2",
   "metadata": {},
   "outputs": [
    {
     "name": "stdout",
     "output_type": "stream",
     "text": [
      "50\n"
     ]
    }
   ],
   "source": [
    "result = add_num_print(20,30)"
   ]
  },
  {
   "cell_type": "code",
   "execution_count": 16,
   "id": "8b5a98ef",
   "metadata": {},
   "outputs": [],
   "source": [
    "result"
   ]
  },
  {
   "cell_type": "code",
   "execution_count": 17,
   "id": "1ace4e35",
   "metadata": {},
   "outputs": [
    {
     "data": {
      "text/plain": [
       "NoneType"
      ]
     },
     "execution_count": 17,
     "metadata": {},
     "output_type": "execute_result"
    }
   ],
   "source": [
    "type(result)"
   ]
  },
  {
   "cell_type": "code",
   "execution_count": 18,
   "id": "bdf11ab1",
   "metadata": {},
   "outputs": [],
   "source": [
    "#we can print as well as return also\n",
    "def add_print_return(a,b):\n",
    "    print(a+b)\n",
    "    return a+b"
   ]
  },
  {
   "cell_type": "code",
   "execution_count": 19,
   "id": "5fa016d1",
   "metadata": {},
   "outputs": [
    {
     "name": "stdout",
     "output_type": "stream",
     "text": [
      "50\n"
     ]
    }
   ],
   "source": [
    "result = add_print_return(20,30)"
   ]
  },
  {
   "cell_type": "code",
   "execution_count": 20,
   "id": "9728c7aa",
   "metadata": {},
   "outputs": [
    {
     "data": {
      "text/plain": [
       "50"
      ]
     },
     "execution_count": 20,
     "metadata": {},
     "output_type": "execute_result"
    }
   ],
   "source": [
    "result"
   ]
  },
  {
   "cell_type": "code",
   "execution_count": 21,
   "id": "877ad02b",
   "metadata": {},
   "outputs": [
    {
     "data": {
      "text/plain": [
       "int"
      ]
     },
     "execution_count": 21,
     "metadata": {},
     "output_type": "execute_result"
    }
   ],
   "source": [
    "type(result)"
   ]
  },
  {
   "cell_type": "code",
   "execution_count": 22,
   "id": "17a0fdab",
   "metadata": {},
   "outputs": [
    {
     "name": "stdout",
     "output_type": "stream",
     "text": [
      "1020\n"
     ]
    },
    {
     "data": {
      "text/plain": [
       "'1020'"
      ]
     },
     "execution_count": 22,
     "metadata": {},
     "output_type": "execute_result"
    }
   ],
   "source": [
    "add_print_return('10','20')   #we need to handle the user input type for desired output"
   ]
  },
  {
   "cell_type": "markdown",
   "id": "c7076ec0",
   "metadata": {},
   "source": [
    "#### Function with Logic"
   ]
  },
  {
   "cell_type": "code",
   "execution_count": 1,
   "id": "528ea701",
   "metadata": {},
   "outputs": [],
   "source": [
    "def even_check(num):\n",
    "    result = num%2==0\n",
    "    return result"
   ]
  },
  {
   "cell_type": "code",
   "execution_count": 2,
   "id": "ec907a9f",
   "metadata": {},
   "outputs": [
    {
     "data": {
      "text/plain": [
       "True"
      ]
     },
     "execution_count": 2,
     "metadata": {},
     "output_type": "execute_result"
    }
   ],
   "source": [
    "even_check(20)"
   ]
  },
  {
   "cell_type": "code",
   "execution_count": 3,
   "id": "4b8dd470",
   "metadata": {},
   "outputs": [
    {
     "data": {
      "text/plain": [
       "False"
      ]
     },
     "execution_count": 3,
     "metadata": {},
     "output_type": "execute_result"
    }
   ],
   "source": [
    "even_check(21)"
   ]
  },
  {
   "cell_type": "code",
   "execution_count": 4,
   "id": "78455b50",
   "metadata": {},
   "outputs": [],
   "source": [
    "def even_check(num):\n",
    "    return num%2==0"
   ]
  },
  {
   "cell_type": "code",
   "execution_count": 5,
   "id": "77d12ad3",
   "metadata": {},
   "outputs": [
    {
     "data": {
      "text/plain": [
       "True"
      ]
     },
     "execution_count": 5,
     "metadata": {},
     "output_type": "execute_result"
    }
   ],
   "source": [
    "even_check(20)"
   ]
  },
  {
   "cell_type": "code",
   "execution_count": 10,
   "id": "9d18dd7a",
   "metadata": {},
   "outputs": [],
   "source": [
    "def check_any_even_in_list(l):\n",
    "    for num in l:\n",
    "        if num%2==0:\n",
    "            return True\n",
    "        else:\n",
    "            pass\n",
    "    return False"
   ]
  },
  {
   "cell_type": "code",
   "execution_count": 11,
   "id": "badcd30a",
   "metadata": {},
   "outputs": [
    {
     "data": {
      "text/plain": [
       "False"
      ]
     },
     "execution_count": 11,
     "metadata": {},
     "output_type": "execute_result"
    }
   ],
   "source": [
    "check_any_even_in_list([1,3,5])"
   ]
  },
  {
   "cell_type": "code",
   "execution_count": 12,
   "id": "86c6e64c",
   "metadata": {},
   "outputs": [
    {
     "data": {
      "text/plain": [
       "True"
      ]
     },
     "execution_count": 12,
     "metadata": {},
     "output_type": "execute_result"
    }
   ],
   "source": [
    "check_any_even_in_list([1,5,3,2,6])"
   ]
  },
  {
   "cell_type": "code",
   "execution_count": 13,
   "id": "66a54143",
   "metadata": {},
   "outputs": [],
   "source": [
    "def give_even_in_list(l):\n",
    "    li = []\n",
    "    for num in l:\n",
    "        if num%2==0:\n",
    "            li.append(num)\n",
    "        else:\n",
    "            pass\n",
    "    return li"
   ]
  },
  {
   "cell_type": "code",
   "execution_count": 14,
   "id": "d4a08556",
   "metadata": {},
   "outputs": [
    {
     "data": {
      "text/plain": [
       "[2, 8, 4, 6]"
      ]
     },
     "execution_count": 14,
     "metadata": {},
     "output_type": "execute_result"
    }
   ],
   "source": [
    "give_even_in_list([2,3,5,8,4,9,6,7,3])"
   ]
  },
  {
   "cell_type": "code",
   "execution_count": 1,
   "id": "bd8c0dc4",
   "metadata": {},
   "outputs": [],
   "source": [
    "work_hours = [('nik',300),('yash',500),('suresh',600)]"
   ]
  },
  {
   "cell_type": "code",
   "execution_count": 2,
   "id": "8df98952",
   "metadata": {},
   "outputs": [],
   "source": [
    "def employee_check(work_hours):\n",
    "    current_max = 0\n",
    "    employee_name = ''\n",
    "    \n",
    "    for employee,hours in work_hours:\n",
    "        if hours>current_max:\n",
    "            current_max=hours\n",
    "            employee_name=employee\n",
    "        else:\n",
    "            pass\n",
    "    return(current_max,employee_name)       #returns a tuple"
   ]
  },
  {
   "cell_type": "code",
   "execution_count": 3,
   "id": "8f3c3504",
   "metadata": {},
   "outputs": [
    {
     "data": {
      "text/plain": [
       "(600, 'suresh')"
      ]
     },
     "execution_count": 3,
     "metadata": {},
     "output_type": "execute_result"
    }
   ],
   "source": [
    "employee_check(work_hours)"
   ]
  },
  {
   "cell_type": "code",
   "execution_count": 4,
   "id": "2280b9ad",
   "metadata": {},
   "outputs": [],
   "source": [
    "#we can save result\n",
    "result = employee_check(work_hours)"
   ]
  },
  {
   "cell_type": "code",
   "execution_count": 5,
   "id": "bd4523c0",
   "metadata": {},
   "outputs": [
    {
     "data": {
      "text/plain": [
       "(600, 'suresh')"
      ]
     },
     "execution_count": 5,
     "metadata": {},
     "output_type": "execute_result"
    }
   ],
   "source": [
    "result"
   ]
  },
  {
   "cell_type": "code",
   "execution_count": 6,
   "id": "ac027bac",
   "metadata": {},
   "outputs": [],
   "source": [
    "#we can seperately save them\n",
    "hours,employee = employee_check(work_hours)"
   ]
  },
  {
   "cell_type": "code",
   "execution_count": 7,
   "id": "a5b61f73",
   "metadata": {},
   "outputs": [
    {
     "data": {
      "text/plain": [
       "600"
      ]
     },
     "execution_count": 7,
     "metadata": {},
     "output_type": "execute_result"
    }
   ],
   "source": [
    "hours"
   ]
  },
  {
   "cell_type": "code",
   "execution_count": 8,
   "id": "0b0f08e0",
   "metadata": {},
   "outputs": [
    {
     "data": {
      "text/plain": [
       "'suresh'"
      ]
     },
     "execution_count": 8,
     "metadata": {},
     "output_type": "execute_result"
    }
   ],
   "source": [
    "employee"
   ]
  },
  {
   "cell_type": "code",
   "execution_count": 9,
   "id": "35aa31d1",
   "metadata": {},
   "outputs": [],
   "source": [
    "from random import shuffle"
   ]
  },
  {
   "cell_type": "code",
   "execution_count": 10,
   "id": "32115a75",
   "metadata": {},
   "outputs": [],
   "source": [
    "example = [1,2,3,4,5,6]"
   ]
  },
  {
   "cell_type": "code",
   "execution_count": 11,
   "id": "ef67695b",
   "metadata": {},
   "outputs": [],
   "source": [
    "shuffle(example)   #in place shuffle so no output"
   ]
  },
  {
   "cell_type": "code",
   "execution_count": 12,
   "id": "dc22bbc1",
   "metadata": {},
   "outputs": [
    {
     "data": {
      "text/plain": [
       "[5, 3, 1, 6, 2, 4]"
      ]
     },
     "execution_count": 12,
     "metadata": {},
     "output_type": "execute_result"
    }
   ],
   "source": [
    "example"
   ]
  },
  {
   "cell_type": "markdown",
   "id": "1c83df15",
   "metadata": {},
   "source": [
    "##### Creating a Guess Game"
   ]
  },
  {
   "cell_type": "code",
   "execution_count": 13,
   "id": "0483d279",
   "metadata": {},
   "outputs": [],
   "source": [
    "def shuffle_list(lst):\n",
    "    shuffle(lst)\n",
    "    return lst"
   ]
  },
  {
   "cell_type": "code",
   "execution_count": 15,
   "id": "c7d312c8",
   "metadata": {},
   "outputs": [],
   "source": [
    "def player_guess():\n",
    "    guess = ''\n",
    "    \n",
    "    while guess not in ['0','1','2']:\n",
    "        guess = input('Enter any number between 0,1 and 2')\n",
    "    return int(guess) "
   ]
  },
  {
   "cell_type": "code",
   "execution_count": 17,
   "id": "70a833b1",
   "metadata": {},
   "outputs": [],
   "source": [
    "def check_guess(my_shuffled_list,guessed_index):\n",
    "    if my_shuffled_list[guessed_index]=='O':\n",
    "        print('Correct')\n",
    "    else:\n",
    "        print('Wrong')\n",
    "        print(my_shuffled_list)"
   ]
  },
  {
   "cell_type": "code",
   "execution_count": 18,
   "id": "f92d9fe5",
   "metadata": {},
   "outputs": [
    {
     "name": "stdout",
     "output_type": "stream",
     "text": [
      "Enter any number between 0,1 and 22\n",
      "Wrong\n",
      "['O', ' ', ' ']\n"
     ]
    }
   ],
   "source": [
    "#executing the code---showing many function interaction with each other\n",
    "my_list = [' ','O',' ']\n",
    "mixedup_list = shuffle_list(my_list)\n",
    "guess = player_guess()\n",
    "check_guess(mixedup_list,guess)"
   ]
  },
  {
   "cell_type": "markdown",
   "id": "f4091921",
   "metadata": {},
   "source": [
    "###### Args and Kwargs"
   ]
  },
  {
   "cell_type": "code",
   "execution_count": 1,
   "id": "f262d8ec",
   "metadata": {},
   "outputs": [],
   "source": [
    "def summation(a,b,c=0,d=0,e=0):\n",
    "    return sum([a,b,c,d,e])"
   ]
  },
  {
   "cell_type": "code",
   "execution_count": 2,
   "id": "58f3c65b",
   "metadata": {},
   "outputs": [
    {
     "data": {
      "text/plain": [
       "23"
      ]
     },
     "execution_count": 2,
     "metadata": {},
     "output_type": "execute_result"
    }
   ],
   "source": [
    "#in a function if we want to use n number of arguments then we have to manually specify them one by one\n",
    "summation(2,3,5,6,7)"
   ]
  },
  {
   "cell_type": "code",
   "execution_count": 3,
   "id": "4196747f",
   "metadata": {},
   "outputs": [
    {
     "ename": "TypeError",
     "evalue": "summation() takes from 2 to 5 positional arguments but 7 were given",
     "output_type": "error",
     "traceback": [
      "\u001b[1;31m---------------------------------------------------------------------------\u001b[0m",
      "\u001b[1;31mTypeError\u001b[0m                                 Traceback (most recent call last)",
      "Cell \u001b[1;32mIn[3], line 1\u001b[0m\n\u001b[1;32m----> 1\u001b[0m summation(\u001b[38;5;241m2\u001b[39m,\u001b[38;5;241m3\u001b[39m,\u001b[38;5;241m5\u001b[39m,\u001b[38;5;241m8\u001b[39m,\u001b[38;5;241m4\u001b[39m,\u001b[38;5;241m9\u001b[39m,\u001b[38;5;241m6\u001b[39m)\n",
      "\u001b[1;31mTypeError\u001b[0m: summation() takes from 2 to 5 positional arguments but 7 were given"
     ]
    }
   ],
   "source": [
    "summation(2,3,5,8,4,9,6) #if it exceeds then we get the error"
   ]
  },
  {
   "cell_type": "code",
   "execution_count": 7,
   "id": "4025b613",
   "metadata": {},
   "outputs": [],
   "source": [
    "#we can use *args instead\n",
    "def explanation(*args):\n",
    "    print(args)\n",
    "    return args"
   ]
  },
  {
   "cell_type": "code",
   "execution_count": 8,
   "id": "7a183af0",
   "metadata": {},
   "outputs": [
    {
     "name": "stdout",
     "output_type": "stream",
     "text": [
      "(30, 20, 10, 50, 20, 40, 63, 99)\n"
     ]
    }
   ],
   "source": [
    "result=explanation(30,20,10,50,20,40,63,99)"
   ]
  },
  {
   "cell_type": "code",
   "execution_count": 9,
   "id": "efb64407",
   "metadata": {},
   "outputs": [
    {
     "data": {
      "text/plain": [
       "tuple"
      ]
     },
     "execution_count": 9,
     "metadata": {},
     "output_type": "execute_result"
    }
   ],
   "source": [
    "type(result)"
   ]
  },
  {
   "cell_type": "code",
   "execution_count": 17,
   "id": "90fe7b34",
   "metadata": {},
   "outputs": [],
   "source": [
    "#this solves our previous problem\n",
    "def summation(*args):\n",
    "    return sum(args)"
   ]
  },
  {
   "cell_type": "code",
   "execution_count": 18,
   "id": "211e933d",
   "metadata": {},
   "outputs": [
    {
     "data": {
      "text/plain": [
       "75"
      ]
     },
     "execution_count": 18,
     "metadata": {},
     "output_type": "execute_result"
    }
   ],
   "source": [
    "summation(1,6,8,6,6,44,4)"
   ]
  },
  {
   "cell_type": "code",
   "execution_count": 22,
   "id": "37b1c3d7",
   "metadata": {},
   "outputs": [],
   "source": [
    "def myfunc(**kwargs):\n",
    "    print (kwargs)\n",
    "    if 'fruits' in kwargs:\n",
    "        print('My choice of fruit is {}'.format(kwargs['fruits']))\n",
    "    else:\n",
    "        print('there is no such item')\n",
    "    return kwargs"
   ]
  },
  {
   "cell_type": "code",
   "execution_count": 23,
   "id": "f4c8aa9e",
   "metadata": {},
   "outputs": [
    {
     "name": "stdout",
     "output_type": "stream",
     "text": [
      "{'fruits': 'apple', 'veggie': 54}\n",
      "My choice of fruit is apple\n"
     ]
    }
   ],
   "source": [
    "res = myfunc(fruits='apple',veggie = 54)"
   ]
  },
  {
   "cell_type": "code",
   "execution_count": 24,
   "id": "995a4377",
   "metadata": {},
   "outputs": [
    {
     "data": {
      "text/plain": [
       "dict"
      ]
     },
     "execution_count": 24,
     "metadata": {},
     "output_type": "execute_result"
    }
   ],
   "source": [
    "type(res)"
   ]
  },
  {
   "cell_type": "code",
   "execution_count": 27,
   "id": "0c6bd73b",
   "metadata": {},
   "outputs": [],
   "source": [
    "def both(*args,**kwargs):\n",
    "    print('the first ones are {} and {}'.format(args[1],kwargs['food']))"
   ]
  },
  {
   "cell_type": "code",
   "execution_count": 28,
   "id": "69d4b6c7",
   "metadata": {},
   "outputs": [
    {
     "name": "stdout",
     "output_type": "stream",
     "text": [
      "the first ones are 12 and eggs\n"
     ]
    }
   ],
   "source": [
    "both(23,12,6,grocery='rice',food= 'eggs',recharge = 'airte')"
   ]
  },
  {
   "cell_type": "markdown",
   "id": "f4eb4041",
   "metadata": {},
   "source": [
    "###### lambda expression, map and filter Function"
   ]
  },
  {
   "cell_type": "code",
   "execution_count": 29,
   "id": "0367fded",
   "metadata": {},
   "outputs": [],
   "source": [
    "def square(num):\n",
    "    return num**2"
   ]
  },
  {
   "cell_type": "code",
   "execution_count": 30,
   "id": "fd1109d7",
   "metadata": {},
   "outputs": [],
   "source": [
    "lst = [1,2,3,4,5,6]"
   ]
  },
  {
   "cell_type": "code",
   "execution_count": 31,
   "id": "3af9696e",
   "metadata": {},
   "outputs": [
    {
     "data": {
      "text/plain": [
       "<map at 0x1f686e862f0>"
      ]
     },
     "execution_count": 31,
     "metadata": {},
     "output_type": "execute_result"
    }
   ],
   "source": [
    "#if we want to calculate square value for each value in the list then we can use the map function\n",
    "map(square,lst)"
   ]
  },
  {
   "cell_type": "code",
   "execution_count": 32,
   "id": "f72c912a",
   "metadata": {},
   "outputs": [
    {
     "name": "stdout",
     "output_type": "stream",
     "text": [
      "1\n",
      "4\n",
      "9\n",
      "16\n",
      "25\n",
      "36\n"
     ]
    }
   ],
   "source": [
    "#since it returns a iterator we need to use loop to get seperate values\n",
    "for item in map(square,lst):\n",
    "    print(item)"
   ]
  },
  {
   "cell_type": "code",
   "execution_count": 33,
   "id": "9f24fded",
   "metadata": {},
   "outputs": [
    {
     "data": {
      "text/plain": [
       "[1, 4, 9, 16, 25, 36]"
      ]
     },
     "execution_count": 33,
     "metadata": {},
     "output_type": "execute_result"
    }
   ],
   "source": [
    "#instead we can use list() to create our result\n",
    "list(map(square,lst))"
   ]
  },
  {
   "cell_type": "code",
   "execution_count": 34,
   "id": "cb76acaf",
   "metadata": {},
   "outputs": [],
   "source": [
    "def slicer(name):\n",
    "    if len(name)%2==0:\n",
    "        return 'Even'\n",
    "    else:\n",
    "        return name[0]"
   ]
  },
  {
   "cell_type": "code",
   "execution_count": 35,
   "id": "bd95dd85",
   "metadata": {},
   "outputs": [],
   "source": [
    "names = ['Amdy','Sonny','Suryakant','Yas','Nikhil']"
   ]
  },
  {
   "cell_type": "code",
   "execution_count": 36,
   "id": "5142810c",
   "metadata": {},
   "outputs": [
    {
     "data": {
      "text/plain": [
       "['Even', 'S', 'S', 'Y', 'Even']"
      ]
     },
     "execution_count": 36,
     "metadata": {},
     "output_type": "execute_result"
    }
   ],
   "source": [
    "list(map(slicer,names))"
   ]
  },
  {
   "cell_type": "code",
   "execution_count": 37,
   "id": "0793ba7a",
   "metadata": {},
   "outputs": [],
   "source": [
    "def even_check(num):\n",
    "    return num%2==0"
   ]
  },
  {
   "cell_type": "code",
   "execution_count": 38,
   "id": "57f5786d",
   "metadata": {},
   "outputs": [
    {
     "data": {
      "text/plain": [
       "<filter at 0x1f686eb3430>"
      ]
     },
     "execution_count": 38,
     "metadata": {},
     "output_type": "execute_result"
    }
   ],
   "source": [
    "filter(even_check,[1,2,3,4,5,6])"
   ]
  },
  {
   "cell_type": "code",
   "execution_count": 40,
   "id": "37db5aab",
   "metadata": {},
   "outputs": [
    {
     "data": {
      "text/plain": [
       "[2, 4, 6]"
      ]
     },
     "execution_count": 40,
     "metadata": {},
     "output_type": "execute_result"
    }
   ],
   "source": [
    "list(filter(even_check,[1,2,3,4,5,6])) #returns an iterator for which function is true"
   ]
  },
  {
   "cell_type": "code",
   "execution_count": 45,
   "id": "c1cf53b5",
   "metadata": {},
   "outputs": [
    {
     "data": {
      "text/plain": [
       "['a', True]"
      ]
     },
     "execution_count": 45,
     "metadata": {},
     "output_type": "execute_result"
    }
   ],
   "source": [
    "list(filter(None,['a',True,False]))  #if function is none then it returns an iterator of objects in list having true value"
   ]
  },
  {
   "cell_type": "code",
   "execution_count": 47,
   "id": "a0cafe81",
   "metadata": {},
   "outputs": [
    {
     "data": {
      "text/plain": [
       "<function __main__.<lambda>(num)>"
      ]
     },
     "execution_count": 47,
     "metadata": {},
     "output_type": "execute_result"
    }
   ],
   "source": [
    "lambda num: num**2"
   ]
  },
  {
   "cell_type": "code",
   "execution_count": 48,
   "id": "75d5c920",
   "metadata": {},
   "outputs": [
    {
     "data": {
      "text/plain": [
       "4"
      ]
     },
     "execution_count": 48,
     "metadata": {},
     "output_type": "execute_result"
    }
   ],
   "source": [
    "(lambda num: num**2)(2)"
   ]
  },
  {
   "cell_type": "code",
   "execution_count": 49,
   "id": "5dc9faad",
   "metadata": {},
   "outputs": [],
   "source": [
    "result=lambda num: num**2"
   ]
  },
  {
   "cell_type": "code",
   "execution_count": 50,
   "id": "8e44e5df",
   "metadata": {},
   "outputs": [
    {
     "data": {
      "text/plain": [
       "9"
      ]
     },
     "execution_count": 50,
     "metadata": {},
     "output_type": "execute_result"
    }
   ],
   "source": [
    "result(3)"
   ]
  },
  {
   "cell_type": "code",
   "execution_count": 51,
   "id": "dc7989a7",
   "metadata": {},
   "outputs": [],
   "source": [
    "#A lambda function is a small anonymous function.\n",
    "#A lambda function can take any number of arguments, but can only have one expression.\n",
    "x = lambda a,b,c : (a+b)*c "
   ]
  },
  {
   "cell_type": "code",
   "execution_count": 53,
   "id": "0317211c",
   "metadata": {},
   "outputs": [
    {
     "data": {
      "text/plain": [
       "48"
      ]
     },
     "execution_count": 53,
     "metadata": {},
     "output_type": "execute_result"
    }
   ],
   "source": [
    "x(3,5,6)"
   ]
  },
  {
   "cell_type": "code",
   "execution_count": 54,
   "id": "c62966f4",
   "metadata": {},
   "outputs": [
    {
     "data": {
      "text/plain": [
       "[1, 4, 9, 16, 25, 36]"
      ]
     },
     "execution_count": 54,
     "metadata": {},
     "output_type": "execute_result"
    }
   ],
   "source": [
    "#best use of lambda function\n",
    "list(map(lambda num:num**2,lst))"
   ]
  },
  {
   "cell_type": "code",
   "execution_count": 56,
   "id": "966f2434",
   "metadata": {},
   "outputs": [
    {
     "data": {
      "text/plain": [
       "[2, 4, 6]"
      ]
     },
     "execution_count": 56,
     "metadata": {},
     "output_type": "execute_result"
    }
   ],
   "source": [
    "list(filter(lambda num:num%2==0,lst))"
   ]
  },
  {
   "cell_type": "markdown",
   "id": "110abcb6",
   "metadata": {},
   "source": [
    "###### Scope"
   ]
  },
  {
   "cell_type": "code",
   "execution_count": 57,
   "id": "d72906b6",
   "metadata": {},
   "outputs": [],
   "source": [
    "x = 25\n",
    "\n",
    "def printer():\n",
    "    x = 50\n",
    "    print(x)"
   ]
  },
  {
   "cell_type": "code",
   "execution_count": 58,
   "id": "3e520b76",
   "metadata": {},
   "outputs": [
    {
     "name": "stdout",
     "output_type": "stream",
     "text": [
      "25\n"
     ]
    }
   ],
   "source": [
    "print(x)"
   ]
  },
  {
   "cell_type": "code",
   "execution_count": 59,
   "id": "d61da1ba",
   "metadata": {},
   "outputs": [
    {
     "name": "stdout",
     "output_type": "stream",
     "text": [
      "50\n"
     ]
    }
   ],
   "source": [
    "printer()"
   ]
  },
  {
   "cell_type": "raw",
   "id": "79fbf84a",
   "metadata": {},
   "source": [
    "Python Variable follows LEGB Rule \n",
    "It will lookup in following sequence:\n",
    "Local>Enclosing Function>Global>Built-In"
   ]
  },
  {
   "cell_type": "code",
   "execution_count": 66,
   "id": "a542f352",
   "metadata": {},
   "outputs": [],
   "source": [
    "#Nested function\n",
    "name = 'I am a Global variable'\n",
    "\n",
    "def outer():\n",
    "    \n",
    "    #name = 'I am an Enclosing function variable'\n",
    "    \n",
    "    def inner():\n",
    "        \n",
    "        #name = 'Iam an local function variable'\n",
    "        print (name)\n",
    "    \n",
    "    inner()"
   ]
  },
  {
   "cell_type": "code",
   "execution_count": 62,
   "id": "d7cb5fc3",
   "metadata": {},
   "outputs": [
    {
     "name": "stdout",
     "output_type": "stream",
     "text": [
      "Iam an local function variable\n"
     ]
    }
   ],
   "source": [
    "#if we call outer function as it is, it will look for local variable first\n",
    "outer()"
   ]
  },
  {
   "cell_type": "code",
   "execution_count": 65,
   "id": "551d6728",
   "metadata": {},
   "outputs": [
    {
     "name": "stdout",
     "output_type": "stream",
     "text": [
      "I am an Enclosing function variable\n"
     ]
    }
   ],
   "source": [
    "#if we comment out local variable\n",
    "outer()"
   ]
  },
  {
   "cell_type": "code",
   "execution_count": 67,
   "id": "1825f7c2",
   "metadata": {},
   "outputs": [
    {
     "name": "stdout",
     "output_type": "stream",
     "text": [
      "I am a Global variable\n"
     ]
    }
   ],
   "source": [
    "#if we comment out enclosing variable\n",
    "outer()"
   ]
  },
  {
   "cell_type": "code",
   "execution_count": 68,
   "id": "860ba6e2",
   "metadata": {},
   "outputs": [],
   "source": [
    "x  = 50\n",
    "def func(x):\n",
    "    print(f'the value of x is {x}')\n",
    "    \n",
    "    #local reassignment\n",
    "    x = 200\n",
    "    print(f'I just changed x locally to {x}')"
   ]
  },
  {
   "cell_type": "code",
   "execution_count": 69,
   "id": "f2dfdc40",
   "metadata": {},
   "outputs": [
    {
     "name": "stdout",
     "output_type": "stream",
     "text": [
      "the value of x is 50\n",
      "I just changed x locally to 200\n"
     ]
    }
   ],
   "source": [
    "func(x)"
   ]
  },
  {
   "cell_type": "code",
   "execution_count": 70,
   "id": "494879de",
   "metadata": {},
   "outputs": [
    {
     "name": "stdout",
     "output_type": "stream",
     "text": [
      "50\n"
     ]
    }
   ],
   "source": [
    "print(x)"
   ]
  },
  {
   "cell_type": "code",
   "execution_count": 71,
   "id": "296e1a2d",
   "metadata": {},
   "outputs": [],
   "source": [
    "#if we want to change variable globally then we can use global keyword\n",
    "x  = 50\n",
    "def func():\n",
    "    global x\n",
    "    print(f'the value of x is {x}')\n",
    "    \n",
    "    #local reassignment on global variable\n",
    "    x = 200\n",
    "    print(f'I just changed x globally to {x}')"
   ]
  },
  {
   "cell_type": "code",
   "execution_count": 72,
   "id": "822d6e02",
   "metadata": {},
   "outputs": [
    {
     "name": "stdout",
     "output_type": "stream",
     "text": [
      "the value of x is 50\n",
      "I just changed x globally to 200\n"
     ]
    }
   ],
   "source": [
    "func()"
   ]
  },
  {
   "cell_type": "code",
   "execution_count": 73,
   "id": "2545c04c",
   "metadata": {},
   "outputs": [
    {
     "name": "stdout",
     "output_type": "stream",
     "text": [
      "200\n"
     ]
    }
   ],
   "source": [
    "print(x)"
   ]
  },
  {
   "cell_type": "code",
   "execution_count": 74,
   "id": "afc3904a",
   "metadata": {},
   "outputs": [],
   "source": [
    "#it is not the best practice to use global keyword instead we can just return x and reassign its value\n",
    "x  = 50\n",
    "def func(x):\n",
    "    print(f'the value of x is {x}')\n",
    "    \n",
    "    #local reassignment\n",
    "    x = 200\n",
    "    print(f'I just changed x locally to {x}')\n",
    "    return x"
   ]
  },
  {
   "cell_type": "code",
   "execution_count": 75,
   "id": "6cf29dc8",
   "metadata": {
    "scrolled": true
   },
   "outputs": [
    {
     "name": "stdout",
     "output_type": "stream",
     "text": [
      "the value of x is 50\n",
      "I just changed x locally to 200\n"
     ]
    }
   ],
   "source": [
    "x = func(x)"
   ]
  },
  {
   "cell_type": "code",
   "execution_count": 76,
   "id": "f7531d85",
   "metadata": {
    "scrolled": true
   },
   "outputs": [
    {
     "data": {
      "text/plain": [
       "200"
      ]
     },
     "execution_count": 76,
     "metadata": {},
     "output_type": "execute_result"
    }
   ],
   "source": [
    "x"
   ]
  },
  {
   "cell_type": "code",
   "execution_count": null,
   "id": "10628de4",
   "metadata": {},
   "outputs": [],
   "source": []
  }
 ],
 "metadata": {
  "kernelspec": {
   "display_name": "Python 3 (ipykernel)",
   "language": "python",
   "name": "python3"
  },
  "language_info": {
   "codemirror_mode": {
    "name": "ipython",
    "version": 3
   },
   "file_extension": ".py",
   "mimetype": "text/x-python",
   "name": "python",
   "nbconvert_exporter": "python",
   "pygments_lexer": "ipython3",
   "version": "3.11.5"
  }
 },
 "nbformat": 4,
 "nbformat_minor": 5
}
