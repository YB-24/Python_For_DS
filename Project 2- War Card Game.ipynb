{
 "cells": [
  {
   "cell_type": "markdown",
   "id": "299728c8",
   "metadata": {},
   "source": [
    "### Warm Up"
   ]
  },
  {
   "cell_type": "markdown",
   "id": "8034f22d",
   "metadata": {},
   "source": [
    "## Simple War Game\n",
    "\n",
    "Use Python OOP to simulate a simplified version of the game war. Two players will each start off with half the deck, then they each remove a card, compare which card has the highest value, and the player with the higher card wins both cards. In the event of a time"
   ]
  },
  {
   "cell_type": "code",
   "execution_count": 1,
   "id": "724fdae3",
   "metadata": {},
   "outputs": [],
   "source": [
    "value = {'2':2,'3':3,'4':4,'5':5,'6':6,'7':7,'8':8,'9':9,'10':10,'Jack':11,'Queen':12,'King':13,\n",
    "             'Ace':14}\n",
    "suits = ['Hearts','Diamonds','Clubs','Spades']\n",
    "rank = ['2','3','4','5','6','7','8','9','10','Jack','Queen','King','Ace']"
   ]
  },
  {
   "cell_type": "code",
   "execution_count": 2,
   "id": "2d5da125",
   "metadata": {},
   "outputs": [],
   "source": [
    "class Card:\n",
    "    \n",
    "    def __init__(self,suit,rank):\n",
    "        self.suit = suit\n",
    "        self.rank = rank\n",
    "        self.val = value[rank]\n",
    "        \n",
    "    def __str__(self):\n",
    "        return f'{self.rank} of {self.suit}'\n",
    "        "
   ]
  },
  {
   "cell_type": "code",
   "execution_count": 3,
   "id": "c5009fe4",
   "metadata": {},
   "outputs": [],
   "source": [
    "import random"
   ]
  },
  {
   "cell_type": "code",
   "execution_count": 4,
   "id": "5699db78",
   "metadata": {},
   "outputs": [],
   "source": [
    "class Deck:\n",
    "    \n",
    "    def __init__(self):\n",
    "        self.all_cards = []\n",
    "        for x in suits:\n",
    "            for y in rank:\n",
    "                self.all_cards.append(Card(x,y))\n",
    "    \n",
    "    def shuffle(self):\n",
    "        random.shuffle(self.all_cards)\n",
    "    \n",
    "    def remove_one_card(self):\n",
    "        return self.all_cards.pop()"
   ]
  },
  {
   "cell_type": "code",
   "execution_count": 5,
   "id": "e7e73a4c",
   "metadata": {},
   "outputs": [],
   "source": [
    "class Player:\n",
    "    \n",
    "    def __init__(self,name):\n",
    "        self.name = name\n",
    "        self.player_cards = []\n",
    "        \n",
    "    def add_cards(self,cards):\n",
    "        if type(cards)==type([]):\n",
    "            self.player_cards.extend(cards)\n",
    "        else:\n",
    "            self.player_cards.append(cards)\n",
    "        \n",
    "    def throw_a_card(self):\n",
    "        return self.player_cards.pop(0)\n",
    "    \n",
    "    def __str__(self):\n",
    "        return f'The Player {self.name} has {len(self.player_cards)} Cards'\n",
    "            "
   ]
  },
  {
   "cell_type": "code",
   "execution_count": 10,
   "id": "1fc16b71",
   "metadata": {},
   "outputs": [],
   "source": [
    "player1 = Player('Yash')\n",
    "\n",
    "player2 = Player('Nik')"
   ]
  },
  {
   "cell_type": "code",
   "execution_count": 11,
   "id": "40c9c3c8",
   "metadata": {},
   "outputs": [],
   "source": [
    "new_Deck = Deck()\n",
    "\n",
    "new_Deck.shuffle()\n",
    "\n",
    "for x in range(26):\n",
    "    player1.add_cards(new_Deck.remove_one_card())\n",
    "for y in range(26):\n",
    "    player2.add_cards(new_Deck.remove_one_card())\n",
    "    "
   ]
  },
  {
   "cell_type": "code",
   "execution_count": 12,
   "id": "5e774674",
   "metadata": {},
   "outputs": [
    {
     "data": {
      "text/plain": [
       "26"
      ]
     },
     "execution_count": 12,
     "metadata": {},
     "output_type": "execute_result"
    }
   ],
   "source": [
    "len(player2.player_cards)"
   ]
  },
  {
   "cell_type": "code",
   "execution_count": 13,
   "id": "08437283",
   "metadata": {
    "scrolled": false
   },
   "outputs": [
    {
     "name": "stdout",
     "output_type": "stream",
     "text": [
      "1\n",
      "2\n",
      "3\n",
      "4\n",
      "5\n",
      "6\n",
      "7\n",
      "8\n",
      "9\n",
      "10\n",
      "11\n",
      "12\n",
      "13\n",
      "14\n",
      "15\n",
      "16\n",
      "17\n",
      "18\n",
      "19\n",
      "20\n",
      "21\n",
      "22\n",
      "23\n",
      "24\n",
      "25\n",
      "26\n",
      "27\n",
      "28\n",
      "29\n",
      "30\n",
      "31\n",
      "32\n",
      "33\n",
      "34\n",
      "35\n",
      "36\n",
      "37\n",
      "38\n",
      "39\n",
      "40\n",
      "41\n",
      "42\n",
      "43\n",
      "44\n",
      "45\n",
      "War Occured\n",
      "46\n",
      "47\n",
      "48\n",
      "49\n",
      "50\n",
      "51\n",
      "52\n",
      "53\n",
      "54\n",
      "55\n",
      "56\n",
      "57\n",
      "58\n",
      "59\n",
      "60\n",
      "61\n",
      "62\n",
      "63\n",
      "64\n",
      "65\n",
      "66\n",
      "67\n",
      "68\n",
      "69\n",
      "70\n",
      "71\n",
      "War Occured\n",
      "War Occured\n",
      "72\n",
      "73\n",
      "74\n",
      "75\n",
      "76\n",
      "77\n",
      "78\n",
      "79\n",
      "80\n",
      "81\n",
      "82\n",
      "83\n",
      "84\n",
      "85\n",
      "86\n",
      "87\n",
      "88\n",
      "89\n",
      "90\n",
      "91\n",
      "92\n",
      "93\n",
      "94\n",
      "War Occured\n",
      "95\n",
      "96\n",
      "War Occured\n",
      "War Occured\n",
      "player 1 cant go on a war\n",
      "player 2 wins\n"
     ]
    }
   ],
   "source": [
    "game_on = True\n",
    "\n",
    "counter = 0 \n",
    "\n",
    "while game_on:\n",
    "    \n",
    "    counter += 1\n",
    "    \n",
    "    print(counter)\n",
    "    \n",
    "    if len(player1.player_cards)==0:\n",
    "        print('Player 1 is out of cards')\n",
    "        print('Player 2 Wins')\n",
    "        game_on = False\n",
    "        break\n",
    "        \n",
    "    if len(player2.player_cards)==0:\n",
    "        print('Player 2 is out of cards')\n",
    "        print('Player 1 Wins')\n",
    "        game_on = False\n",
    "        break\n",
    "        \n",
    "    player1cards = []\n",
    "    player1cards.append(player1.throw_a_card())\n",
    "    player2cards = []\n",
    "    player2cards.append(player2.throw_a_card())\n",
    "    \n",
    "    at_war = True\n",
    "    \n",
    "    while at_war:\n",
    "        if player1cards[-1].val > player2cards[-1].val:\n",
    "            player1.add_cards(player1cards)\n",
    "            player1.add_cards(player2cards)\n",
    "            at_war = False\n",
    "            \n",
    "        elif player1cards[-1].val < player2cards[-1].val:\n",
    "            player2.add_cards(player1cards)\n",
    "            player2.add_cards(player2cards)\n",
    "            at_war  = False\n",
    "            \n",
    "        else:\n",
    "            print('War Occured')\n",
    "            if len(player1.player_cards)<5:\n",
    "                print('player 1 cant go on a war')\n",
    "                print('player 2 wins')\n",
    "                game_on = False\n",
    "                break\n",
    "            if len(player2.player_cards)<5:\n",
    "                print('player 2 cant go on a war')\n",
    "                print('player 1 wins')\n",
    "                game_on = False\n",
    "                break\n",
    "            for x in range(5):\n",
    "                player1cards.append(player1.throw_a_card())\n",
    "                player2cards.append(player2.throw_a_card())\n",
    "    "
   ]
  }
 ],
 "metadata": {
  "kernelspec": {
   "display_name": "Python 3 (ipykernel)",
   "language": "python",
   "name": "python3"
  },
  "language_info": {
   "codemirror_mode": {
    "name": "ipython",
    "version": 3
   },
   "file_extension": ".py",
   "mimetype": "text/x-python",
   "name": "python",
   "nbconvert_exporter": "python",
   "pygments_lexer": "ipython3",
   "version": "3.11.5"
  }
 },
 "nbformat": 4,
 "nbformat_minor": 5
}
