{
 "cells": [
  {
   "cell_type": "markdown",
   "id": "d317103e",
   "metadata": {},
   "source": [
    "## Warm Up"
   ]
  },
  {
   "cell_type": "markdown",
   "id": "fd46feca",
   "metadata": {},
   "source": [
    "###### Displaying Information"
   ]
  },
  {
   "cell_type": "code",
   "execution_count": 1,
   "id": "23829b59",
   "metadata": {},
   "outputs": [],
   "source": [
    "def display(row1,row2,row3):\n",
    "    print(row1)\n",
    "    print(row2)\n",
    "    print(row3)"
   ]
  },
  {
   "cell_type": "code",
   "execution_count": 2,
   "id": "9e44d1b3",
   "metadata": {},
   "outputs": [],
   "source": [
    "example = [1,2,3]"
   ]
  },
  {
   "cell_type": "code",
   "execution_count": 3,
   "id": "691f05f0",
   "metadata": {},
   "outputs": [
    {
     "name": "stdout",
     "output_type": "stream",
     "text": [
      "[1, 2, 3]\n",
      "[1, 2, 3]\n",
      "[1, 2, 3]\n"
     ]
    }
   ],
   "source": [
    "display(example,example,example)"
   ]
  },
  {
   "cell_type": "markdown",
   "id": "f988b510",
   "metadata": {},
   "source": [
    "###### Accepting User Input"
   ]
  },
  {
   "cell_type": "code",
   "execution_count": 4,
   "id": "c572942a",
   "metadata": {},
   "outputs": [
    {
     "name": "stdout",
     "output_type": "stream",
     "text": [
      "Enter a value : 2\n"
     ]
    }
   ],
   "source": [
    "result = input('Enter a value : ')"
   ]
  },
  {
   "cell_type": "code",
   "execution_count": 5,
   "id": "a7e51650",
   "metadata": {},
   "outputs": [
    {
     "data": {
      "text/plain": [
       "str"
      ]
     },
     "execution_count": 5,
     "metadata": {},
     "output_type": "execute_result"
    }
   ],
   "source": [
    "type(result)"
   ]
  },
  {
   "cell_type": "code",
   "execution_count": 6,
   "id": "60ee58df",
   "metadata": {},
   "outputs": [],
   "source": [
    "result_int = int(result)"
   ]
  },
  {
   "cell_type": "code",
   "execution_count": 7,
   "id": "ffc70ada",
   "metadata": {},
   "outputs": [
    {
     "data": {
      "text/plain": [
       "int"
      ]
     },
     "execution_count": 7,
     "metadata": {},
     "output_type": "execute_result"
    }
   ],
   "source": [
    "type(result_int)"
   ]
  },
  {
   "cell_type": "code",
   "execution_count": 8,
   "id": "970eb9aa",
   "metadata": {},
   "outputs": [
    {
     "name": "stdout",
     "output_type": "stream",
     "text": [
      "Enter a value : 2\n"
     ]
    }
   ],
   "source": [
    "#instead we can do this\n",
    "result = int(input('Enter a value : '))"
   ]
  },
  {
   "cell_type": "code",
   "execution_count": 9,
   "id": "4b6b4880",
   "metadata": {},
   "outputs": [
    {
     "data": {
      "text/plain": [
       "int"
      ]
     },
     "execution_count": 9,
     "metadata": {},
     "output_type": "execute_result"
    }
   ],
   "source": [
    "type(result)"
   ]
  },
  {
   "cell_type": "markdown",
   "id": "9bff0e8e",
   "metadata": {},
   "source": [
    "###### Validating User Input"
   ]
  },
  {
   "cell_type": "code",
   "execution_count": 10,
   "id": "bb69c86d",
   "metadata": {},
   "outputs": [],
   "source": [
    "def user_choice():\n",
    "    \n",
    "    choice = input('Enter a number between (0-10) ')\n",
    "    \n",
    "    return int(choice)"
   ]
  },
  {
   "cell_type": "code",
   "execution_count": 11,
   "id": "8ec53002",
   "metadata": {},
   "outputs": [
    {
     "name": "stdout",
     "output_type": "stream",
     "text": [
      "Enter a number between (0-10) 100\n"
     ]
    },
    {
     "data": {
      "text/plain": [
       "100"
      ]
     },
     "execution_count": 11,
     "metadata": {},
     "output_type": "execute_result"
    }
   ],
   "source": [
    "user_choice()                #user can input out of range number"
   ]
  },
  {
   "cell_type": "code",
   "execution_count": 12,
   "id": "1ffc0934",
   "metadata": {},
   "outputs": [
    {
     "name": "stdout",
     "output_type": "stream",
     "text": [
      "Enter a number between (0-10) two\n"
     ]
    },
    {
     "ename": "ValueError",
     "evalue": "invalid literal for int() with base 10: 'two'",
     "output_type": "error",
     "traceback": [
      "\u001b[1;31m---------------------------------------------------------------------------\u001b[0m",
      "\u001b[1;31mValueError\u001b[0m                                Traceback (most recent call last)",
      "Cell \u001b[1;32mIn[12], line 1\u001b[0m\n\u001b[1;32m----> 1\u001b[0m user_choice()\n",
      "Cell \u001b[1;32mIn[10], line 5\u001b[0m, in \u001b[0;36muser_choice\u001b[1;34m()\u001b[0m\n\u001b[0;32m      1\u001b[0m \u001b[38;5;28;01mdef\u001b[39;00m \u001b[38;5;21muser_choice\u001b[39m():\n\u001b[0;32m      3\u001b[0m     choice \u001b[38;5;241m=\u001b[39m \u001b[38;5;28minput\u001b[39m(\u001b[38;5;124m'\u001b[39m\u001b[38;5;124mEnter a number between (0-10) \u001b[39m\u001b[38;5;124m'\u001b[39m)\n\u001b[1;32m----> 5\u001b[0m     \u001b[38;5;28;01mreturn\u001b[39;00m \u001b[38;5;28mint\u001b[39m(choice)\n",
      "\u001b[1;31mValueError\u001b[0m: invalid literal for int() with base 10: 'two'"
     ]
    }
   ],
   "source": [
    "user_choice()               #user can input incorrectly "
   ]
  },
  {
   "cell_type": "code",
   "execution_count": 13,
   "id": "42601665",
   "metadata": {},
   "outputs": [
    {
     "data": {
      "text/plain": [
       "True"
      ]
     },
     "execution_count": 13,
     "metadata": {},
     "output_type": "execute_result"
    }
   ],
   "source": [
    "#we can add a check for choice being a digit or not\n",
    "some = '21'\n",
    "some.isdigit()"
   ]
  },
  {
   "cell_type": "code",
   "execution_count": 14,
   "id": "7ab86210",
   "metadata": {},
   "outputs": [
    {
     "data": {
      "text/plain": [
       "False"
      ]
     },
     "execution_count": 14,
     "metadata": {},
     "output_type": "execute_result"
    }
   ],
   "source": [
    "some = 'two'\n",
    "some.isdigit()"
   ]
  },
  {
   "cell_type": "code",
   "execution_count": 21,
   "id": "46d82cbe",
   "metadata": {},
   "outputs": [],
   "source": [
    "def user_choice():\n",
    "    \n",
    "    choice  = 'wrong'\n",
    "    \n",
    "    while (choice.isdigit()==False):\n",
    "        \n",
    "        choice = input('Enter a number between (0-10) ')\n",
    "        \n",
    "        if choice.isdigit()==True:\n",
    "            if int(choice) not in range(0,11):\n",
    "                print('Invalid input range')\n",
    "                choice = 'wrong'\n",
    "        else:\n",
    "            print('Please enter the number')\n",
    "    \n",
    "    return int(choice)"
   ]
  },
  {
   "cell_type": "code",
   "execution_count": 22,
   "id": "fd5b8ffa",
   "metadata": {},
   "outputs": [
    {
     "name": "stdout",
     "output_type": "stream",
     "text": [
      "Enter a number between (0-10) 11\n",
      "Invalid input range\n",
      "Enter a number between (0-10) two\n",
      "Please enter the number\n",
      "Enter a number between (0-10) 3\n"
     ]
    }
   ],
   "source": [
    "result = user_choice()"
   ]
  },
  {
   "cell_type": "markdown",
   "id": "d30d54dd",
   "metadata": {},
   "source": [
    "###### Simple Interactive Program"
   ]
  },
  {
   "cell_type": "code",
   "execution_count": 1,
   "id": "3833dac1",
   "metadata": {},
   "outputs": [],
   "source": [
    "def display(lst):\n",
    "    print(lst)"
   ]
  },
  {
   "cell_type": "code",
   "execution_count": 7,
   "id": "b148f6be",
   "metadata": {},
   "outputs": [],
   "source": [
    "def user_input():\n",
    "    \n",
    "    choice = 'wrong'\n",
    "    while (choice.isdigit()==False):\n",
    "        \n",
    "        choice = input('Enter index between (0-2) which you wish to modify ')\n",
    "        \n",
    "        if choice.isdigit()==True:\n",
    "            if int(choice) not in range(0,3):\n",
    "                print('Invalid input range')\n",
    "                choice = 'wrong'\n",
    "        else:\n",
    "            print('Please enter a number')\n",
    "    \n",
    "    return int(choice)\n",
    "    \n",
    "    "
   ]
  },
  {
   "cell_type": "code",
   "execution_count": 4,
   "id": "b96ef17a",
   "metadata": {},
   "outputs": [],
   "source": [
    "def modify(lst,choice):\n",
    "    new = input('Enter your changes: ')\n",
    "    lst[choice]= new\n",
    "    return lst"
   ]
  },
  {
   "cell_type": "code",
   "execution_count": 6,
   "id": "2359bed8",
   "metadata": {},
   "outputs": [],
   "source": [
    "def game_on():\n",
    "    \n",
    "    print('Do you want to continue playing the game')\n",
    "    \n",
    "    ans = 'hello'\n",
    "    \n",
    "    while ans not in ['Y','N']:\n",
    "        \n",
    "        ans = input('Input Y for Yes and N for No')\n",
    "        \n",
    "        if ans not in ['Y','N']:\n",
    "            print ('enter valid input')\n",
    "    if ans == 'Y':\n",
    "        return True\n",
    "    else:\n",
    "        return False"
   ]
  },
  {
   "cell_type": "code",
   "execution_count": 14,
   "id": "31b8e5af",
   "metadata": {},
   "outputs": [],
   "source": [
    "from IPython.display import clear_output\n",
    "def game():\n",
    "    lst=[1,2,3]\n",
    "    game_status = True\n",
    "    \n",
    "    while game_status:\n",
    "        clear_output()\n",
    "        \n",
    "        display(lst)\n",
    "    \n",
    "        choice = user_input()\n",
    "     \n",
    "        lst = modify(lst,choice)\n",
    "        \n",
    "        clear_output()\n",
    "        \n",
    "        display(lst)\n",
    "        \n",
    "        game_status = game_on()\n",
    "        \n",
    "        \n",
    "    "
   ]
  },
  {
   "cell_type": "code",
   "execution_count": 15,
   "id": "23cbcdc1",
   "metadata": {
    "scrolled": false
   },
   "outputs": [
    {
     "name": "stdout",
     "output_type": "stream",
     "text": [
      "[1, '0', 'hakuna matata']\n",
      "Do you want to continue playing the game\n",
      "Input Y for Yes and N for Non\n",
      "enter valid input\n",
      "Input Y for Yes and N for Nobdhd\n",
      "enter valid input\n",
      "Input Y for Yes and N for No23\n",
      "enter valid input\n",
      "Input Y for Yes and N for NoN\n"
     ]
    }
   ],
   "source": [
    "game()   #run this to play the game"
   ]
  },
  {
   "cell_type": "markdown",
   "id": "6f9eadf9",
   "metadata": {},
   "source": [
    "# Main Project"
   ]
  },
  {
   "cell_type": "code",
   "execution_count": 3,
   "id": "1b751579",
   "metadata": {},
   "outputs": [],
   "source": [
    "def display(lst):\n",
    "    print(' {} | {} | {} '.format(lst[0],lst[1],lst[2]))\n",
    "    print(' {} | {} | {} '.format(lst[3],lst[4],lst[5]))\n",
    "    print(' {} | {} | {} '.format(lst[6],lst[7],lst[8]))"
   ]
  },
  {
   "cell_type": "code",
   "execution_count": 4,
   "id": "730f02b2",
   "metadata": {},
   "outputs": [],
   "source": [
    "def user_input():\n",
    "    \n",
    "    choice = 'wrong'\n",
    "    while (choice.isdigit()==False):\n",
    "        \n",
    "        choice = input('Enter index between (0-8) which you wish to modify ')\n",
    "        \n",
    "        if choice.isdigit()==True:\n",
    "            if int(choice) not in range(0,9):\n",
    "                print('Invalid input range')\n",
    "                choice = 'wrong'\n",
    "        else:\n",
    "            print('Please enter a number')\n",
    "    \n",
    "    return int(choice)\n",
    "    "
   ]
  },
  {
   "cell_type": "code",
   "execution_count": 5,
   "id": "3a8a12cb",
   "metadata": {},
   "outputs": [],
   "source": [
    "def player():\n",
    "    player1 = 100  #dummy value\n",
    "    while player1 not in ['X','O']:\n",
    "        player1 = input('Player 1 do you want to take X  or O')\n",
    "        if player1 not in ['X','O']:\n",
    "            print ('Enter valid output')\n",
    "    if player1=='X':\n",
    "        player2='O'\n",
    "    else:\n",
    "        player2='X'\n",
    "    return (player1,player2)\n",
    "    "
   ]
  },
  {
   "cell_type": "code",
   "execution_count": 6,
   "id": "6e9c3262",
   "metadata": {},
   "outputs": [],
   "source": [
    "def game_turn_on():\n",
    "    \n",
    "    print('Are you ready to play the game')\n",
    "    \n",
    "    ans = 'hello'\n",
    "    \n",
    "    while ans not in ['Y','N']:\n",
    "        \n",
    "        ans = input('Input Y for Yes and N for No')\n",
    "        \n",
    "        if ans not in ['Y','N']:\n",
    "            print ('enter valid input')\n",
    "    if ans == 'Y':\n",
    "        return True\n",
    "    else:\n",
    "        return False"
   ]
  },
  {
   "cell_type": "code",
   "execution_count": 7,
   "id": "cc145fac",
   "metadata": {},
   "outputs": [],
   "source": [
    "def modify(lst,choice,player_symbol):\n",
    "    \n",
    "    while not(lst[choice]==' '):\n",
    "        print('Already Occupied')\n",
    "        choice = user_input()\n",
    "    lst[choice]= player_symbol\n",
    "    return lst"
   ]
  },
  {
   "cell_type": "code",
   "execution_count": 26,
   "id": "73cf408b",
   "metadata": {},
   "outputs": [],
   "source": [
    "def Winning(lst,player_symbol):\n",
    "    for num in [0,3,6]:\n",
    "        if lst[num]==lst[num+1]==lst[num+2]==player_symbol:\n",
    "            return True\n",
    "    for num in [0,1,2]:\n",
    "        if lst[num]==lst[num+3]==lst[num+6]==player_symbol:\n",
    "            return True\n",
    "    if lst[0]==lst[4]==lst[8]==player_symbol or lst[2]==lst[4]==lst[6]==player_symbol:\n",
    "        return True\n",
    "    return False"
   ]
  },
  {
   "cell_type": "code",
   "execution_count": 9,
   "id": "383a7b9f",
   "metadata": {},
   "outputs": [],
   "source": [
    "def game_on():\n",
    "    \n",
    "    print('Do you want to continue playing the game')\n",
    "    \n",
    "    ans = 'hello'\n",
    "    \n",
    "    while ans not in ['Y','N']:\n",
    "        \n",
    "        ans = input('Input Y for Yes and N for No')\n",
    "        \n",
    "        if ans not in ['Y','N']:\n",
    "            print ('enter valid input')\n",
    "    if ans == 'Y':\n",
    "        return True\n",
    "    else:\n",
    "        return False"
   ]
  },
  {
   "cell_type": "code",
   "execution_count": 27,
   "id": "01afbcb8",
   "metadata": {},
   "outputs": [],
   "source": [
    "from IPython.display import clear_output\n",
    "def game():\n",
    "    print('Welcome to Tic Tac Toe')\n",
    "    gam = True\n",
    "    while gam:\n",
    "        var = game_turn_on()\n",
    "        lst = [' ',' ',' ',' ',' ',' ',' ',' ',' ']\n",
    "        if var:\n",
    "            player1,player2 = player()\n",
    "            while True:\n",
    "                clear_output()\n",
    "                display(lst)\n",
    "                print('Player 1 choice')\n",
    "                choice = user_input()\n",
    "                lst = modify(lst,choice,player1)\n",
    "                clear_output()\n",
    "                display(lst)\n",
    "                if Winning(lst,player1):\n",
    "                    print('Player 1 is the Winner')\n",
    "                    gam = game_on()\n",
    "                    break\n",
    "                print('player 2 choice')\n",
    "                choice = user_input()\n",
    "                lst = modify(lst,choice,player2)\n",
    "                clear_output()\n",
    "                display(lst)\n",
    "                if Winning(lst,player2):\n",
    "                    print('Player 2 is the Winner')\n",
    "                    gam = game_on\n",
    "                    break\n",
    "        else:\n",
    "            gam=False\n",
    "    print('Thanks for playing The game')\n",
    "    "
   ]
  },
  {
   "cell_type": "code",
   "execution_count": 28,
   "id": "ee893566",
   "metadata": {},
   "outputs": [
    {
     "name": "stdout",
     "output_type": "stream",
     "text": [
      " X | X | X \n",
      " O |   | O \n",
      "   |   |   \n",
      "Player 1 is the Winner\n",
      "Do you want to continue playing the game\n",
      "Input Y for Yes and N for NoN\n",
      "Thanks for playing The game\n"
     ]
    }
   ],
   "source": [
    "game()"
   ]
  },
  {
   "cell_type": "code",
   "execution_count": null,
   "id": "fe812fed",
   "metadata": {},
   "outputs": [],
   "source": []
  }
 ],
 "metadata": {
  "kernelspec": {
   "display_name": "Python 3 (ipykernel)",
   "language": "python",
   "name": "python3"
  },
  "language_info": {
   "codemirror_mode": {
    "name": "ipython",
    "version": 3
   },
   "file_extension": ".py",
   "mimetype": "text/x-python",
   "name": "python",
   "nbconvert_exporter": "python",
   "pygments_lexer": "ipython3",
   "version": "3.11.5"
  }
 },
 "nbformat": 4,
 "nbformat_minor": 5
}
