{
 "cells": [
  {
   "cell_type": "code",
   "execution_count": 3,
   "id": "eb99756e",
   "metadata": {},
   "outputs": [
    {
     "data": {
      "text/plain": [
       "'C:\\\\Users\\\\Nikhil\\\\Desktop\\\\Python\\\\Personal Notes\\\\Shell Utility and OS module'"
      ]
     },
     "execution_count": 3,
     "metadata": {},
     "output_type": "execute_result"
    }
   ],
   "source": [
    "pwd    #this is a command line code but works on notebook"
   ]
  },
  {
   "cell_type": "code",
   "execution_count": 2,
   "id": "b9eb08b7",
   "metadata": {},
   "outputs": [],
   "source": [
    "f = open('practice.txt','w+')\n",
    "f.write('This is an demo file')\n",
    "f.close()"
   ]
  },
  {
   "cell_type": "code",
   "execution_count": 4,
   "id": "123b08e5",
   "metadata": {},
   "outputs": [],
   "source": [
    "import os"
   ]
  },
  {
   "cell_type": "code",
   "execution_count": 6,
   "id": "655d1421",
   "metadata": {},
   "outputs": [
    {
     "data": {
      "text/plain": [
       "'C:\\\\Users\\\\Nikhil\\\\Desktop\\\\Python\\\\Personal Notes\\\\Shell Utility and OS module'"
      ]
     },
     "execution_count": 6,
     "metadata": {},
     "output_type": "execute_result"
    }
   ],
   "source": [
    "os.getcwd()   #get current working directory"
   ]
  },
  {
   "cell_type": "code",
   "execution_count": 7,
   "id": "13b0f304",
   "metadata": {},
   "outputs": [
    {
     "data": {
      "text/plain": [
       "['.ipynb_checkpoints', 'Files and Folders.ipynb', 'practice.txt']"
      ]
     },
     "execution_count": 7,
     "metadata": {},
     "output_type": "execute_result"
    }
   ],
   "source": [
    "os.listdir()"
   ]
  },
  {
   "cell_type": "code",
   "execution_count": 8,
   "id": "4666445b",
   "metadata": {},
   "outputs": [
    {
     "data": {
      "text/plain": [
       "['All Users', 'Default', 'Default User', 'desktop.ini', 'Nikhil', 'Public']"
      ]
     },
     "execution_count": 8,
     "metadata": {},
     "output_type": "execute_result"
    }
   ],
   "source": [
    "os.listdir('C:\\\\Users')"
   ]
  },
  {
   "cell_type": "code",
   "execution_count": 9,
   "id": "c371429f",
   "metadata": {},
   "outputs": [],
   "source": [
    "import shutil"
   ]
  },
  {
   "cell_type": "code",
   "execution_count": 10,
   "id": "7a51e68b",
   "metadata": {},
   "outputs": [
    {
     "data": {
      "text/plain": [
       "'C:\\\\Users\\\\Nikhil\\\\Desktop\\\\Python\\\\practice.txt'"
      ]
     },
     "execution_count": 10,
     "metadata": {},
     "output_type": "execute_result"
    }
   ],
   "source": [
    "shutil.move('practice.txt','C:\\\\Users\\\\Nikhil\\\\Desktop\\\\Python')"
   ]
  },
  {
   "cell_type": "code",
   "execution_count": 11,
   "id": "aab52197",
   "metadata": {},
   "outputs": [
    {
     "data": {
      "text/plain": [
       "['Lec Notes', 'Personal Notes', 'practice.txt']"
      ]
     },
     "execution_count": 11,
     "metadata": {},
     "output_type": "execute_result"
    }
   ],
   "source": [
    "os.listdir('C:\\\\Users\\\\Nikhil\\\\Desktop\\\\Python')"
   ]
  },
  {
   "cell_type": "code",
   "execution_count": 12,
   "id": "06c8e6da",
   "metadata": {},
   "outputs": [],
   "source": [
    "import send2trash   #sends file to recycle bin "
   ]
  },
  {
   "cell_type": "code",
   "execution_count": 13,
   "id": "77ebfa10",
   "metadata": {},
   "outputs": [],
   "source": [
    "send2trash.send2trash('C:\\\\Users\\\\Nikhil\\\\Desktop\\\\Python\\\\practice.txt')"
   ]
  },
  {
   "cell_type": "code",
   "execution_count": 14,
   "id": "37fb0c12",
   "metadata": {},
   "outputs": [
    {
     "data": {
      "text/plain": [
       "['Lec Notes', 'Personal Notes']"
      ]
     },
     "execution_count": 14,
     "metadata": {},
     "output_type": "execute_result"
    }
   ],
   "source": [
    "os.listdir('C:\\\\Users\\\\Nikhil\\\\Desktop\\\\Python')"
   ]
  },
  {
   "cell_type": "code",
   "execution_count": 15,
   "id": "7237372b",
   "metadata": {},
   "outputs": [
    {
     "data": {
      "text/plain": [
       "'C:\\\\Users\\\\Nikhil\\\\Desktop\\\\Python\\\\Personal Notes\\\\Shell Utility and OS module'"
      ]
     },
     "execution_count": 15,
     "metadata": {},
     "output_type": "execute_result"
    }
   ],
   "source": [
    "os.getcwd()"
   ]
  },
  {
   "cell_type": "code",
   "execution_count": 16,
   "id": "7534b7a8",
   "metadata": {},
   "outputs": [
    {
     "data": {
      "text/plain": [
       "['.ipynb_checkpoints', 'Example_Top_Level', 'Files and Folders.ipynb']"
      ]
     },
     "execution_count": 16,
     "metadata": {},
     "output_type": "execute_result"
    }
   ],
   "source": [
    "os.listdir()"
   ]
  },
  {
   "cell_type": "code",
   "execution_count": 23,
   "id": "3ecbc074",
   "metadata": {},
   "outputs": [],
   "source": [
    "path = 'C:\\\\Users\\\\Nikhil\\\\Desktop\\\\Python\\\\Personal Notes\\\\Shell Utility and OS module\\\\Example_Top_Level'"
   ]
  },
  {
   "cell_type": "code",
   "execution_count": 24,
   "id": "9048e423",
   "metadata": {},
   "outputs": [
    {
     "name": "stdout",
     "output_type": "stream",
     "text": [
      "Currently looking at C:\\Users\\Nikhil\\Desktop\\Python\\Personal Notes\\Shell Utility and OS module\\Example_Top_Level\n",
      "\n",
      "\n",
      "The subfolders are: \n",
      "Subfolder: Example_1\n",
      "Subfolder: Example_2\n",
      "\n",
      "\n",
      "file: Exam.txt\n",
      "\n",
      "\n",
      "Currently looking at C:\\Users\\Nikhil\\Desktop\\Python\\Personal Notes\\Shell Utility and OS module\\Example_Top_Level\\Example_1\n",
      "\n",
      "\n",
      "The subfolders are: \n",
      "Subfolder: Example_1A\n",
      "\n",
      "\n",
      "file: Exam1.txt\n",
      "\n",
      "\n",
      "Currently looking at C:\\Users\\Nikhil\\Desktop\\Python\\Personal Notes\\Shell Utility and OS module\\Example_Top_Level\\Example_1\\Example_1A\n",
      "\n",
      "\n",
      "The subfolders are: \n",
      "\n",
      "\n",
      "file: Exam.txt\n",
      "\n",
      "\n",
      "Currently looking at C:\\Users\\Nikhil\\Desktop\\Python\\Personal Notes\\Shell Utility and OS module\\Example_Top_Level\\Example_2\n",
      "\n",
      "\n",
      "The subfolders are: \n",
      "\n",
      "\n",
      "file: Exam11.txt\n",
      "file: Exam12.txt\n",
      "\n",
      "\n"
     ]
    }
   ],
   "source": [
    "for direct,folder,files in os.walk(path):\n",
    "    print(f\"Currently looking at {direct}\")\n",
    "    print('\\n')\n",
    "    print('The subfolders are: ')\n",
    "    for sub_folder in folder:\n",
    "        print(f'Subfolder: {sub_folder}')\n",
    "    print('\\n')\n",
    "    for file in files:\n",
    "        print(f'file: {file}')\n",
    "    print('\\n')"
   ]
  }
 ],
 "metadata": {
  "kernelspec": {
   "display_name": "Python 3 (ipykernel)",
   "language": "python",
   "name": "python3"
  },
  "language_info": {
   "codemirror_mode": {
    "name": "ipython",
    "version": 3
   },
   "file_extension": ".py",
   "mimetype": "text/x-python",
   "name": "python",
   "nbconvert_exporter": "python",
   "pygments_lexer": "ipython3",
   "version": "3.11.5"
  }
 },
 "nbformat": 4,
 "nbformat_minor": 5
}
