{
 "cells": [
  {
   "cell_type": "markdown",
   "id": "b3d41f5a",
   "metadata": {},
   "source": [
    "# Decorator"
   ]
  },
  {
   "cell_type": "code",
   "execution_count": 1,
   "id": "76b10e28",
   "metadata": {},
   "outputs": [],
   "source": [
    "def hello():\n",
    "    return 'Hello!'"
   ]
  },
  {
   "cell_type": "code",
   "execution_count": 2,
   "id": "b8f7f21e",
   "metadata": {},
   "outputs": [
    {
     "data": {
      "text/plain": [
       "'Hello!'"
      ]
     },
     "execution_count": 2,
     "metadata": {},
     "output_type": "execute_result"
    }
   ],
   "source": [
    "hello()"
   ]
  },
  {
   "cell_type": "code",
   "execution_count": 3,
   "id": "bc247580",
   "metadata": {},
   "outputs": [
    {
     "data": {
      "text/plain": [
       "<function __main__.hello()>"
      ]
     },
     "execution_count": 3,
     "metadata": {},
     "output_type": "execute_result"
    }
   ],
   "source": [
    "hello"
   ]
  },
  {
   "cell_type": "code",
   "execution_count": 7,
   "id": "5f1e9128",
   "metadata": {},
   "outputs": [],
   "source": [
    "greet = hello   #it makes greet point the function which hello is pointing"
   ]
  },
  {
   "cell_type": "code",
   "execution_count": 8,
   "id": "ecdcc587",
   "metadata": {},
   "outputs": [
    {
     "data": {
      "text/plain": [
       "<function __main__.hello()>"
      ]
     },
     "execution_count": 8,
     "metadata": {},
     "output_type": "execute_result"
    }
   ],
   "source": [
    "greet"
   ]
  },
  {
   "cell_type": "code",
   "execution_count": 9,
   "id": "70f33de1",
   "metadata": {},
   "outputs": [
    {
     "data": {
      "text/plain": [
       "'Hello!'"
      ]
     },
     "execution_count": 9,
     "metadata": {},
     "output_type": "execute_result"
    }
   ],
   "source": [
    "greet()"
   ]
  },
  {
   "cell_type": "code",
   "execution_count": 10,
   "id": "82cb1cef",
   "metadata": {},
   "outputs": [],
   "source": [
    "del hello  #hello doesn't point the function anymore"
   ]
  },
  {
   "cell_type": "code",
   "execution_count": 11,
   "id": "54260ac1",
   "metadata": {},
   "outputs": [
    {
     "ename": "NameError",
     "evalue": "name 'hello' is not defined",
     "output_type": "error",
     "traceback": [
      "\u001b[1;31m---------------------------------------------------------------------------\u001b[0m",
      "\u001b[1;31mNameError\u001b[0m                                 Traceback (most recent call last)",
      "Cell \u001b[1;32mIn[11], line 1\u001b[0m\n\u001b[1;32m----> 1\u001b[0m hello()\n",
      "\u001b[1;31mNameError\u001b[0m: name 'hello' is not defined"
     ]
    }
   ],
   "source": [
    "hello()"
   ]
  },
  {
   "cell_type": "code",
   "execution_count": 12,
   "id": "db0ae19f",
   "metadata": {},
   "outputs": [
    {
     "data": {
      "text/plain": [
       "'Hello!'"
      ]
     },
     "execution_count": 12,
     "metadata": {},
     "output_type": "execute_result"
    }
   ],
   "source": [
    "greet()"
   ]
  },
  {
   "cell_type": "code",
   "execution_count": 13,
   "id": "45981331",
   "metadata": {},
   "outputs": [
    {
     "data": {
      "text/plain": [
       "<function __main__.hello()>"
      ]
     },
     "execution_count": 13,
     "metadata": {},
     "output_type": "execute_result"
    }
   ],
   "source": [
    "greet"
   ]
  },
  {
   "cell_type": "code",
   "execution_count": 17,
   "id": "9f28b2e1",
   "metadata": {},
   "outputs": [],
   "source": [
    "def hello(name = 'yash'):\n",
    "    \n",
    "    print('The function hello() has been executed')\n",
    "    \n",
    "    def greeting():\n",
    "        return '\\tThis is the greeting() function inside hello()'\n",
    "    "
   ]
  },
  {
   "cell_type": "code",
   "execution_count": 18,
   "id": "1e490647",
   "metadata": {},
   "outputs": [
    {
     "name": "stdout",
     "output_type": "stream",
     "text": [
      "The function hello() has been executed\n"
     ]
    }
   ],
   "source": [
    "hello()"
   ]
  },
  {
   "cell_type": "code",
   "execution_count": 19,
   "id": "77d0a224",
   "metadata": {},
   "outputs": [
    {
     "ename": "NameError",
     "evalue": "name 'greeting' is not defined",
     "output_type": "error",
     "traceback": [
      "\u001b[1;31m---------------------------------------------------------------------------\u001b[0m",
      "\u001b[1;31mNameError\u001b[0m                                 Traceback (most recent call last)",
      "Cell \u001b[1;32mIn[19], line 1\u001b[0m\n\u001b[1;32m----> 1\u001b[0m greeting()\n",
      "\u001b[1;31mNameError\u001b[0m: name 'greeting' is not defined"
     ]
    }
   ],
   "source": [
    "greeting()  #it can not be called from outside the main function(hello)"
   ]
  },
  {
   "cell_type": "code",
   "execution_count": 20,
   "id": "8dc3293e",
   "metadata": {},
   "outputs": [],
   "source": [
    "def hello(name = 'yash'):\n",
    "    \n",
    "    print('The function hello() has been executed')\n",
    "    \n",
    "    def greeting():   #it has scope within hello() only\n",
    "        return '\\tThis is the greeting() function inside hello()'\n",
    "    print(greeting())"
   ]
  },
  {
   "cell_type": "code",
   "execution_count": 21,
   "id": "8cbd70a4",
   "metadata": {},
   "outputs": [
    {
     "name": "stdout",
     "output_type": "stream",
     "text": [
      "The function hello() has been executed\n",
      "\tThis is the greeting() function inside hello()\n"
     ]
    }
   ],
   "source": [
    "hello()"
   ]
  },
  {
   "cell_type": "code",
   "execution_count": 22,
   "id": "978864ba",
   "metadata": {},
   "outputs": [],
   "source": [
    "#if we want to use inside function then we can return it \n",
    "def hello(name = 'yash'):\n",
    "    \n",
    "    print('The function hello() has been executed')\n",
    "    \n",
    "    def greeting():   \n",
    "        return '\\tThis is the greeting() function inside hello()'\n",
    "    \n",
    "    def welcome():\n",
    "        return '\\tHeyy welcome mann'\n",
    "    \n",
    "    if name=='yash':\n",
    "        return greeting\n",
    "    else:\n",
    "        return welcome"
   ]
  },
  {
   "cell_type": "code",
   "execution_count": 26,
   "id": "3d6d117e",
   "metadata": {},
   "outputs": [
    {
     "name": "stdout",
     "output_type": "stream",
     "text": [
      "The function hello() has been executed\n",
      "The function hello() has been executed\n"
     ]
    }
   ],
   "source": [
    "my_inside_func1 = hello()\n",
    "my_inside_func2 = hello('Nik')"
   ]
  },
  {
   "cell_type": "code",
   "execution_count": 27,
   "id": "556a557a",
   "metadata": {},
   "outputs": [
    {
     "name": "stdout",
     "output_type": "stream",
     "text": [
      "\tThis is the greeting() function inside hello()\n",
      "\tHeyy welcome mann\n"
     ]
    }
   ],
   "source": [
    "print(my_inside_func1())\n",
    "print(my_inside_func2())"
   ]
  },
  {
   "cell_type": "code",
   "execution_count": 29,
   "id": "0d17eba8",
   "metadata": {},
   "outputs": [
    {
     "data": {
      "text/plain": [
       "<function __main__.hello.<locals>.greeting()>"
      ]
     },
     "execution_count": 29,
     "metadata": {},
     "output_type": "execute_result"
    }
   ],
   "source": [
    "my_inside_func1"
   ]
  },
  {
   "cell_type": "code",
   "execution_count": 30,
   "id": "77590021",
   "metadata": {},
   "outputs": [
    {
     "data": {
      "text/plain": [
       "<function __main__.hello.<locals>.welcome()>"
      ]
     },
     "execution_count": 30,
     "metadata": {},
     "output_type": "execute_result"
    }
   ],
   "source": [
    "my_inside_func2"
   ]
  },
  {
   "cell_type": "code",
   "execution_count": 31,
   "id": "3222a2aa",
   "metadata": {},
   "outputs": [],
   "source": [
    "#we can pass function in to another function as argument"
   ]
  },
  {
   "cell_type": "code",
   "execution_count": 32,
   "id": "bfd50b85",
   "metadata": {},
   "outputs": [],
   "source": [
    "def hi():\n",
    "    return 'hello nik how u r'"
   ]
  },
  {
   "cell_type": "code",
   "execution_count": 33,
   "id": "76c3cf4a",
   "metadata": {},
   "outputs": [],
   "source": [
    "def other(some_other_func):\n",
    "    print('piece of code before func')\n",
    "    print(some_other_func())\n",
    "    print('piece of code after func')"
   ]
  },
  {
   "cell_type": "code",
   "execution_count": 35,
   "id": "b2e9e79c",
   "metadata": {},
   "outputs": [
    {
     "data": {
      "text/plain": [
       "'hello nik how u r'"
      ]
     },
     "execution_count": 35,
     "metadata": {},
     "output_type": "execute_result"
    }
   ],
   "source": [
    "hi()"
   ]
  },
  {
   "cell_type": "code",
   "execution_count": 36,
   "id": "e7cde1ff",
   "metadata": {},
   "outputs": [
    {
     "name": "stdout",
     "output_type": "stream",
     "text": [
      "piece of code before func\n",
      "hello nik how u r\n",
      "piece of code after func\n"
     ]
    }
   ],
   "source": [
    "other(hi)"
   ]
  },
  {
   "cell_type": "code",
   "execution_count": 37,
   "id": "0925c9d0",
   "metadata": {},
   "outputs": [],
   "source": [
    "#this is how a decorator is created\n",
    "def new_decorator(some_function):\n",
    "    \n",
    "    def wrap_function():\n",
    "        \n",
    "        print('Some extra code before main function')\n",
    "        \n",
    "        some_function()\n",
    "        \n",
    "        print('Some extra code after main function')\n",
    "        \n",
    "    return wrap_function"
   ]
  },
  {
   "cell_type": "code",
   "execution_count": 38,
   "id": "e2c9609c",
   "metadata": {},
   "outputs": [],
   "source": [
    "def func_needs_to_be_decorated():\n",
    "    print('I want to be decorated')"
   ]
  },
  {
   "cell_type": "code",
   "execution_count": 39,
   "id": "88a56ae4",
   "metadata": {},
   "outputs": [
    {
     "name": "stdout",
     "output_type": "stream",
     "text": [
      "I want to be decorated\n"
     ]
    }
   ],
   "source": [
    "func_needs_to_be_decorated()"
   ]
  },
  {
   "cell_type": "code",
   "execution_count": 40,
   "id": "403d5650",
   "metadata": {},
   "outputs": [],
   "source": [
    "decorated_func = new_decorator(func_needs_to_be_decorated) "
   ]
  },
  {
   "cell_type": "code",
   "execution_count": 41,
   "id": "c5a7148d",
   "metadata": {},
   "outputs": [
    {
     "name": "stdout",
     "output_type": "stream",
     "text": [
      "Some extra code before main function\n",
      "I want to be decorated\n",
      "Some extra code after main function\n"
     ]
    }
   ],
   "source": [
    "decorated_func()"
   ]
  },
  {
   "cell_type": "code",
   "execution_count": 45,
   "id": "674826c0",
   "metadata": {},
   "outputs": [],
   "source": [
    "#instead of using such long process we can use @\n",
    "@new_decorator\n",
    "def func_needs_to_be_decorated():\n",
    "     print('I want to be decorated')"
   ]
  },
  {
   "cell_type": "code",
   "execution_count": 46,
   "id": "1207bf84",
   "metadata": {},
   "outputs": [
    {
     "name": "stdout",
     "output_type": "stream",
     "text": [
      "Some extra code before main function\n",
      "I want to be decorated\n",
      "Some extra code after main function\n"
     ]
    }
   ],
   "source": [
    "#now if we call the func_needs_to_be_decorated() we will get the modified function\n",
    "func_needs_to_be_decorated()"
   ]
  },
  {
   "cell_type": "code",
   "execution_count": 50,
   "id": "7f6182d4",
   "metadata": {},
   "outputs": [],
   "source": [
    "#if we comment out the @---- then we get the regular function\n",
    "#therefore it acts as a on/off switch "
   ]
  },
  {
   "cell_type": "markdown",
   "id": "1c4f79e5",
   "metadata": {},
   "source": [
    "# Generators"
   ]
  },
  {
   "cell_type": "code",
   "execution_count": 51,
   "id": "4e2082d2",
   "metadata": {},
   "outputs": [],
   "source": [
    "def create_cubes(n):\n",
    "    result = []\n",
    "    for x in range(n):              #this function will calculate all the cubes once called and  \n",
    "        result.append(x**3)         #return list containing the result, this will cause more space  \n",
    "    return result"
   ]
  },
  {
   "cell_type": "code",
   "execution_count": 52,
   "id": "40d8f5ec",
   "metadata": {},
   "outputs": [
    {
     "data": {
      "text/plain": [
       "[0, 1, 8, 27, 64, 125, 216, 343, 512, 729]"
      ]
     },
     "execution_count": 52,
     "metadata": {},
     "output_type": "execute_result"
    }
   ],
   "source": [
    "create_cubes(10)  "
   ]
  },
  {
   "cell_type": "code",
   "execution_count": 53,
   "id": "7c06a504",
   "metadata": {},
   "outputs": [
    {
     "name": "stdout",
     "output_type": "stream",
     "text": [
      "0\n",
      "1\n",
      "8\n",
      "27\n",
      "64\n",
      "125\n",
      "216\n",
      "343\n",
      "512\n",
      "729\n"
     ]
    }
   ],
   "source": [
    "for x in create_cubes(10):\n",
    "    print(x)"
   ]
  },
  {
   "cell_type": "code",
   "execution_count": 54,
   "id": "38923dce",
   "metadata": {},
   "outputs": [],
   "source": [
    "#instead we can use generators i.e use yeild keyword instead of return\n",
    "#yeild returns one value at a time and remembers last output for generation of next value when called \n",
    "#later\n",
    "#generator does not return a single value instead give an object which support iteration protocol\n",
    "def create_cubes(n):\n",
    "    for x in range(n): \n",
    "        yield x**3"
   ]
  },
  {
   "cell_type": "code",
   "execution_count": 55,
   "id": "06494798",
   "metadata": {},
   "outputs": [
    {
     "name": "stdout",
     "output_type": "stream",
     "text": [
      "0\n",
      "1\n",
      "8\n",
      "27\n",
      "64\n",
      "125\n",
      "216\n",
      "343\n",
      "512\n",
      "729\n"
     ]
    }
   ],
   "source": [
    "for x in create_cubes(10):\n",
    "    print(x)"
   ]
  },
  {
   "cell_type": "code",
   "execution_count": 56,
   "id": "a3fff353",
   "metadata": {},
   "outputs": [
    {
     "data": {
      "text/plain": [
       "<generator object create_cubes at 0x0000022B2E69E740>"
      ]
     },
     "execution_count": 56,
     "metadata": {},
     "output_type": "execute_result"
    }
   ],
   "source": [
    "create_cubes(10)"
   ]
  },
  {
   "cell_type": "code",
   "execution_count": 57,
   "id": "067d4226",
   "metadata": {},
   "outputs": [
    {
     "data": {
      "text/plain": [
       "[0, 1, 8, 27, 64]"
      ]
     },
     "execution_count": 57,
     "metadata": {},
     "output_type": "execute_result"
    }
   ],
   "source": [
    "list(create_cubes(5))"
   ]
  },
  {
   "cell_type": "code",
   "execution_count": 61,
   "id": "57c8c251",
   "metadata": {},
   "outputs": [],
   "source": [
    "def gen_fibo(n):\n",
    "    a = 0\n",
    "    b = 1\n",
    "    for x in range(n):\n",
    "        yield a\n",
    "        a,b=b,a+b    #this is an efficient method of assignment as we do not need temporary variable\n"
   ]
  },
  {
   "cell_type": "code",
   "execution_count": 62,
   "id": "20629b0a",
   "metadata": {},
   "outputs": [
    {
     "data": {
      "text/plain": [
       "[0, 1, 1, 2, 3]"
      ]
     },
     "execution_count": 62,
     "metadata": {},
     "output_type": "execute_result"
    }
   ],
   "source": [
    "list(gen_fibo(5))"
   ]
  },
  {
   "cell_type": "markdown",
   "id": "b953baed",
   "metadata": {},
   "source": [
    "###### next and iter keyword"
   ]
  },
  {
   "cell_type": "code",
   "execution_count": 63,
   "id": "09df0e54",
   "metadata": {},
   "outputs": [],
   "source": [
    "def simple_gene():\n",
    "    for x in range(4):\n",
    "        yield x"
   ]
  },
  {
   "cell_type": "code",
   "execution_count": 65,
   "id": "b0327a01",
   "metadata": {},
   "outputs": [
    {
     "name": "stdout",
     "output_type": "stream",
     "text": [
      "0\n",
      "1\n",
      "2\n",
      "3\n"
     ]
    }
   ],
   "source": [
    "for x in simple_gene():\n",
    "    print (x)"
   ]
  },
  {
   "cell_type": "code",
   "execution_count": 66,
   "id": "a1b54efb",
   "metadata": {},
   "outputs": [],
   "source": [
    "g = simple_gene()  #note the ()"
   ]
  },
  {
   "cell_type": "code",
   "execution_count": 67,
   "id": "51c88b37",
   "metadata": {},
   "outputs": [
    {
     "data": {
      "text/plain": [
       "<generator object simple_gene at 0x0000022B2FC20380>"
      ]
     },
     "execution_count": 67,
     "metadata": {},
     "output_type": "execute_result"
    }
   ],
   "source": [
    "g"
   ]
  },
  {
   "cell_type": "code",
   "execution_count": 68,
   "id": "2c299441",
   "metadata": {},
   "outputs": [
    {
     "data": {
      "text/plain": [
       "0"
      ]
     },
     "execution_count": 68,
     "metadata": {},
     "output_type": "execute_result"
    }
   ],
   "source": [
    "next(g)"
   ]
  },
  {
   "cell_type": "code",
   "execution_count": 69,
   "id": "e7217e61",
   "metadata": {},
   "outputs": [
    {
     "data": {
      "text/plain": [
       "1"
      ]
     },
     "execution_count": 69,
     "metadata": {},
     "output_type": "execute_result"
    }
   ],
   "source": [
    "next(g)"
   ]
  },
  {
   "cell_type": "code",
   "execution_count": 70,
   "id": "a5ae9bda",
   "metadata": {},
   "outputs": [
    {
     "data": {
      "text/plain": [
       "2"
      ]
     },
     "execution_count": 70,
     "metadata": {},
     "output_type": "execute_result"
    }
   ],
   "source": [
    "next(g)"
   ]
  },
  {
   "cell_type": "code",
   "execution_count": 71,
   "id": "3e7ff054",
   "metadata": {},
   "outputs": [
    {
     "data": {
      "text/plain": [
       "3"
      ]
     },
     "execution_count": 71,
     "metadata": {},
     "output_type": "execute_result"
    }
   ],
   "source": [
    "next(g)"
   ]
  },
  {
   "cell_type": "code",
   "execution_count": 73,
   "id": "b0977f31",
   "metadata": {},
   "outputs": [
    {
     "ename": "StopIteration",
     "evalue": "",
     "output_type": "error",
     "traceback": [
      "\u001b[1;31m---------------------------------------------------------------------------\u001b[0m",
      "\u001b[1;31mStopIteration\u001b[0m                             Traceback (most recent call last)",
      "Cell \u001b[1;32mIn[73], line 1\u001b[0m\n\u001b[1;32m----> 1\u001b[0m \u001b[38;5;28mnext\u001b[39m(g)\n",
      "\u001b[1;31mStopIteration\u001b[0m: "
     ]
    }
   ],
   "source": [
    "next(g)  #internally the for loop calls the next function only but it stops automatically after this \n",
    "         #error"
   ]
  },
  {
   "cell_type": "code",
   "execution_count": 74,
   "id": "7c727101",
   "metadata": {},
   "outputs": [],
   "source": [
    "s = 'Hello'"
   ]
  },
  {
   "cell_type": "code",
   "execution_count": 75,
   "id": "31ff882c",
   "metadata": {},
   "outputs": [
    {
     "name": "stdout",
     "output_type": "stream",
     "text": [
      "H\n",
      "e\n",
      "l\n",
      "l\n",
      "o\n"
     ]
    }
   ],
   "source": [
    "for x in s:\n",
    "    print(x)"
   ]
  },
  {
   "cell_type": "code",
   "execution_count": 76,
   "id": "b79ec26f",
   "metadata": {},
   "outputs": [
    {
     "ename": "TypeError",
     "evalue": "'str' object is not an iterator",
     "output_type": "error",
     "traceback": [
      "\u001b[1;31m---------------------------------------------------------------------------\u001b[0m",
      "\u001b[1;31mTypeError\u001b[0m                                 Traceback (most recent call last)",
      "Cell \u001b[1;32mIn[76], line 1\u001b[0m\n\u001b[1;32m----> 1\u001b[0m \u001b[38;5;28mnext\u001b[39m(s)\n",
      "\u001b[1;31mTypeError\u001b[0m: 'str' object is not an iterator"
     ]
    }
   ],
   "source": [
    "next(s)"
   ]
  },
  {
   "cell_type": "code",
   "execution_count": 77,
   "id": "ae42d249",
   "metadata": {},
   "outputs": [],
   "source": [
    "#we can convert it into an iterator object by using the iter() method\n",
    "s_new = iter(s)"
   ]
  },
  {
   "cell_type": "code",
   "execution_count": 78,
   "id": "98521355",
   "metadata": {},
   "outputs": [
    {
     "data": {
      "text/plain": [
       "'H'"
      ]
     },
     "execution_count": 78,
     "metadata": {},
     "output_type": "execute_result"
    }
   ],
   "source": [
    "next(s_new)"
   ]
  },
  {
   "cell_type": "code",
   "execution_count": 79,
   "id": "66cbf579",
   "metadata": {},
   "outputs": [
    {
     "data": {
      "text/plain": [
       "'e'"
      ]
     },
     "execution_count": 79,
     "metadata": {},
     "output_type": "execute_result"
    }
   ],
   "source": [
    "next(s_new)"
   ]
  },
  {
   "cell_type": "code",
   "execution_count": 80,
   "id": "197cf72a",
   "metadata": {},
   "outputs": [
    {
     "data": {
      "text/plain": [
       "'l'"
      ]
     },
     "execution_count": 80,
     "metadata": {},
     "output_type": "execute_result"
    }
   ],
   "source": [
    "next(s_new)"
   ]
  },
  {
   "cell_type": "code",
   "execution_count": 81,
   "id": "8d0e0d63",
   "metadata": {},
   "outputs": [
    {
     "data": {
      "text/plain": [
       "'l'"
      ]
     },
     "execution_count": 81,
     "metadata": {},
     "output_type": "execute_result"
    }
   ],
   "source": [
    "next(s_new)"
   ]
  },
  {
   "cell_type": "code",
   "execution_count": null,
   "id": "e7b1109b",
   "metadata": {},
   "outputs": [],
   "source": []
  }
 ],
 "metadata": {
  "kernelspec": {
   "display_name": "Python 3 (ipykernel)",
   "language": "python",
   "name": "python3"
  },
  "language_info": {
   "codemirror_mode": {
    "name": "ipython",
    "version": 3
   },
   "file_extension": ".py",
   "mimetype": "text/x-python",
   "name": "python",
   "nbconvert_exporter": "python",
   "pygments_lexer": "ipython3",
   "version": "3.11.5"
  }
 },
 "nbformat": 4,
 "nbformat_minor": 5
}
